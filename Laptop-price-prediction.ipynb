{
 "cells": [
  {
   "cell_type": "markdown",
   "id": "ab34482b",
   "metadata": {},
   "source": [
    "## Verilerin Temizlenmesi"
   ]
  },
  {
   "cell_type": "code",
   "execution_count": 1,
   "id": "3a7e7a11",
   "metadata": {},
   "outputs": [],
   "source": [
    "import numpy as np \n",
    "import pandas as pd\n",
    "import warnings\n",
    "warnings.filterwarnings('ignore')"
   ]
  },
  {
   "cell_type": "code",
   "execution_count": 4,
   "id": "21b30850",
   "metadata": {},
   "outputs": [
    {
     "data": {
      "text/html": [
       "<div>\n",
       "<style scoped>\n",
       "    .dataframe tbody tr th:only-of-type {\n",
       "        vertical-align: middle;\n",
       "    }\n",
       "\n",
       "    .dataframe tbody tr th {\n",
       "        vertical-align: top;\n",
       "    }\n",
       "\n",
       "    .dataframe thead th {\n",
       "        text-align: right;\n",
       "    }\n",
       "</style>\n",
       "<table border=\"1\" class=\"dataframe\">\n",
       "  <thead>\n",
       "    <tr style=\"text-align: right;\">\n",
       "      <th></th>\n",
       "      <th>laptop_ID</th>\n",
       "      <th>Company</th>\n",
       "      <th>Product</th>\n",
       "      <th>TypeName</th>\n",
       "      <th>Inches</th>\n",
       "      <th>ScreenResolution</th>\n",
       "      <th>Cpu</th>\n",
       "      <th>Ram</th>\n",
       "      <th>Memory</th>\n",
       "      <th>Gpu</th>\n",
       "      <th>OpSys</th>\n",
       "      <th>Weight</th>\n",
       "      <th>Price_euros</th>\n",
       "    </tr>\n",
       "  </thead>\n",
       "  <tbody>\n",
       "    <tr>\n",
       "      <th>0</th>\n",
       "      <td>1</td>\n",
       "      <td>Apple</td>\n",
       "      <td>MacBook Pro</td>\n",
       "      <td>Ultrabook</td>\n",
       "      <td>13.3</td>\n",
       "      <td>IPS Panel Retina Display 2560x1600</td>\n",
       "      <td>Intel Core i5 2.3GHz</td>\n",
       "      <td>8GB</td>\n",
       "      <td>128GB SSD</td>\n",
       "      <td>Intel Iris Plus Graphics 640</td>\n",
       "      <td>macOS</td>\n",
       "      <td>1.37kg</td>\n",
       "      <td>1339.69</td>\n",
       "    </tr>\n",
       "    <tr>\n",
       "      <th>1</th>\n",
       "      <td>2</td>\n",
       "      <td>Apple</td>\n",
       "      <td>Macbook Air</td>\n",
       "      <td>Ultrabook</td>\n",
       "      <td>13.3</td>\n",
       "      <td>1440x900</td>\n",
       "      <td>Intel Core i5 1.8GHz</td>\n",
       "      <td>8GB</td>\n",
       "      <td>128GB Flash Storage</td>\n",
       "      <td>Intel HD Graphics 6000</td>\n",
       "      <td>macOS</td>\n",
       "      <td>1.34kg</td>\n",
       "      <td>898.94</td>\n",
       "    </tr>\n",
       "    <tr>\n",
       "      <th>2</th>\n",
       "      <td>3</td>\n",
       "      <td>HP</td>\n",
       "      <td>250 G6</td>\n",
       "      <td>Notebook</td>\n",
       "      <td>15.6</td>\n",
       "      <td>Full HD 1920x1080</td>\n",
       "      <td>Intel Core i5 7200U 2.5GHz</td>\n",
       "      <td>8GB</td>\n",
       "      <td>256GB SSD</td>\n",
       "      <td>Intel HD Graphics 620</td>\n",
       "      <td>No OS</td>\n",
       "      <td>1.86kg</td>\n",
       "      <td>575.00</td>\n",
       "    </tr>\n",
       "    <tr>\n",
       "      <th>3</th>\n",
       "      <td>4</td>\n",
       "      <td>Apple</td>\n",
       "      <td>MacBook Pro</td>\n",
       "      <td>Ultrabook</td>\n",
       "      <td>15.4</td>\n",
       "      <td>IPS Panel Retina Display 2880x1800</td>\n",
       "      <td>Intel Core i7 2.7GHz</td>\n",
       "      <td>16GB</td>\n",
       "      <td>512GB SSD</td>\n",
       "      <td>AMD Radeon Pro 455</td>\n",
       "      <td>macOS</td>\n",
       "      <td>1.83kg</td>\n",
       "      <td>2537.45</td>\n",
       "    </tr>\n",
       "    <tr>\n",
       "      <th>4</th>\n",
       "      <td>5</td>\n",
       "      <td>Apple</td>\n",
       "      <td>MacBook Pro</td>\n",
       "      <td>Ultrabook</td>\n",
       "      <td>13.3</td>\n",
       "      <td>IPS Panel Retina Display 2560x1600</td>\n",
       "      <td>Intel Core i5 3.1GHz</td>\n",
       "      <td>8GB</td>\n",
       "      <td>256GB SSD</td>\n",
       "      <td>Intel Iris Plus Graphics 650</td>\n",
       "      <td>macOS</td>\n",
       "      <td>1.37kg</td>\n",
       "      <td>1803.60</td>\n",
       "    </tr>\n",
       "  </tbody>\n",
       "</table>\n",
       "</div>"
      ],
      "text/plain": [
       "   laptop_ID Company      Product   TypeName  Inches  \\\n",
       "0          1   Apple  MacBook Pro  Ultrabook    13.3   \n",
       "1          2   Apple  Macbook Air  Ultrabook    13.3   \n",
       "2          3      HP       250 G6   Notebook    15.6   \n",
       "3          4   Apple  MacBook Pro  Ultrabook    15.4   \n",
       "4          5   Apple  MacBook Pro  Ultrabook    13.3   \n",
       "\n",
       "                     ScreenResolution                         Cpu   Ram  \\\n",
       "0  IPS Panel Retina Display 2560x1600        Intel Core i5 2.3GHz   8GB   \n",
       "1                            1440x900        Intel Core i5 1.8GHz   8GB   \n",
       "2                   Full HD 1920x1080  Intel Core i5 7200U 2.5GHz   8GB   \n",
       "3  IPS Panel Retina Display 2880x1800        Intel Core i7 2.7GHz  16GB   \n",
       "4  IPS Panel Retina Display 2560x1600        Intel Core i5 3.1GHz   8GB   \n",
       "\n",
       "                Memory                           Gpu  OpSys  Weight  \\\n",
       "0            128GB SSD  Intel Iris Plus Graphics 640  macOS  1.37kg   \n",
       "1  128GB Flash Storage        Intel HD Graphics 6000  macOS  1.34kg   \n",
       "2            256GB SSD         Intel HD Graphics 620  No OS  1.86kg   \n",
       "3            512GB SSD            AMD Radeon Pro 455  macOS  1.83kg   \n",
       "4            256GB SSD  Intel Iris Plus Graphics 650  macOS  1.37kg   \n",
       "\n",
       "   Price_euros  \n",
       "0      1339.69  \n",
       "1       898.94  \n",
       "2       575.00  \n",
       "3      2537.45  \n",
       "4      1803.60  "
      ]
     },
     "execution_count": 4,
     "metadata": {},
     "output_type": "execute_result"
    }
   ],
   "source": [
    "df = pd.read_csv('laptop_price.csv' , encoding=\"ISO-8859-1\")\n",
    "df.head()"
   ]
  },
  {
   "cell_type": "code",
   "execution_count": 5,
   "id": "03fa4e23",
   "metadata": {},
   "outputs": [
    {
     "data": {
      "text/plain": [
       "(1303, 13)"
      ]
     },
     "execution_count": 5,
     "metadata": {},
     "output_type": "execute_result"
    }
   ],
   "source": [
    "df.shape"
   ]
  },
  {
   "cell_type": "code",
   "execution_count": 6,
   "id": "a2751af5",
   "metadata": {},
   "outputs": [
    {
     "name": "stdout",
     "output_type": "stream",
     "text": [
      "<class 'pandas.core.frame.DataFrame'>\n",
      "RangeIndex: 1303 entries, 0 to 1302\n",
      "Data columns (total 13 columns):\n",
      " #   Column            Non-Null Count  Dtype  \n",
      "---  ------            --------------  -----  \n",
      " 0   laptop_ID         1303 non-null   int64  \n",
      " 1   Company           1303 non-null   object \n",
      " 2   Product           1303 non-null   object \n",
      " 3   TypeName          1303 non-null   object \n",
      " 4   Inches            1303 non-null   float64\n",
      " 5   ScreenResolution  1303 non-null   object \n",
      " 6   Cpu               1303 non-null   object \n",
      " 7   Ram               1303 non-null   object \n",
      " 8   Memory            1303 non-null   object \n",
      " 9   Gpu               1303 non-null   object \n",
      " 10  OpSys             1303 non-null   object \n",
      " 11  Weight            1303 non-null   object \n",
      " 12  Price_euros       1303 non-null   float64\n",
      "dtypes: float64(2), int64(1), object(10)\n",
      "memory usage: 132.5+ KB\n"
     ]
    }
   ],
   "source": [
    "df.info()"
   ]
  },
  {
   "cell_type": "code",
   "execution_count": 7,
   "id": "9e6b8080",
   "metadata": {},
   "outputs": [
    {
     "data": {
      "text/plain": [
       "0"
      ]
     },
     "execution_count": 7,
     "metadata": {},
     "output_type": "execute_result"
    }
   ],
   "source": [
    "df.duplicated().sum() #Tekrar eden veri var mı kontrolü"
   ]
  },
  {
   "cell_type": "code",
   "execution_count": 8,
   "id": "c12da295",
   "metadata": {},
   "outputs": [
    {
     "data": {
      "text/plain": [
       "laptop_ID           0\n",
       "Company             0\n",
       "Product             0\n",
       "TypeName            0\n",
       "Inches              0\n",
       "ScreenResolution    0\n",
       "Cpu                 0\n",
       "Ram                 0\n",
       "Memory              0\n",
       "Gpu                 0\n",
       "OpSys               0\n",
       "Weight              0\n",
       "Price_euros         0\n",
       "dtype: int64"
      ]
     },
     "execution_count": 8,
     "metadata": {},
     "output_type": "execute_result"
    }
   ],
   "source": [
    "df.isnull().sum()  #Boş - Null veri var mı kontrolü"
   ]
  },
  {
   "cell_type": "code",
   "execution_count": 10,
   "id": "52eaeed2",
   "metadata": {},
   "outputs": [],
   "source": [
    "df = df.rename(columns=str.lower) #Sütunların isimlerinin küçük harfe çevrilmesi (laptop_ID -> laptop_id)"
   ]
  },
  {
   "cell_type": "code",
   "execution_count": 11,
   "id": "811f2945",
   "metadata": {},
   "outputs": [
    {
     "data": {
      "text/plain": [
       "Index(['laptop_id', 'company', 'product', 'typename', 'inches',\n",
       "       'screenresolution', 'cpu', 'ram', 'memory', 'gpu', 'opsys', 'weight',\n",
       "       'price_euros'],\n",
       "      dtype='object')"
      ]
     },
     "execution_count": 11,
     "metadata": {},
     "output_type": "execute_result"
    }
   ],
   "source": [
    "df.columns"
   ]
  },
  {
   "cell_type": "code",
   "execution_count": 12,
   "id": "9482341a",
   "metadata": {},
   "outputs": [],
   "source": [
    "df = df.drop('laptop_id', axis = 1) #Genellikle id kavramı veritabanı için kullanıldığından veri analizinde modele bir katkı sağlamaz\n",
    "# ve belleği yormaması için kaldırılır."
   ]
  },
  {
   "cell_type": "markdown",
   "id": "50d7bbb8",
   "metadata": {},
   "source": [
    "### RAM"
   ]
  },
  {
   "cell_type": "code",
   "execution_count": 13,
   "id": "b04b7309",
   "metadata": {},
   "outputs": [
    {
     "data": {
      "text/plain": [
       "0        8GB\n",
       "1        8GB\n",
       "2        8GB\n",
       "3       16GB\n",
       "4        8GB\n",
       "        ... \n",
       "1298     4GB\n",
       "1299    16GB\n",
       "1300     2GB\n",
       "1301     6GB\n",
       "1302     4GB\n",
       "Name: ram, Length: 1303, dtype: object"
      ]
     },
     "execution_count": 13,
     "metadata": {},
     "output_type": "execute_result"
    }
   ],
   "source": [
    "df['ram'] "
   ]
  },
  {
   "cell_type": "code",
   "execution_count": 14,
   "id": "028921f5",
   "metadata": {},
   "outputs": [],
   "source": [
    "df['ram'] = df['ram'].str.replace('GB','') "
   ]
  },
  {
   "cell_type": "code",
   "execution_count": 15,
   "id": "7942f428",
   "metadata": {},
   "outputs": [],
   "source": [
    "df.rename(columns = {'ram':'ram(GB)'}, inplace = True) "
   ]
  },
  {
   "cell_type": "code",
   "execution_count": 16,
   "id": "776e103f",
   "metadata": {},
   "outputs": [],
   "source": [
    "df['ram(GB)'] = df['ram(GB)'].astype('int')"
   ]
  },
  {
   "cell_type": "code",
   "execution_count": 17,
   "id": "79ac4acd",
   "metadata": {},
   "outputs": [
    {
     "data": {
      "text/html": [
       "<div>\n",
       "<style scoped>\n",
       "    .dataframe tbody tr th:only-of-type {\n",
       "        vertical-align: middle;\n",
       "    }\n",
       "\n",
       "    .dataframe tbody tr th {\n",
       "        vertical-align: top;\n",
       "    }\n",
       "\n",
       "    .dataframe thead th {\n",
       "        text-align: right;\n",
       "    }\n",
       "</style>\n",
       "<table border=\"1\" class=\"dataframe\">\n",
       "  <thead>\n",
       "    <tr style=\"text-align: right;\">\n",
       "      <th></th>\n",
       "      <th>company</th>\n",
       "      <th>product</th>\n",
       "      <th>typename</th>\n",
       "      <th>inches</th>\n",
       "      <th>screenresolution</th>\n",
       "      <th>cpu</th>\n",
       "      <th>ram(GB)</th>\n",
       "      <th>memory</th>\n",
       "      <th>gpu</th>\n",
       "      <th>opsys</th>\n",
       "      <th>weight</th>\n",
       "      <th>price_euros</th>\n",
       "    </tr>\n",
       "  </thead>\n",
       "  <tbody>\n",
       "    <tr>\n",
       "      <th>0</th>\n",
       "      <td>Apple</td>\n",
       "      <td>MacBook Pro</td>\n",
       "      <td>Ultrabook</td>\n",
       "      <td>13.3</td>\n",
       "      <td>IPS Panel Retina Display 2560x1600</td>\n",
       "      <td>Intel Core i5 2.3GHz</td>\n",
       "      <td>8</td>\n",
       "      <td>128GB SSD</td>\n",
       "      <td>Intel Iris Plus Graphics 640</td>\n",
       "      <td>macOS</td>\n",
       "      <td>1.37kg</td>\n",
       "      <td>1339.69</td>\n",
       "    </tr>\n",
       "    <tr>\n",
       "      <th>1</th>\n",
       "      <td>Apple</td>\n",
       "      <td>Macbook Air</td>\n",
       "      <td>Ultrabook</td>\n",
       "      <td>13.3</td>\n",
       "      <td>1440x900</td>\n",
       "      <td>Intel Core i5 1.8GHz</td>\n",
       "      <td>8</td>\n",
       "      <td>128GB Flash Storage</td>\n",
       "      <td>Intel HD Graphics 6000</td>\n",
       "      <td>macOS</td>\n",
       "      <td>1.34kg</td>\n",
       "      <td>898.94</td>\n",
       "    </tr>\n",
       "    <tr>\n",
       "      <th>2</th>\n",
       "      <td>HP</td>\n",
       "      <td>250 G6</td>\n",
       "      <td>Notebook</td>\n",
       "      <td>15.6</td>\n",
       "      <td>Full HD 1920x1080</td>\n",
       "      <td>Intel Core i5 7200U 2.5GHz</td>\n",
       "      <td>8</td>\n",
       "      <td>256GB SSD</td>\n",
       "      <td>Intel HD Graphics 620</td>\n",
       "      <td>No OS</td>\n",
       "      <td>1.86kg</td>\n",
       "      <td>575.00</td>\n",
       "    </tr>\n",
       "    <tr>\n",
       "      <th>3</th>\n",
       "      <td>Apple</td>\n",
       "      <td>MacBook Pro</td>\n",
       "      <td>Ultrabook</td>\n",
       "      <td>15.4</td>\n",
       "      <td>IPS Panel Retina Display 2880x1800</td>\n",
       "      <td>Intel Core i7 2.7GHz</td>\n",
       "      <td>16</td>\n",
       "      <td>512GB SSD</td>\n",
       "      <td>AMD Radeon Pro 455</td>\n",
       "      <td>macOS</td>\n",
       "      <td>1.83kg</td>\n",
       "      <td>2537.45</td>\n",
       "    </tr>\n",
       "    <tr>\n",
       "      <th>4</th>\n",
       "      <td>Apple</td>\n",
       "      <td>MacBook Pro</td>\n",
       "      <td>Ultrabook</td>\n",
       "      <td>13.3</td>\n",
       "      <td>IPS Panel Retina Display 2560x1600</td>\n",
       "      <td>Intel Core i5 3.1GHz</td>\n",
       "      <td>8</td>\n",
       "      <td>256GB SSD</td>\n",
       "      <td>Intel Iris Plus Graphics 650</td>\n",
       "      <td>macOS</td>\n",
       "      <td>1.37kg</td>\n",
       "      <td>1803.60</td>\n",
       "    </tr>\n",
       "  </tbody>\n",
       "</table>\n",
       "</div>"
      ],
      "text/plain": [
       "  company      product   typename  inches                    screenresolution  \\\n",
       "0   Apple  MacBook Pro  Ultrabook    13.3  IPS Panel Retina Display 2560x1600   \n",
       "1   Apple  Macbook Air  Ultrabook    13.3                            1440x900   \n",
       "2      HP       250 G6   Notebook    15.6                   Full HD 1920x1080   \n",
       "3   Apple  MacBook Pro  Ultrabook    15.4  IPS Panel Retina Display 2880x1800   \n",
       "4   Apple  MacBook Pro  Ultrabook    13.3  IPS Panel Retina Display 2560x1600   \n",
       "\n",
       "                          cpu  ram(GB)               memory  \\\n",
       "0        Intel Core i5 2.3GHz        8            128GB SSD   \n",
       "1        Intel Core i5 1.8GHz        8  128GB Flash Storage   \n",
       "2  Intel Core i5 7200U 2.5GHz        8            256GB SSD   \n",
       "3        Intel Core i7 2.7GHz       16            512GB SSD   \n",
       "4        Intel Core i5 3.1GHz        8            256GB SSD   \n",
       "\n",
       "                            gpu  opsys  weight  price_euros  \n",
       "0  Intel Iris Plus Graphics 640  macOS  1.37kg      1339.69  \n",
       "1        Intel HD Graphics 6000  macOS  1.34kg       898.94  \n",
       "2         Intel HD Graphics 620  No OS  1.86kg       575.00  \n",
       "3            AMD Radeon Pro 455  macOS  1.83kg      2537.45  \n",
       "4  Intel Iris Plus Graphics 650  macOS  1.37kg      1803.60  "
      ]
     },
     "execution_count": 17,
     "metadata": {},
     "output_type": "execute_result"
    }
   ],
   "source": [
    "df.head()"
   ]
  },
  {
   "cell_type": "markdown",
   "id": "2b6c1968",
   "metadata": {},
   "source": [
    "### Weight"
   ]
  },
  {
   "cell_type": "code",
   "execution_count": 19,
   "id": "627a85e1",
   "metadata": {},
   "outputs": [
    {
     "data": {
      "text/plain": [
       "2.2kg     121\n",
       "2.1kg      58\n",
       "2.4kg      44\n",
       "2.3kg      41\n",
       "2.5kg      38\n",
       "         ... \n",
       "3.25kg      1\n",
       "4.7kg       1\n",
       "1.55kg      1\n",
       "1.18kg      1\n",
       "4.0kg       1\n",
       "Name: weight, Length: 179, dtype: int64"
      ]
     },
     "execution_count": 19,
     "metadata": {},
     "output_type": "execute_result"
    }
   ],
   "source": [
    "df['weight'].value_counts()"
   ]
  },
  {
   "cell_type": "code",
   "execution_count": 20,
   "id": "541dd0b1",
   "metadata": {},
   "outputs": [
    {
     "data": {
      "text/plain": [
       "1303"
      ]
     },
     "execution_count": 20,
     "metadata": {},
     "output_type": "execute_result"
    }
   ],
   "source": [
    "df['weight'].str.contains('kg').sum()  #Hepsinde birim kg mi?"
   ]
  },
  {
   "cell_type": "code",
   "execution_count": 21,
   "id": "f8f11b26",
   "metadata": {},
   "outputs": [],
   "source": [
    "df['weight'] = df['weight'].str.replace('kg','').astype(float)"
   ]
  },
  {
   "cell_type": "code",
   "execution_count": 22,
   "id": "302a7141",
   "metadata": {},
   "outputs": [],
   "source": [
    "df.rename(columns = {'weight':'weight(kg)'}, inplace = True)"
   ]
  },
  {
   "cell_type": "markdown",
   "id": "a92d01d6",
   "metadata": {},
   "source": [
    "### Screen resolution"
   ]
  },
  {
   "cell_type": "markdown",
   "id": "a785f4eb",
   "metadata": {},
   "source": [
    "#### Resolution (çözünürlük)"
   ]
  },
  {
   "cell_type": "code",
   "execution_count": 23,
   "id": "6b60ef0e",
   "metadata": {},
   "outputs": [
    {
     "data": {
      "text/plain": [
       "0               IPS Panel Retina Display 2560x1600\n",
       "1                                         1440x900\n",
       "2                                Full HD 1920x1080\n",
       "3               IPS Panel Retina Display 2880x1800\n",
       "4               IPS Panel Retina Display 2560x1600\n",
       "                           ...                    \n",
       "1298     IPS Panel Full HD / Touchscreen 1920x1080\n",
       "1299    IPS Panel Quad HD+ / Touchscreen 3200x1800\n",
       "1300                                      1366x768\n",
       "1301                                      1366x768\n",
       "1302                                      1366x768\n",
       "Name: screenresolution, Length: 1303, dtype: object"
      ]
     },
     "execution_count": 23,
     "metadata": {},
     "output_type": "execute_result"
    }
   ],
   "source": [
    "df[\"screenresolution\"]"
   ]
  },
  {
   "cell_type": "markdown",
   "id": "aea82207",
   "metadata": {},
   "source": [
    "- Ekran tipi\n",
    "- Çözünürlük\n",
    "- Dokunmatik özelliği"
   ]
  },
  {
   "cell_type": "code",
   "execution_count": 24,
   "id": "5b3bee4b",
   "metadata": {},
   "outputs": [],
   "source": [
    "df['resolution'] = df['screenresolution'].str.extract(r'(\\d+x\\d+)')"
   ]
  },
  {
   "cell_type": "markdown",
   "id": "ed70d98d",
   "metadata": {},
   "source": [
    "Bu kod, bir DataFrame olan df içindeki 'screenresolution' sütunundaki değerlerden çözünürlük bilgisini çıkarmak için kullanılır ve bu çözünürlük bilgisini yeni bir 'resolution' sütunu olarak ekler.\n",
    "\n",
    ".str.extract(r'(\\d+x\\d+)') ifadesi, 'screenresolution' sütunundaki her bir değeri bir dize olarak ele alır ve içindeki deseni bulmaya çalışır. Desen, \\d+x\\d+ şeklindedir ve şunları ifade eder:\n",
    "\n",
    "\\d+: Bir veya daha fazla rakam\n",
    "\n",
    "x: Harf \"x\"\n",
    "\n",
    "\\d+: Bir veya daha fazla rakam\n",
    "\n",
    "Yani, bu desen, bir veya daha fazla rakamı, ardından \"x\" harfini ve tekrar bir veya daha fazla rakamı içeren bir dizeyi yakalar. Bu yakalanan dize, çözünürlük bilgisini temsil eder.\n",
    "\n",
    "Sonuç olarak, bu kod, DataFrame'deki her bir 'screenresolution' değerini analiz eder, çözünürlük bilgisini yakalar ve bu bilgiyi 'resolution' sütununa ekler."
   ]
  },
  {
   "cell_type": "code",
   "execution_count": 25,
   "id": "fc028e1e",
   "metadata": {},
   "outputs": [
    {
     "data": {
      "text/plain": [
       "0       2560x1600\n",
       "1        1440x900\n",
       "2       1920x1080\n",
       "3       2880x1800\n",
       "4       2560x1600\n",
       "          ...    \n",
       "1298    1920x1080\n",
       "1299    3200x1800\n",
       "1300     1366x768\n",
       "1301     1366x768\n",
       "1302     1366x768\n",
       "Name: resolution, Length: 1303, dtype: object"
      ]
     },
     "execution_count": 25,
     "metadata": {},
     "output_type": "execute_result"
    }
   ],
   "source": [
    "df['resolution']"
   ]
  },
  {
   "cell_type": "markdown",
   "id": "3ea8bcc6",
   "metadata": {},
   "source": [
    "#### ScreenType (ekran tipi)"
   ]
  },
  {
   "cell_type": "code",
   "execution_count": 26,
   "id": "9de1fd0d",
   "metadata": {},
   "outputs": [],
   "source": [
    "df['screentype'] = df['screenresolution'].replace(r'(\\d+x\\d+)','',regex=True)"
   ]
  },
  {
   "cell_type": "code",
   "execution_count": 27,
   "id": "021d05cf",
   "metadata": {},
   "outputs": [
    {
     "data": {
      "text/plain": [
       "0               IPS Panel Retina Display \n",
       "1                                        \n",
       "2                                Full HD \n",
       "3               IPS Panel Retina Display \n",
       "4               IPS Panel Retina Display \n",
       "                      ...                \n",
       "1298     IPS Panel Full HD / Touchscreen \n",
       "1299    IPS Panel Quad HD+ / Touchscreen \n",
       "1300                                     \n",
       "1301                                     \n",
       "1302                                     \n",
       "Name: screentype, Length: 1303, dtype: object"
      ]
     },
     "execution_count": 27,
     "metadata": {},
     "output_type": "execute_result"
    }
   ],
   "source": [
    "df['screentype']"
   ]
  },
  {
   "cell_type": "code",
   "execution_count": 28,
   "id": "cad26803",
   "metadata": {},
   "outputs": [],
   "source": [
    "df['screentype'] = df['screentype'].replace(r'(Full HD|Quad HD|Quad HD|\\+|/|4K Ultra HD)','',regex=True)"
   ]
  },
  {
   "cell_type": "code",
   "execution_count": 29,
   "id": "01e1f752",
   "metadata": {},
   "outputs": [
    {
     "data": {
      "text/plain": [
       "0       IPS Panel Retina Display \n",
       "1                                \n",
       "2                                \n",
       "3       IPS Panel Retina Display \n",
       "4       IPS Panel Retina Display \n",
       "                  ...            \n",
       "1298     IPS Panel   Touchscreen \n",
       "1299     IPS Panel   Touchscreen \n",
       "1300                             \n",
       "1301                             \n",
       "1302                             \n",
       "Name: screentype, Length: 1303, dtype: object"
      ]
     },
     "execution_count": 29,
     "metadata": {},
     "output_type": "execute_result"
    }
   ],
   "source": [
    "df['screentype']"
   ]
  },
  {
   "cell_type": "markdown",
   "id": "6ac6d643",
   "metadata": {},
   "source": [
    "#### Touch Screen (Dokunmatik özelliği)"
   ]
  },
  {
   "cell_type": "code",
   "execution_count": 30,
   "id": "3f70d882",
   "metadata": {},
   "outputs": [],
   "source": [
    "df['touchscreen'] = df['screentype'].str.extract(r'(Touchscreen)')"
   ]
  },
  {
   "cell_type": "code",
   "execution_count": 31,
   "id": "6926c61b",
   "metadata": {},
   "outputs": [
    {
     "data": {
      "text/plain": [
       "0               NaN\n",
       "1               NaN\n",
       "2               NaN\n",
       "3               NaN\n",
       "4               NaN\n",
       "           ...     \n",
       "1298    Touchscreen\n",
       "1299    Touchscreen\n",
       "1300            NaN\n",
       "1301            NaN\n",
       "1302            NaN\n",
       "Name: touchscreen, Length: 1303, dtype: object"
      ]
     },
     "execution_count": 31,
     "metadata": {},
     "output_type": "execute_result"
    }
   ],
   "source": [
    "df['touchscreen']"
   ]
  },
  {
   "cell_type": "code",
   "execution_count": 32,
   "id": "b2b0bca8",
   "metadata": {},
   "outputs": [],
   "source": [
    "df['screentype'] = df['screentype'].replace(r'(Touchscreen)','',regex=True)"
   ]
  },
  {
   "cell_type": "code",
   "execution_count": 33,
   "id": "27372111",
   "metadata": {},
   "outputs": [
    {
     "data": {
      "text/plain": [
       "Touchscreen    192\n",
       "Name: touchscreen, dtype: int64"
      ]
     },
     "execution_count": 33,
     "metadata": {},
     "output_type": "execute_result"
    }
   ],
   "source": [
    "df['touchscreen'].value_counts()"
   ]
  },
  {
   "cell_type": "code",
   "execution_count": 34,
   "id": "a76bca73",
   "metadata": {},
   "outputs": [],
   "source": [
    "df['touchscreen'] = df['touchscreen'].replace('Touchscreen',1)\n",
    "df['touchscreen'] = df['touchscreen'].replace(np.nan,0)"
   ]
  },
  {
   "cell_type": "code",
   "execution_count": 35,
   "id": "8c5a6fd0",
   "metadata": {},
   "outputs": [
    {
     "data": {
      "text/plain": [
       "0.0    1111\n",
       "1.0     192\n",
       "Name: touchscreen, dtype: int64"
      ]
     },
     "execution_count": 35,
     "metadata": {},
     "output_type": "execute_result"
    }
   ],
   "source": [
    "df['touchscreen'].value_counts()"
   ]
  },
  {
   "cell_type": "code",
   "execution_count": 36,
   "id": "c5074d84",
   "metadata": {},
   "outputs": [
    {
     "data": {
      "text/plain": [
       "0       0.0\n",
       "1       0.0\n",
       "2       0.0\n",
       "3       0.0\n",
       "4       0.0\n",
       "       ... \n",
       "1298    1.0\n",
       "1299    1.0\n",
       "1300    0.0\n",
       "1301    0.0\n",
       "1302    0.0\n",
       "Name: touchscreen, Length: 1303, dtype: float64"
      ]
     },
     "execution_count": 36,
     "metadata": {},
     "output_type": "execute_result"
    }
   ],
   "source": [
    "df['touchscreen']"
   ]
  },
  {
   "cell_type": "code",
   "execution_count": 37,
   "id": "432b3603",
   "metadata": {},
   "outputs": [
    {
     "data": {
      "text/plain": [
       "                             549\n",
       "                             314\n",
       "IPS Panel                    265\n",
       "                              75\n",
       "IPS Panel                     72\n",
       "IPS Panel Retina Display      17\n",
       "IPS Panel                     11\n",
       "Name: screentype, dtype: int64"
      ]
     },
     "execution_count": 37,
     "metadata": {},
     "output_type": "execute_result"
    }
   ],
   "source": [
    "df['screentype'].value_counts()"
   ]
  },
  {
   "cell_type": "code",
   "execution_count": 38,
   "id": "5c0bda86",
   "metadata": {},
   "outputs": [
    {
     "data": {
      "text/plain": [
       "0       IPS Panel Retina Display \n",
       "1                                \n",
       "2                                \n",
       "3       IPS Panel Retina Display \n",
       "4       IPS Panel Retina Display \n",
       "                  ...            \n",
       "1298                IPS Panel    \n",
       "1299                IPS Panel    \n",
       "1300                             \n",
       "1301                             \n",
       "1302                             \n",
       "Name: screentype, Length: 1303, dtype: object"
      ]
     },
     "execution_count": 38,
     "metadata": {},
     "output_type": "execute_result"
    }
   ],
   "source": [
    "df['screentype']"
   ]
  },
  {
   "cell_type": "code",
   "execution_count": 39,
   "id": "7f44d254",
   "metadata": {},
   "outputs": [
    {
     "data": {
      "text/plain": [
       "                         938\n",
       "IPSPanel                 348\n",
       "IPSPanelRetinaDisplay     17\n",
       "Name: screentype, dtype: int64"
      ]
     },
     "execution_count": 39,
     "metadata": {},
     "output_type": "execute_result"
    }
   ],
   "source": [
    "df['screentype']=df['screentype'].replace(r' ','',regex=True)\n",
    "df['screentype'].value_counts()"
   ]
  },
  {
   "cell_type": "markdown",
   "id": "7000ea96",
   "metadata": {},
   "source": [
    "Desen, ^\\s$ şeklindedir ve şunları ifade eder:*\n",
    "\n",
    "- ^: Satırın başı\n",
    "- \\s*: Sıfır veya daha fazla boşluk karakteri\n",
    "- $: Satırın sonu\n",
    "Yani, bu desen, bir satırda baştan sona kadar sadece boşluk karakterlerinden oluşan bir dizeyi bulur."
   ]
  },
  {
   "cell_type": "code",
   "execution_count": 40,
   "id": "d849580b",
   "metadata": {},
   "outputs": [
    {
     "data": {
      "text/plain": [
       "IPSPanel                 348\n",
       "IPSPanelRetinaDisplay     17\n",
       "Name: screentype, dtype: int64"
      ]
     },
     "execution_count": 40,
     "metadata": {},
     "output_type": "execute_result"
    }
   ],
   "source": [
    "df['screentype'] = df['screentype'].replace(r'^\\s*$', np.nan, regex=True)\n",
    "df['screentype'].value_counts()"
   ]
  },
  {
   "cell_type": "code",
   "execution_count": 41,
   "id": "a4144957",
   "metadata": {},
   "outputs": [
    {
     "data": {
      "text/plain": [
       "0       IPSPanelRetinaDisplay\n",
       "1                         NaN\n",
       "2                         NaN\n",
       "3       IPSPanelRetinaDisplay\n",
       "4       IPSPanelRetinaDisplay\n",
       "                ...          \n",
       "1298                 IPSPanel\n",
       "1299                 IPSPanel\n",
       "1300                      NaN\n",
       "1301                      NaN\n",
       "1302                      NaN\n",
       "Name: screentype, Length: 1303, dtype: object"
      ]
     },
     "execution_count": 41,
     "metadata": {},
     "output_type": "execute_result"
    }
   ],
   "source": [
    "df['screentype']"
   ]
  },
  {
   "cell_type": "code",
   "execution_count": 42,
   "id": "9415ee74",
   "metadata": {},
   "outputs": [],
   "source": [
    "df = df.drop('screenresolution', axis=1)"
   ]
  },
  {
   "cell_type": "code",
   "execution_count": 43,
   "id": "3f950776",
   "metadata": {},
   "outputs": [
    {
     "data": {
      "text/html": [
       "<div>\n",
       "<style scoped>\n",
       "    .dataframe tbody tr th:only-of-type {\n",
       "        vertical-align: middle;\n",
       "    }\n",
       "\n",
       "    .dataframe tbody tr th {\n",
       "        vertical-align: top;\n",
       "    }\n",
       "\n",
       "    .dataframe thead th {\n",
       "        text-align: right;\n",
       "    }\n",
       "</style>\n",
       "<table border=\"1\" class=\"dataframe\">\n",
       "  <thead>\n",
       "    <tr style=\"text-align: right;\">\n",
       "      <th></th>\n",
       "      <th>company</th>\n",
       "      <th>product</th>\n",
       "      <th>typename</th>\n",
       "      <th>inches</th>\n",
       "      <th>cpu</th>\n",
       "      <th>ram(GB)</th>\n",
       "      <th>memory</th>\n",
       "      <th>gpu</th>\n",
       "      <th>opsys</th>\n",
       "      <th>weight(kg)</th>\n",
       "      <th>price_euros</th>\n",
       "      <th>resolution</th>\n",
       "      <th>screentype</th>\n",
       "      <th>touchscreen</th>\n",
       "    </tr>\n",
       "  </thead>\n",
       "  <tbody>\n",
       "    <tr>\n",
       "      <th>0</th>\n",
       "      <td>Apple</td>\n",
       "      <td>MacBook Pro</td>\n",
       "      <td>Ultrabook</td>\n",
       "      <td>13.3</td>\n",
       "      <td>Intel Core i5 2.3GHz</td>\n",
       "      <td>8</td>\n",
       "      <td>128GB SSD</td>\n",
       "      <td>Intel Iris Plus Graphics 640</td>\n",
       "      <td>macOS</td>\n",
       "      <td>1.37</td>\n",
       "      <td>1339.69</td>\n",
       "      <td>2560x1600</td>\n",
       "      <td>IPSPanelRetinaDisplay</td>\n",
       "      <td>0.0</td>\n",
       "    </tr>\n",
       "    <tr>\n",
       "      <th>1</th>\n",
       "      <td>Apple</td>\n",
       "      <td>Macbook Air</td>\n",
       "      <td>Ultrabook</td>\n",
       "      <td>13.3</td>\n",
       "      <td>Intel Core i5 1.8GHz</td>\n",
       "      <td>8</td>\n",
       "      <td>128GB Flash Storage</td>\n",
       "      <td>Intel HD Graphics 6000</td>\n",
       "      <td>macOS</td>\n",
       "      <td>1.34</td>\n",
       "      <td>898.94</td>\n",
       "      <td>1440x900</td>\n",
       "      <td>NaN</td>\n",
       "      <td>0.0</td>\n",
       "    </tr>\n",
       "    <tr>\n",
       "      <th>2</th>\n",
       "      <td>HP</td>\n",
       "      <td>250 G6</td>\n",
       "      <td>Notebook</td>\n",
       "      <td>15.6</td>\n",
       "      <td>Intel Core i5 7200U 2.5GHz</td>\n",
       "      <td>8</td>\n",
       "      <td>256GB SSD</td>\n",
       "      <td>Intel HD Graphics 620</td>\n",
       "      <td>No OS</td>\n",
       "      <td>1.86</td>\n",
       "      <td>575.00</td>\n",
       "      <td>1920x1080</td>\n",
       "      <td>NaN</td>\n",
       "      <td>0.0</td>\n",
       "    </tr>\n",
       "    <tr>\n",
       "      <th>3</th>\n",
       "      <td>Apple</td>\n",
       "      <td>MacBook Pro</td>\n",
       "      <td>Ultrabook</td>\n",
       "      <td>15.4</td>\n",
       "      <td>Intel Core i7 2.7GHz</td>\n",
       "      <td>16</td>\n",
       "      <td>512GB SSD</td>\n",
       "      <td>AMD Radeon Pro 455</td>\n",
       "      <td>macOS</td>\n",
       "      <td>1.83</td>\n",
       "      <td>2537.45</td>\n",
       "      <td>2880x1800</td>\n",
       "      <td>IPSPanelRetinaDisplay</td>\n",
       "      <td>0.0</td>\n",
       "    </tr>\n",
       "    <tr>\n",
       "      <th>4</th>\n",
       "      <td>Apple</td>\n",
       "      <td>MacBook Pro</td>\n",
       "      <td>Ultrabook</td>\n",
       "      <td>13.3</td>\n",
       "      <td>Intel Core i5 3.1GHz</td>\n",
       "      <td>8</td>\n",
       "      <td>256GB SSD</td>\n",
       "      <td>Intel Iris Plus Graphics 650</td>\n",
       "      <td>macOS</td>\n",
       "      <td>1.37</td>\n",
       "      <td>1803.60</td>\n",
       "      <td>2560x1600</td>\n",
       "      <td>IPSPanelRetinaDisplay</td>\n",
       "      <td>0.0</td>\n",
       "    </tr>\n",
       "  </tbody>\n",
       "</table>\n",
       "</div>"
      ],
      "text/plain": [
       "  company      product   typename  inches                         cpu  \\\n",
       "0   Apple  MacBook Pro  Ultrabook    13.3        Intel Core i5 2.3GHz   \n",
       "1   Apple  Macbook Air  Ultrabook    13.3        Intel Core i5 1.8GHz   \n",
       "2      HP       250 G6   Notebook    15.6  Intel Core i5 7200U 2.5GHz   \n",
       "3   Apple  MacBook Pro  Ultrabook    15.4        Intel Core i7 2.7GHz   \n",
       "4   Apple  MacBook Pro  Ultrabook    13.3        Intel Core i5 3.1GHz   \n",
       "\n",
       "   ram(GB)               memory                           gpu  opsys  \\\n",
       "0        8            128GB SSD  Intel Iris Plus Graphics 640  macOS   \n",
       "1        8  128GB Flash Storage        Intel HD Graphics 6000  macOS   \n",
       "2        8            256GB SSD         Intel HD Graphics 620  No OS   \n",
       "3       16            512GB SSD            AMD Radeon Pro 455  macOS   \n",
       "4        8            256GB SSD  Intel Iris Plus Graphics 650  macOS   \n",
       "\n",
       "   weight(kg)  price_euros resolution             screentype  touchscreen  \n",
       "0        1.37      1339.69  2560x1600  IPSPanelRetinaDisplay          0.0  \n",
       "1        1.34       898.94   1440x900                    NaN          0.0  \n",
       "2        1.86       575.00  1920x1080                    NaN          0.0  \n",
       "3        1.83      2537.45  2880x1800  IPSPanelRetinaDisplay          0.0  \n",
       "4        1.37      1803.60  2560x1600  IPSPanelRetinaDisplay          0.0  "
      ]
     },
     "execution_count": 43,
     "metadata": {},
     "output_type": "execute_result"
    }
   ],
   "source": [
    "df.head()"
   ]
  },
  {
   "cell_type": "markdown",
   "id": "046b2fe4",
   "metadata": {},
   "source": [
    "### CPU"
   ]
  },
  {
   "cell_type": "code",
   "execution_count": 44,
   "id": "8560c07d",
   "metadata": {},
   "outputs": [
    {
     "data": {
      "text/plain": [
       "0                       Intel Core i5 2.3GHz\n",
       "1                       Intel Core i5 1.8GHz\n",
       "2                 Intel Core i5 7200U 2.5GHz\n",
       "3                       Intel Core i7 2.7GHz\n",
       "4                       Intel Core i5 3.1GHz\n",
       "                        ...                 \n",
       "1298              Intel Core i7 6500U 2.5GHz\n",
       "1299              Intel Core i7 6500U 2.5GHz\n",
       "1300    Intel Celeron Dual Core N3050 1.6GHz\n",
       "1301              Intel Core i7 6500U 2.5GHz\n",
       "1302    Intel Celeron Dual Core N3050 1.6GHz\n",
       "Name: cpu, Length: 1303, dtype: object"
      ]
     },
     "execution_count": 44,
     "metadata": {},
     "output_type": "execute_result"
    }
   ],
   "source": [
    "df['cpu']"
   ]
  },
  {
   "cell_type": "code",
   "execution_count": 45,
   "id": "4f9a13c8",
   "metadata": {},
   "outputs": [],
   "source": [
    "df['cpu_freq'] = df['cpu'].str.extract(r'(\\d+(?:\\.\\d+)?GHz)') "
   ]
  },
  {
   "cell_type": "code",
   "execution_count": 46,
   "id": "8b2917e4",
   "metadata": {},
   "outputs": [
    {
     "data": {
      "text/plain": [
       "2.5GHz     290\n",
       "2.7GHz     165\n",
       "2.8GHz     165\n",
       "1.6GHz     133\n",
       "2.3GHz      86\n",
       "1.8GHz      78\n",
       "2.6GHz      76\n",
       "2GHz        67\n",
       "1.1GHz      53\n",
       "2.4GHz      52\n",
       "2.9GHz      21\n",
       "3GHz        19\n",
       "2.0GHz      19\n",
       "1.2GHz      15\n",
       "1.44GHz     12\n",
       "2.2GHz      11\n",
       "1.5GHz      10\n",
       "1.3GHz       6\n",
       "3.6GHz       5\n",
       "0.9GHz       4\n",
       "3.1GHz       3\n",
       "2.1GHz       3\n",
       "2.50GHz      3\n",
       "1.9GHz       2\n",
       "1.60GHz      1\n",
       "3.2GHz       1\n",
       "1.0GHz       1\n",
       "1.92GHz      1\n",
       "2.70GHz      1\n",
       "Name: cpu_freq, dtype: int64"
      ]
     },
     "execution_count": 46,
     "metadata": {},
     "output_type": "execute_result"
    }
   ],
   "source": [
    "df['cpu_freq'].value_counts()"
   ]
  },
  {
   "cell_type": "code",
   "execution_count": 47,
   "id": "6037a122",
   "metadata": {},
   "outputs": [],
   "source": [
    "df['cpu_freq'] = df['cpu_freq'].str.replace('GHz', '')"
   ]
  },
  {
   "cell_type": "code",
   "execution_count": 48,
   "id": "1635f8e4",
   "metadata": {},
   "outputs": [],
   "source": [
    "df.rename(columns = {'cpu_freq' : 'cpu_freq(GHz)'}, inplace=True)"
   ]
  },
  {
   "cell_type": "code",
   "execution_count": 49,
   "id": "07887b1f",
   "metadata": {},
   "outputs": [
    {
     "data": {
      "text/plain": [
       "0       2.3\n",
       "1       1.8\n",
       "2       2.5\n",
       "3       2.7\n",
       "4       3.1\n",
       "       ... \n",
       "1298    2.5\n",
       "1299    2.5\n",
       "1300    1.6\n",
       "1301    2.5\n",
       "1302    1.6\n",
       "Name: cpu_freq(GHz), Length: 1303, dtype: object"
      ]
     },
     "execution_count": 49,
     "metadata": {},
     "output_type": "execute_result"
    }
   ],
   "source": [
    "df['cpu_freq(GHz)']"
   ]
  },
  {
   "cell_type": "code",
   "execution_count": 50,
   "id": "a4a7d17f",
   "metadata": {},
   "outputs": [],
   "source": [
    "df['cpu_freq(GHz)'] = df['cpu_freq(GHz)'].astype('float')"
   ]
  },
  {
   "cell_type": "code",
   "execution_count": 51,
   "id": "f463dd99",
   "metadata": {},
   "outputs": [],
   "source": [
    "df['cpu'] = df['cpu'].str.replace(r'(\\d+(?:\\.\\d+)?GHz)','',regex = True) "
   ]
  },
  {
   "cell_type": "code",
   "execution_count": 52,
   "id": "392ae840",
   "metadata": {},
   "outputs": [
    {
     "data": {
      "text/html": [
       "<div>\n",
       "<style scoped>\n",
       "    .dataframe tbody tr th:only-of-type {\n",
       "        vertical-align: middle;\n",
       "    }\n",
       "\n",
       "    .dataframe tbody tr th {\n",
       "        vertical-align: top;\n",
       "    }\n",
       "\n",
       "    .dataframe thead th {\n",
       "        text-align: right;\n",
       "    }\n",
       "</style>\n",
       "<table border=\"1\" class=\"dataframe\">\n",
       "  <thead>\n",
       "    <tr style=\"text-align: right;\">\n",
       "      <th></th>\n",
       "      <th>company</th>\n",
       "      <th>product</th>\n",
       "      <th>typename</th>\n",
       "      <th>inches</th>\n",
       "      <th>cpu</th>\n",
       "      <th>ram(GB)</th>\n",
       "      <th>memory</th>\n",
       "      <th>gpu</th>\n",
       "      <th>opsys</th>\n",
       "      <th>weight(kg)</th>\n",
       "      <th>price_euros</th>\n",
       "      <th>resolution</th>\n",
       "      <th>screentype</th>\n",
       "      <th>touchscreen</th>\n",
       "      <th>cpu_freq(GHz)</th>\n",
       "    </tr>\n",
       "  </thead>\n",
       "  <tbody>\n",
       "    <tr>\n",
       "      <th>0</th>\n",
       "      <td>Apple</td>\n",
       "      <td>MacBook Pro</td>\n",
       "      <td>Ultrabook</td>\n",
       "      <td>13.3</td>\n",
       "      <td>Intel Core i5</td>\n",
       "      <td>8</td>\n",
       "      <td>128GB SSD</td>\n",
       "      <td>Intel Iris Plus Graphics 640</td>\n",
       "      <td>macOS</td>\n",
       "      <td>1.37</td>\n",
       "      <td>1339.69</td>\n",
       "      <td>2560x1600</td>\n",
       "      <td>IPSPanelRetinaDisplay</td>\n",
       "      <td>0.0</td>\n",
       "      <td>2.3</td>\n",
       "    </tr>\n",
       "    <tr>\n",
       "      <th>1</th>\n",
       "      <td>Apple</td>\n",
       "      <td>Macbook Air</td>\n",
       "      <td>Ultrabook</td>\n",
       "      <td>13.3</td>\n",
       "      <td>Intel Core i5</td>\n",
       "      <td>8</td>\n",
       "      <td>128GB Flash Storage</td>\n",
       "      <td>Intel HD Graphics 6000</td>\n",
       "      <td>macOS</td>\n",
       "      <td>1.34</td>\n",
       "      <td>898.94</td>\n",
       "      <td>1440x900</td>\n",
       "      <td>NaN</td>\n",
       "      <td>0.0</td>\n",
       "      <td>1.8</td>\n",
       "    </tr>\n",
       "    <tr>\n",
       "      <th>2</th>\n",
       "      <td>HP</td>\n",
       "      <td>250 G6</td>\n",
       "      <td>Notebook</td>\n",
       "      <td>15.6</td>\n",
       "      <td>Intel Core i5 7200U</td>\n",
       "      <td>8</td>\n",
       "      <td>256GB SSD</td>\n",
       "      <td>Intel HD Graphics 620</td>\n",
       "      <td>No OS</td>\n",
       "      <td>1.86</td>\n",
       "      <td>575.00</td>\n",
       "      <td>1920x1080</td>\n",
       "      <td>NaN</td>\n",
       "      <td>0.0</td>\n",
       "      <td>2.5</td>\n",
       "    </tr>\n",
       "    <tr>\n",
       "      <th>3</th>\n",
       "      <td>Apple</td>\n",
       "      <td>MacBook Pro</td>\n",
       "      <td>Ultrabook</td>\n",
       "      <td>15.4</td>\n",
       "      <td>Intel Core i7</td>\n",
       "      <td>16</td>\n",
       "      <td>512GB SSD</td>\n",
       "      <td>AMD Radeon Pro 455</td>\n",
       "      <td>macOS</td>\n",
       "      <td>1.83</td>\n",
       "      <td>2537.45</td>\n",
       "      <td>2880x1800</td>\n",
       "      <td>IPSPanelRetinaDisplay</td>\n",
       "      <td>0.0</td>\n",
       "      <td>2.7</td>\n",
       "    </tr>\n",
       "    <tr>\n",
       "      <th>4</th>\n",
       "      <td>Apple</td>\n",
       "      <td>MacBook Pro</td>\n",
       "      <td>Ultrabook</td>\n",
       "      <td>13.3</td>\n",
       "      <td>Intel Core i5</td>\n",
       "      <td>8</td>\n",
       "      <td>256GB SSD</td>\n",
       "      <td>Intel Iris Plus Graphics 650</td>\n",
       "      <td>macOS</td>\n",
       "      <td>1.37</td>\n",
       "      <td>1803.60</td>\n",
       "      <td>2560x1600</td>\n",
       "      <td>IPSPanelRetinaDisplay</td>\n",
       "      <td>0.0</td>\n",
       "      <td>3.1</td>\n",
       "    </tr>\n",
       "  </tbody>\n",
       "</table>\n",
       "</div>"
      ],
      "text/plain": [
       "  company      product   typename  inches                   cpu  ram(GB)  \\\n",
       "0   Apple  MacBook Pro  Ultrabook    13.3        Intel Core i5         8   \n",
       "1   Apple  Macbook Air  Ultrabook    13.3        Intel Core i5         8   \n",
       "2      HP       250 G6   Notebook    15.6  Intel Core i5 7200U         8   \n",
       "3   Apple  MacBook Pro  Ultrabook    15.4        Intel Core i7        16   \n",
       "4   Apple  MacBook Pro  Ultrabook    13.3        Intel Core i5         8   \n",
       "\n",
       "                memory                           gpu  opsys  weight(kg)  \\\n",
       "0            128GB SSD  Intel Iris Plus Graphics 640  macOS        1.37   \n",
       "1  128GB Flash Storage        Intel HD Graphics 6000  macOS        1.34   \n",
       "2            256GB SSD         Intel HD Graphics 620  No OS        1.86   \n",
       "3            512GB SSD            AMD Radeon Pro 455  macOS        1.83   \n",
       "4            256GB SSD  Intel Iris Plus Graphics 650  macOS        1.37   \n",
       "\n",
       "   price_euros resolution             screentype  touchscreen  cpu_freq(GHz)  \n",
       "0      1339.69  2560x1600  IPSPanelRetinaDisplay          0.0            2.3  \n",
       "1       898.94   1440x900                    NaN          0.0            1.8  \n",
       "2       575.00  1920x1080                    NaN          0.0            2.5  \n",
       "3      2537.45  2880x1800  IPSPanelRetinaDisplay          0.0            2.7  \n",
       "4      1803.60  2560x1600  IPSPanelRetinaDisplay          0.0            3.1  "
      ]
     },
     "execution_count": 52,
     "metadata": {},
     "output_type": "execute_result"
    }
   ],
   "source": [
    "df.head()"
   ]
  },
  {
   "cell_type": "markdown",
   "id": "9fee3e89",
   "metadata": {},
   "source": [
    "### Memory"
   ]
  },
  {
   "cell_type": "code",
   "execution_count": 53,
   "id": "73f0bc64",
   "metadata": {},
   "outputs": [
    {
     "data": {
      "text/plain": [
       "256GB SSD                        412\n",
       "1TB HDD                          223\n",
       "500GB HDD                        132\n",
       "512GB SSD                        118\n",
       "128GB SSD +  1TB HDD              94\n",
       "128GB SSD                         76\n",
       "256GB SSD +  1TB HDD              73\n",
       "32GB Flash Storage                38\n",
       "2TB HDD                           16\n",
       "64GB Flash Storage                15\n",
       "512GB SSD +  1TB HDD              14\n",
       "1TB SSD                           14\n",
       "256GB SSD +  2TB HDD              10\n",
       "1.0TB Hybrid                       9\n",
       "256GB Flash Storage                8\n",
       "16GB Flash Storage                 7\n",
       "32GB SSD                           6\n",
       "180GB SSD                          5\n",
       "128GB Flash Storage                4\n",
       "512GB SSD +  2TB HDD               3\n",
       "16GB SSD                           3\n",
       "512GB Flash Storage                2\n",
       "1TB SSD +  1TB HDD                 2\n",
       "256GB SSD +  500GB HDD             2\n",
       "128GB SSD +  2TB HDD               2\n",
       "256GB SSD +  256GB SSD             2\n",
       "512GB SSD +  256GB SSD             1\n",
       "512GB SSD +  512GB SSD             1\n",
       "64GB Flash Storage +  1TB HDD      1\n",
       "1TB HDD +  1TB HDD                 1\n",
       "32GB HDD                           1\n",
       "64GB SSD                           1\n",
       "128GB HDD                          1\n",
       "240GB SSD                          1\n",
       "8GB SSD                            1\n",
       "508GB Hybrid                       1\n",
       "1.0TB HDD                          1\n",
       "512GB SSD +  1.0TB Hybrid          1\n",
       "256GB SSD +  1.0TB Hybrid          1\n",
       "Name: memory, dtype: int64"
      ]
     },
     "execution_count": 53,
     "metadata": {},
     "output_type": "execute_result"
    }
   ],
   "source": [
    "df['memory'].value_counts()"
   ]
  },
  {
   "cell_type": "code",
   "execution_count": 54,
   "id": "f504069c",
   "metadata": {},
   "outputs": [],
   "source": [
    "df['memory_1']=df['memory']"
   ]
  },
  {
   "cell_type": "code",
   "execution_count": 55,
   "id": "c2c9f4be",
   "metadata": {},
   "outputs": [
    {
     "data": {
      "text/plain": [
       "256 SSD                         412\n",
       "1000 HDD                        224\n",
       "500 HDD                         132\n",
       "512 SSD                         118\n",
       "128 SSD +  1000 HDD              94\n",
       "128 SSD                          76\n",
       "256 SSD +  1000 HDD              73\n",
       "32 Flash Storage                 38\n",
       "2000 HDD                         16\n",
       "64 Flash Storage                 15\n",
       "512 SSD +  1000 HDD              14\n",
       "1000 SSD                         14\n",
       "256 SSD +  2000 HDD              10\n",
       "1000 Hybrid                       9\n",
       "256 Flash Storage                 8\n",
       "16 Flash Storage                  7\n",
       "32 SSD                            6\n",
       "180 SSD                           5\n",
       "128 Flash Storage                 4\n",
       "512 SSD +  2000 HDD               3\n",
       "16 SSD                            3\n",
       "512 Flash Storage                 2\n",
       "1000 SSD +  1000 HDD              2\n",
       "256 SSD +  500 HDD                2\n",
       "128 SSD +  2000 HDD               2\n",
       "256 SSD +  256 SSD                2\n",
       "512 SSD +  256 SSD                1\n",
       "512 SSD +  512 SSD                1\n",
       "64 Flash Storage +  1000 HDD      1\n",
       "1000 HDD +  1000 HDD              1\n",
       "32 HDD                            1\n",
       "64 SSD                            1\n",
       "128 HDD                           1\n",
       "240 SSD                           1\n",
       "8 SSD                             1\n",
       "508 Hybrid                        1\n",
       "512 SSD +  1000 Hybrid            1\n",
       "256 SSD +  1000 Hybrid            1\n",
       "Name: memory_1, dtype: int64"
      ]
     },
     "execution_count": 55,
     "metadata": {},
     "output_type": "execute_result"
    }
   ],
   "source": [
    "df['memory_1']=df['memory_1'].str.replace('1.0TB','1TB', regex=True)\n",
    "df['memory_1']=df['memory_1'].str.replace('1TB','1000GB')\n",
    "df['memory_1']=df['memory_1'].str.replace('2TB','2000GB')\n",
    "df['memory_1']=df['memory_1'].str.replace('GB','')\n",
    "df['memory_1'].value_counts()"
   ]
  },
  {
   "cell_type": "code",
   "execution_count": 56,
   "id": "7125085a",
   "metadata": {},
   "outputs": [
    {
     "data": {
      "text/plain": [
       "256SSD                    412\n",
       "1000HDD                   224\n",
       "500HDD                    132\n",
       "512SSD                    118\n",
       "128SSD+1000HDD             94\n",
       "128SSD                     76\n",
       "256SSD+1000HDD             73\n",
       "32FlashStorage             38\n",
       "2000HDD                    16\n",
       "64FlashStorage             15\n",
       "512SSD+1000HDD             14\n",
       "1000SSD                    14\n",
       "256SSD+2000HDD             10\n",
       "1000Hybrid                  9\n",
       "256FlashStorage             8\n",
       "16FlashStorage              7\n",
       "32SSD                       6\n",
       "180SSD                      5\n",
       "128FlashStorage             4\n",
       "512SSD+2000HDD              3\n",
       "16SSD                       3\n",
       "512FlashStorage             2\n",
       "1000SSD+1000HDD             2\n",
       "256SSD+500HDD               2\n",
       "128SSD+2000HDD              2\n",
       "256SSD+256SSD               2\n",
       "512SSD+256SSD               1\n",
       "512SSD+512SSD               1\n",
       "64FlashStorage+1000HDD      1\n",
       "1000HDD+1000HDD             1\n",
       "32HDD                       1\n",
       "64SSD                       1\n",
       "128HDD                      1\n",
       "240SSD                      1\n",
       "8SSD                        1\n",
       "508Hybrid                   1\n",
       "512SSD+1000Hybrid           1\n",
       "256SSD+1000Hybrid           1\n",
       "Name: memory2, dtype: int64"
      ]
     },
     "execution_count": 56,
     "metadata": {},
     "output_type": "execute_result"
    }
   ],
   "source": [
    "df['memory2']=df['memory_1'].str.replace(r' ','')\n",
    "df['memory2'].value_counts()"
   ]
  },
  {
   "cell_type": "code",
   "execution_count": 57,
   "id": "921aece6",
   "metadata": {},
   "outputs": [
    {
     "data": {
      "text/plain": [
       "0             128SSD\n",
       "1    128FlashStorage\n",
       "2             256SSD\n",
       "3             512SSD\n",
       "4             256SSD\n",
       "Name: memory2, dtype: object"
      ]
     },
     "execution_count": 57,
     "metadata": {},
     "output_type": "execute_result"
    }
   ],
   "source": [
    "df['memory2'].head()"
   ]
  },
  {
   "cell_type": "code",
   "execution_count": 59,
   "id": "f5c94277",
   "metadata": {},
   "outputs": [],
   "source": [
    "import regex as re"
   ]
  },
  {
   "cell_type": "code",
   "execution_count": 60,
   "id": "d134b4ec",
   "metadata": {},
   "outputs": [],
   "source": [
    "\n",
    "memory_1=[]\n",
    "memory_2=[]\n",
    "for i in df['memory2']:\n",
    "    if len(re.findall(r'\\+',i))==1: # DOUBLE DRIVE\n",
    "        one=re.findall(r'(\\w+)',i)\n",
    "        memory_1.append(one[0])\n",
    "        memory_2.append(one[1])\n",
    "    else: # SINGLE DRIVE\n",
    "        one=re.findall(r'(\\w+)',i)\n",
    "        memory_1.append(one[0])\n",
    "        memory_2.append('NaN')"
   ]
  },
  {
   "cell_type": "code",
   "execution_count": 61,
   "id": "7d502cbf",
   "metadata": {},
   "outputs": [
    {
     "data": {
      "text/plain": [
       "['128SSD',\n",
       " '128FlashStorage',\n",
       " '256SSD',\n",
       " '512SSD',\n",
       " '256SSD',\n",
       " '500HDD',\n",
       " '256FlashStorage',\n",
       " '256FlashStorage',\n",
       " '512SSD',\n",
       " '256SSD']"
      ]
     },
     "execution_count": 61,
     "metadata": {},
     "output_type": "execute_result"
    }
   ],
   "source": [
    "memory_1[0:10]"
   ]
  },
  {
   "cell_type": "code",
   "execution_count": 62,
   "id": "a6ece0e7",
   "metadata": {},
   "outputs": [],
   "source": [
    "memory_1_gb=[]\n",
    "memory_1_type=[]\n",
    "\n",
    "for i in memory_1:\n",
    "    memory_1_type.append(re.findall(r'(\\D\\w+)',i)[0])\n",
    "    memory_1_gb.append(re.findall(r'(\\d+)',i)[0])"
   ]
  },
  {
   "cell_type": "code",
   "execution_count": 63,
   "id": "f3fedb8c",
   "metadata": {},
   "outputs": [],
   "source": [
    "memory_2_gb=[]\n",
    "memory_2_type=[]\n",
    "for i in memory_2:\n",
    "    if i != 'NaN':\n",
    "        memory_2_type.append(re.findall(r'(\\D\\w+)',i)[0])\n",
    "        memory_2_gb.append(re.findall(r'(\\d+)',i)[0])\n",
    "    else:\n",
    "        memory_2_type.append('NaN')\n",
    "        memory_2_gb.append(0)"
   ]
  },
  {
   "cell_type": "code",
   "execution_count": 64,
   "id": "b9db9541",
   "metadata": {},
   "outputs": [],
   "source": [
    "df['memory_1_sto(GB)'] = memory_1_gb\n",
    "df['memory_1_type'] = memory_1_type\n",
    "df['memory_2_sto(GB)'] = memory_2_gb\n",
    "df['memory_2_type'] = memory_2_type"
   ]
  },
  {
   "cell_type": "code",
   "execution_count": 65,
   "id": "d6528ed3",
   "metadata": {},
   "outputs": [],
   "source": [
    "df['memory_1_sto(GB)'] = df['memory_1_sto(GB)'].astype(float)\n",
    "df['memory_2_sto(GB)'] = df['memory_2_sto(GB)'].astype(float)"
   ]
  },
  {
   "cell_type": "code",
   "execution_count": 66,
   "id": "1df3726f",
   "metadata": {},
   "outputs": [
    {
     "data": {
      "text/html": [
       "<div>\n",
       "<style scoped>\n",
       "    .dataframe tbody tr th:only-of-type {\n",
       "        vertical-align: middle;\n",
       "    }\n",
       "\n",
       "    .dataframe tbody tr th {\n",
       "        vertical-align: top;\n",
       "    }\n",
       "\n",
       "    .dataframe thead th {\n",
       "        text-align: right;\n",
       "    }\n",
       "</style>\n",
       "<table border=\"1\" class=\"dataframe\">\n",
       "  <thead>\n",
       "    <tr style=\"text-align: right;\">\n",
       "      <th></th>\n",
       "      <th>company</th>\n",
       "      <th>product</th>\n",
       "      <th>typename</th>\n",
       "      <th>inches</th>\n",
       "      <th>cpu</th>\n",
       "      <th>ram(GB)</th>\n",
       "      <th>memory</th>\n",
       "      <th>gpu</th>\n",
       "      <th>opsys</th>\n",
       "      <th>weight(kg)</th>\n",
       "      <th>...</th>\n",
       "      <th>resolution</th>\n",
       "      <th>screentype</th>\n",
       "      <th>touchscreen</th>\n",
       "      <th>cpu_freq(GHz)</th>\n",
       "      <th>memory_1</th>\n",
       "      <th>memory2</th>\n",
       "      <th>memory_1_sto(GB)</th>\n",
       "      <th>memory_1_type</th>\n",
       "      <th>memory_2_sto(GB)</th>\n",
       "      <th>memory_2_type</th>\n",
       "    </tr>\n",
       "  </thead>\n",
       "  <tbody>\n",
       "    <tr>\n",
       "      <th>0</th>\n",
       "      <td>Apple</td>\n",
       "      <td>MacBook Pro</td>\n",
       "      <td>Ultrabook</td>\n",
       "      <td>13.3</td>\n",
       "      <td>Intel Core i5</td>\n",
       "      <td>8</td>\n",
       "      <td>128GB SSD</td>\n",
       "      <td>Intel Iris Plus Graphics 640</td>\n",
       "      <td>macOS</td>\n",
       "      <td>1.37</td>\n",
       "      <td>...</td>\n",
       "      <td>2560x1600</td>\n",
       "      <td>IPSPanelRetinaDisplay</td>\n",
       "      <td>0.0</td>\n",
       "      <td>2.3</td>\n",
       "      <td>128 SSD</td>\n",
       "      <td>128SSD</td>\n",
       "      <td>128.0</td>\n",
       "      <td>SSD</td>\n",
       "      <td>0.0</td>\n",
       "      <td>NaN</td>\n",
       "    </tr>\n",
       "    <tr>\n",
       "      <th>1</th>\n",
       "      <td>Apple</td>\n",
       "      <td>Macbook Air</td>\n",
       "      <td>Ultrabook</td>\n",
       "      <td>13.3</td>\n",
       "      <td>Intel Core i5</td>\n",
       "      <td>8</td>\n",
       "      <td>128GB Flash Storage</td>\n",
       "      <td>Intel HD Graphics 6000</td>\n",
       "      <td>macOS</td>\n",
       "      <td>1.34</td>\n",
       "      <td>...</td>\n",
       "      <td>1440x900</td>\n",
       "      <td>NaN</td>\n",
       "      <td>0.0</td>\n",
       "      <td>1.8</td>\n",
       "      <td>128 Flash Storage</td>\n",
       "      <td>128FlashStorage</td>\n",
       "      <td>128.0</td>\n",
       "      <td>FlashStorage</td>\n",
       "      <td>0.0</td>\n",
       "      <td>NaN</td>\n",
       "    </tr>\n",
       "    <tr>\n",
       "      <th>2</th>\n",
       "      <td>HP</td>\n",
       "      <td>250 G6</td>\n",
       "      <td>Notebook</td>\n",
       "      <td>15.6</td>\n",
       "      <td>Intel Core i5 7200U</td>\n",
       "      <td>8</td>\n",
       "      <td>256GB SSD</td>\n",
       "      <td>Intel HD Graphics 620</td>\n",
       "      <td>No OS</td>\n",
       "      <td>1.86</td>\n",
       "      <td>...</td>\n",
       "      <td>1920x1080</td>\n",
       "      <td>NaN</td>\n",
       "      <td>0.0</td>\n",
       "      <td>2.5</td>\n",
       "      <td>256 SSD</td>\n",
       "      <td>256SSD</td>\n",
       "      <td>256.0</td>\n",
       "      <td>SSD</td>\n",
       "      <td>0.0</td>\n",
       "      <td>NaN</td>\n",
       "    </tr>\n",
       "    <tr>\n",
       "      <th>3</th>\n",
       "      <td>Apple</td>\n",
       "      <td>MacBook Pro</td>\n",
       "      <td>Ultrabook</td>\n",
       "      <td>15.4</td>\n",
       "      <td>Intel Core i7</td>\n",
       "      <td>16</td>\n",
       "      <td>512GB SSD</td>\n",
       "      <td>AMD Radeon Pro 455</td>\n",
       "      <td>macOS</td>\n",
       "      <td>1.83</td>\n",
       "      <td>...</td>\n",
       "      <td>2880x1800</td>\n",
       "      <td>IPSPanelRetinaDisplay</td>\n",
       "      <td>0.0</td>\n",
       "      <td>2.7</td>\n",
       "      <td>512 SSD</td>\n",
       "      <td>512SSD</td>\n",
       "      <td>512.0</td>\n",
       "      <td>SSD</td>\n",
       "      <td>0.0</td>\n",
       "      <td>NaN</td>\n",
       "    </tr>\n",
       "    <tr>\n",
       "      <th>4</th>\n",
       "      <td>Apple</td>\n",
       "      <td>MacBook Pro</td>\n",
       "      <td>Ultrabook</td>\n",
       "      <td>13.3</td>\n",
       "      <td>Intel Core i5</td>\n",
       "      <td>8</td>\n",
       "      <td>256GB SSD</td>\n",
       "      <td>Intel Iris Plus Graphics 650</td>\n",
       "      <td>macOS</td>\n",
       "      <td>1.37</td>\n",
       "      <td>...</td>\n",
       "      <td>2560x1600</td>\n",
       "      <td>IPSPanelRetinaDisplay</td>\n",
       "      <td>0.0</td>\n",
       "      <td>3.1</td>\n",
       "      <td>256 SSD</td>\n",
       "      <td>256SSD</td>\n",
       "      <td>256.0</td>\n",
       "      <td>SSD</td>\n",
       "      <td>0.0</td>\n",
       "      <td>NaN</td>\n",
       "    </tr>\n",
       "  </tbody>\n",
       "</table>\n",
       "<p>5 rows × 21 columns</p>\n",
       "</div>"
      ],
      "text/plain": [
       "  company      product   typename  inches                   cpu  ram(GB)  \\\n",
       "0   Apple  MacBook Pro  Ultrabook    13.3        Intel Core i5         8   \n",
       "1   Apple  Macbook Air  Ultrabook    13.3        Intel Core i5         8   \n",
       "2      HP       250 G6   Notebook    15.6  Intel Core i5 7200U         8   \n",
       "3   Apple  MacBook Pro  Ultrabook    15.4        Intel Core i7        16   \n",
       "4   Apple  MacBook Pro  Ultrabook    13.3        Intel Core i5         8   \n",
       "\n",
       "                memory                           gpu  opsys  weight(kg)  ...  \\\n",
       "0            128GB SSD  Intel Iris Plus Graphics 640  macOS        1.37  ...   \n",
       "1  128GB Flash Storage        Intel HD Graphics 6000  macOS        1.34  ...   \n",
       "2            256GB SSD         Intel HD Graphics 620  No OS        1.86  ...   \n",
       "3            512GB SSD            AMD Radeon Pro 455  macOS        1.83  ...   \n",
       "4            256GB SSD  Intel Iris Plus Graphics 650  macOS        1.37  ...   \n",
       "\n",
       "   resolution             screentype touchscreen  cpu_freq(GHz)  \\\n",
       "0   2560x1600  IPSPanelRetinaDisplay         0.0            2.3   \n",
       "1    1440x900                    NaN         0.0            1.8   \n",
       "2   1920x1080                    NaN         0.0            2.5   \n",
       "3   2880x1800  IPSPanelRetinaDisplay         0.0            2.7   \n",
       "4   2560x1600  IPSPanelRetinaDisplay         0.0            3.1   \n",
       "\n",
       "            memory_1          memory2 memory_1_sto(GB)  memory_1_type  \\\n",
       "0            128 SSD           128SSD            128.0            SSD   \n",
       "1  128 Flash Storage  128FlashStorage            128.0   FlashStorage   \n",
       "2            256 SSD           256SSD            256.0            SSD   \n",
       "3            512 SSD           512SSD            512.0            SSD   \n",
       "4            256 SSD           256SSD            256.0            SSD   \n",
       "\n",
       "  memory_2_sto(GB)  memory_2_type  \n",
       "0              0.0            NaN  \n",
       "1              0.0            NaN  \n",
       "2              0.0            NaN  \n",
       "3              0.0            NaN  \n",
       "4              0.0            NaN  \n",
       "\n",
       "[5 rows x 21 columns]"
      ]
     },
     "execution_count": 66,
     "metadata": {},
     "output_type": "execute_result"
    }
   ],
   "source": [
    "df.head()"
   ]
  },
  {
   "cell_type": "code",
   "execution_count": 67,
   "id": "cd49a890",
   "metadata": {},
   "outputs": [],
   "source": [
    "df=df.drop(['memory_1','memory2','memory'], axis=1)"
   ]
  },
  {
   "cell_type": "code",
   "execution_count": 68,
   "id": "2971210e",
   "metadata": {},
   "outputs": [],
   "source": [
    "df = df.replace({'NaN': np.nan})"
   ]
  },
  {
   "cell_type": "code",
   "execution_count": 69,
   "id": "0d95cfa8",
   "metadata": {},
   "outputs": [
    {
     "data": {
      "text/html": [
       "<div>\n",
       "<style scoped>\n",
       "    .dataframe tbody tr th:only-of-type {\n",
       "        vertical-align: middle;\n",
       "    }\n",
       "\n",
       "    .dataframe tbody tr th {\n",
       "        vertical-align: top;\n",
       "    }\n",
       "\n",
       "    .dataframe thead th {\n",
       "        text-align: right;\n",
       "    }\n",
       "</style>\n",
       "<table border=\"1\" class=\"dataframe\">\n",
       "  <thead>\n",
       "    <tr style=\"text-align: right;\">\n",
       "      <th></th>\n",
       "      <th>company</th>\n",
       "      <th>product</th>\n",
       "      <th>typename</th>\n",
       "      <th>inches</th>\n",
       "      <th>cpu</th>\n",
       "      <th>ram(GB)</th>\n",
       "      <th>gpu</th>\n",
       "      <th>opsys</th>\n",
       "      <th>weight(kg)</th>\n",
       "      <th>price_euros</th>\n",
       "      <th>resolution</th>\n",
       "      <th>screentype</th>\n",
       "      <th>touchscreen</th>\n",
       "      <th>cpu_freq(GHz)</th>\n",
       "      <th>memory_1_sto(GB)</th>\n",
       "      <th>memory_1_type</th>\n",
       "      <th>memory_2_sto(GB)</th>\n",
       "      <th>memory_2_type</th>\n",
       "    </tr>\n",
       "  </thead>\n",
       "  <tbody>\n",
       "    <tr>\n",
       "      <th>0</th>\n",
       "      <td>Apple</td>\n",
       "      <td>MacBook Pro</td>\n",
       "      <td>Ultrabook</td>\n",
       "      <td>13.3</td>\n",
       "      <td>Intel Core i5</td>\n",
       "      <td>8</td>\n",
       "      <td>Intel Iris Plus Graphics 640</td>\n",
       "      <td>macOS</td>\n",
       "      <td>1.37</td>\n",
       "      <td>1339.69</td>\n",
       "      <td>2560x1600</td>\n",
       "      <td>IPSPanelRetinaDisplay</td>\n",
       "      <td>0.0</td>\n",
       "      <td>2.3</td>\n",
       "      <td>128.0</td>\n",
       "      <td>SSD</td>\n",
       "      <td>0.0</td>\n",
       "      <td>NaN</td>\n",
       "    </tr>\n",
       "    <tr>\n",
       "      <th>1</th>\n",
       "      <td>Apple</td>\n",
       "      <td>Macbook Air</td>\n",
       "      <td>Ultrabook</td>\n",
       "      <td>13.3</td>\n",
       "      <td>Intel Core i5</td>\n",
       "      <td>8</td>\n",
       "      <td>Intel HD Graphics 6000</td>\n",
       "      <td>macOS</td>\n",
       "      <td>1.34</td>\n",
       "      <td>898.94</td>\n",
       "      <td>1440x900</td>\n",
       "      <td>NaN</td>\n",
       "      <td>0.0</td>\n",
       "      <td>1.8</td>\n",
       "      <td>128.0</td>\n",
       "      <td>FlashStorage</td>\n",
       "      <td>0.0</td>\n",
       "      <td>NaN</td>\n",
       "    </tr>\n",
       "    <tr>\n",
       "      <th>2</th>\n",
       "      <td>HP</td>\n",
       "      <td>250 G6</td>\n",
       "      <td>Notebook</td>\n",
       "      <td>15.6</td>\n",
       "      <td>Intel Core i5 7200U</td>\n",
       "      <td>8</td>\n",
       "      <td>Intel HD Graphics 620</td>\n",
       "      <td>No OS</td>\n",
       "      <td>1.86</td>\n",
       "      <td>575.00</td>\n",
       "      <td>1920x1080</td>\n",
       "      <td>NaN</td>\n",
       "      <td>0.0</td>\n",
       "      <td>2.5</td>\n",
       "      <td>256.0</td>\n",
       "      <td>SSD</td>\n",
       "      <td>0.0</td>\n",
       "      <td>NaN</td>\n",
       "    </tr>\n",
       "    <tr>\n",
       "      <th>3</th>\n",
       "      <td>Apple</td>\n",
       "      <td>MacBook Pro</td>\n",
       "      <td>Ultrabook</td>\n",
       "      <td>15.4</td>\n",
       "      <td>Intel Core i7</td>\n",
       "      <td>16</td>\n",
       "      <td>AMD Radeon Pro 455</td>\n",
       "      <td>macOS</td>\n",
       "      <td>1.83</td>\n",
       "      <td>2537.45</td>\n",
       "      <td>2880x1800</td>\n",
       "      <td>IPSPanelRetinaDisplay</td>\n",
       "      <td>0.0</td>\n",
       "      <td>2.7</td>\n",
       "      <td>512.0</td>\n",
       "      <td>SSD</td>\n",
       "      <td>0.0</td>\n",
       "      <td>NaN</td>\n",
       "    </tr>\n",
       "    <tr>\n",
       "      <th>4</th>\n",
       "      <td>Apple</td>\n",
       "      <td>MacBook Pro</td>\n",
       "      <td>Ultrabook</td>\n",
       "      <td>13.3</td>\n",
       "      <td>Intel Core i5</td>\n",
       "      <td>8</td>\n",
       "      <td>Intel Iris Plus Graphics 650</td>\n",
       "      <td>macOS</td>\n",
       "      <td>1.37</td>\n",
       "      <td>1803.60</td>\n",
       "      <td>2560x1600</td>\n",
       "      <td>IPSPanelRetinaDisplay</td>\n",
       "      <td>0.0</td>\n",
       "      <td>3.1</td>\n",
       "      <td>256.0</td>\n",
       "      <td>SSD</td>\n",
       "      <td>0.0</td>\n",
       "      <td>NaN</td>\n",
       "    </tr>\n",
       "  </tbody>\n",
       "</table>\n",
       "</div>"
      ],
      "text/plain": [
       "  company      product   typename  inches                   cpu  ram(GB)  \\\n",
       "0   Apple  MacBook Pro  Ultrabook    13.3        Intel Core i5         8   \n",
       "1   Apple  Macbook Air  Ultrabook    13.3        Intel Core i5         8   \n",
       "2      HP       250 G6   Notebook    15.6  Intel Core i5 7200U         8   \n",
       "3   Apple  MacBook Pro  Ultrabook    15.4        Intel Core i7        16   \n",
       "4   Apple  MacBook Pro  Ultrabook    13.3        Intel Core i5         8   \n",
       "\n",
       "                            gpu  opsys  weight(kg)  price_euros resolution  \\\n",
       "0  Intel Iris Plus Graphics 640  macOS        1.37      1339.69  2560x1600   \n",
       "1        Intel HD Graphics 6000  macOS        1.34       898.94   1440x900   \n",
       "2         Intel HD Graphics 620  No OS        1.86       575.00  1920x1080   \n",
       "3            AMD Radeon Pro 455  macOS        1.83      2537.45  2880x1800   \n",
       "4  Intel Iris Plus Graphics 650  macOS        1.37      1803.60  2560x1600   \n",
       "\n",
       "              screentype  touchscreen  cpu_freq(GHz)  memory_1_sto(GB)  \\\n",
       "0  IPSPanelRetinaDisplay          0.0            2.3             128.0   \n",
       "1                    NaN          0.0            1.8             128.0   \n",
       "2                    NaN          0.0            2.5             256.0   \n",
       "3  IPSPanelRetinaDisplay          0.0            2.7             512.0   \n",
       "4  IPSPanelRetinaDisplay          0.0            3.1             256.0   \n",
       "\n",
       "  memory_1_type  memory_2_sto(GB) memory_2_type  \n",
       "0           SSD               0.0           NaN  \n",
       "1  FlashStorage               0.0           NaN  \n",
       "2           SSD               0.0           NaN  \n",
       "3           SSD               0.0           NaN  \n",
       "4           SSD               0.0           NaN  "
      ]
     },
     "execution_count": 69,
     "metadata": {},
     "output_type": "execute_result"
    }
   ],
   "source": [
    "df.head()"
   ]
  },
  {
   "cell_type": "markdown",
   "id": "44ecd8ea",
   "metadata": {},
   "source": [
    "### CPU VE GPU Şirketleri"
   ]
  },
  {
   "cell_type": "code",
   "execution_count": 70,
   "id": "bf6c4f2f",
   "metadata": {},
   "outputs": [
    {
     "data": {
      "text/plain": [
       "Intel Core i5 7200U      193\n",
       "Intel Core i7 7700HQ     147\n",
       "Intel Core i7 7500U      135\n",
       "Intel Core i3 6006U       81\n",
       "Intel Core i7 8550U       73\n",
       "                        ... \n",
       "AMD FX 9830P               1\n",
       "Intel Core i5 6440HQ       1\n",
       "AMD E-Series E2-6110       1\n",
       "AMD Ryzen 1600             1\n",
       "Intel Core i7 6920HQ       1\n",
       "Name: cpu, Length: 93, dtype: int64"
      ]
     },
     "execution_count": 70,
     "metadata": {},
     "output_type": "execute_result"
    }
   ],
   "source": [
    "df['cpu'].value_counts()"
   ]
  },
  {
   "cell_type": "code",
   "execution_count": 71,
   "id": "7b5461c1",
   "metadata": {},
   "outputs": [
    {
     "data": {
      "text/plain": [
       "Intel      1240\n",
       "AMD          62\n",
       "Samsung       1\n",
       "Name: cpu_brand, dtype: int64"
      ]
     },
     "execution_count": 71,
     "metadata": {},
     "output_type": "execute_result"
    }
   ],
   "source": [
    "df['cpu_brand'] = df['cpu'].str.extract(r'^(\\w+)')\n",
    "df['cpu_brand'].value_counts()"
   ]
  },
  {
   "cell_type": "markdown",
   "id": "0e0fc176",
   "metadata": {},
   "source": [
    "df['cpu'] : DataFrame'deki \"cpu\" sütununu seçer.\n",
    "- .str.extract() : Seçilen sütunun her bir değerine bir dize yöntemi uygular ve bu ifade içindeki deseni arar.\n",
    "- r'^(\\w+)' : Bu desen, başında bir veya daha fazla harf içeren bir kelimeyi yakalar. İçerdiği öğelerin anlamları şunlardır:\n",
    "- ^ : Satırın başını temsil eder.\n",
    "- () : Yakalama grubunu belirtir. Bu durumda, grup, başındaki harfleri yakalamak için kullanılır.\n",
    "- \\w : Herhangi bir harf, rakam veya alt çizgi karakterini temsil eder.\n",
    "- \\+ : Önceki öğenin bir veya daha fazla kez tekrarlandığını belirtir."
   ]
  },
  {
   "cell_type": "code",
   "execution_count": 72,
   "id": "a6dec737",
   "metadata": {},
   "outputs": [
    {
     "data": {
      "text/html": [
       "<div>\n",
       "<style scoped>\n",
       "    .dataframe tbody tr th:only-of-type {\n",
       "        vertical-align: middle;\n",
       "    }\n",
       "\n",
       "    .dataframe tbody tr th {\n",
       "        vertical-align: top;\n",
       "    }\n",
       "\n",
       "    .dataframe thead th {\n",
       "        text-align: right;\n",
       "    }\n",
       "</style>\n",
       "<table border=\"1\" class=\"dataframe\">\n",
       "  <thead>\n",
       "    <tr style=\"text-align: right;\">\n",
       "      <th></th>\n",
       "      <th>company</th>\n",
       "      <th>product</th>\n",
       "      <th>typename</th>\n",
       "      <th>inches</th>\n",
       "      <th>cpu</th>\n",
       "      <th>ram(GB)</th>\n",
       "      <th>gpu</th>\n",
       "      <th>opsys</th>\n",
       "      <th>weight(kg)</th>\n",
       "      <th>price_euros</th>\n",
       "      <th>resolution</th>\n",
       "      <th>screentype</th>\n",
       "      <th>touchscreen</th>\n",
       "      <th>cpu_freq(GHz)</th>\n",
       "      <th>memory_1_sto(GB)</th>\n",
       "      <th>memory_1_type</th>\n",
       "      <th>memory_2_sto(GB)</th>\n",
       "      <th>memory_2_type</th>\n",
       "      <th>cpu_brand</th>\n",
       "    </tr>\n",
       "  </thead>\n",
       "  <tbody>\n",
       "    <tr>\n",
       "      <th>1191</th>\n",
       "      <td>Samsung</td>\n",
       "      <td>Chromebook Plus</td>\n",
       "      <td>2 in 1 Convertible</td>\n",
       "      <td>12.3</td>\n",
       "      <td>Samsung Cortex A72&amp;A53</td>\n",
       "      <td>4</td>\n",
       "      <td>ARM Mali T860 MP4</td>\n",
       "      <td>Chrome OS</td>\n",
       "      <td>1.15</td>\n",
       "      <td>659.0</td>\n",
       "      <td>2400x1600</td>\n",
       "      <td>IPSPanel</td>\n",
       "      <td>1.0</td>\n",
       "      <td>2.0</td>\n",
       "      <td>32.0</td>\n",
       "      <td>FlashStorage</td>\n",
       "      <td>0.0</td>\n",
       "      <td>NaN</td>\n",
       "      <td>Samsung</td>\n",
       "    </tr>\n",
       "  </tbody>\n",
       "</table>\n",
       "</div>"
      ],
      "text/plain": [
       "      company          product            typename  inches  \\\n",
       "1191  Samsung  Chromebook Plus  2 in 1 Convertible    12.3   \n",
       "\n",
       "                          cpu  ram(GB)                gpu      opsys  \\\n",
       "1191  Samsung Cortex A72&A53         4  ARM Mali T860 MP4  Chrome OS   \n",
       "\n",
       "      weight(kg)  price_euros resolution screentype  touchscreen  \\\n",
       "1191        1.15        659.0  2400x1600   IPSPanel          1.0   \n",
       "\n",
       "      cpu_freq(GHz)  memory_1_sto(GB) memory_1_type  memory_2_sto(GB)  \\\n",
       "1191            2.0              32.0  FlashStorage               0.0   \n",
       "\n",
       "     memory_2_type cpu_brand  \n",
       "1191           NaN   Samsung  "
      ]
     },
     "execution_count": 72,
     "metadata": {},
     "output_type": "execute_result"
    }
   ],
   "source": [
    "df[df['cpu_brand']=='Samsung']"
   ]
  },
  {
   "cell_type": "code",
   "execution_count": 73,
   "id": "99a0bd58",
   "metadata": {},
   "outputs": [],
   "source": [
    "df=df.drop(1191) #Bir tane veri modelin performansını arttırmayıp azaltacağından (öğrenmede zorluk) verisetinden düşürülür."
   ]
  },
  {
   "cell_type": "code",
   "execution_count": 74,
   "id": "e59a0210",
   "metadata": {},
   "outputs": [
    {
     "data": {
      "text/plain": [
       "0       Intel Iris Plus Graphics 640\n",
       "1             Intel HD Graphics 6000\n",
       "2              Intel HD Graphics 620\n",
       "3                 AMD Radeon Pro 455\n",
       "4       Intel Iris Plus Graphics 650\n",
       "                    ...             \n",
       "1298           Intel HD Graphics 520\n",
       "1299           Intel HD Graphics 520\n",
       "1300               Intel HD Graphics\n",
       "1301              AMD Radeon R5 M330\n",
       "1302               Intel HD Graphics\n",
       "Name: gpu, Length: 1302, dtype: object"
      ]
     },
     "execution_count": 74,
     "metadata": {},
     "output_type": "execute_result"
    }
   ],
   "source": [
    "df['gpu']"
   ]
  },
  {
   "cell_type": "code",
   "execution_count": 75,
   "id": "f0ed3a05",
   "metadata": {},
   "outputs": [],
   "source": [
    "df['gpu_brand'] = df['gpu'].str.extract(r'^(\\w+)')"
   ]
  },
  {
   "cell_type": "code",
   "execution_count": 76,
   "id": "13e624df",
   "metadata": {},
   "outputs": [
    {
     "data": {
      "text/plain": [
       "Intel     722\n",
       "Nvidia    400\n",
       "AMD       180\n",
       "Name: gpu_brand, dtype: int64"
      ]
     },
     "execution_count": 76,
     "metadata": {},
     "output_type": "execute_result"
    }
   ],
   "source": [
    "df['gpu_brand'].value_counts()"
   ]
  },
  {
   "cell_type": "code",
   "execution_count": 77,
   "id": "81271237",
   "metadata": {},
   "outputs": [
    {
     "data": {
      "text/html": [
       "<div>\n",
       "<style scoped>\n",
       "    .dataframe tbody tr th:only-of-type {\n",
       "        vertical-align: middle;\n",
       "    }\n",
       "\n",
       "    .dataframe tbody tr th {\n",
       "        vertical-align: top;\n",
       "    }\n",
       "\n",
       "    .dataframe thead th {\n",
       "        text-align: right;\n",
       "    }\n",
       "</style>\n",
       "<table border=\"1\" class=\"dataframe\">\n",
       "  <thead>\n",
       "    <tr style=\"text-align: right;\">\n",
       "      <th></th>\n",
       "      <th>company</th>\n",
       "      <th>product</th>\n",
       "      <th>typename</th>\n",
       "      <th>inches</th>\n",
       "      <th>cpu</th>\n",
       "      <th>ram(GB)</th>\n",
       "      <th>gpu</th>\n",
       "      <th>opsys</th>\n",
       "      <th>weight(kg)</th>\n",
       "      <th>price_euros</th>\n",
       "      <th>resolution</th>\n",
       "      <th>screentype</th>\n",
       "      <th>touchscreen</th>\n",
       "      <th>cpu_freq(GHz)</th>\n",
       "      <th>memory_1_sto(GB)</th>\n",
       "      <th>memory_1_type</th>\n",
       "      <th>memory_2_sto(GB)</th>\n",
       "      <th>memory_2_type</th>\n",
       "      <th>cpu_brand</th>\n",
       "      <th>gpu_brand</th>\n",
       "    </tr>\n",
       "  </thead>\n",
       "  <tbody>\n",
       "    <tr>\n",
       "      <th>0</th>\n",
       "      <td>Apple</td>\n",
       "      <td>MacBook Pro</td>\n",
       "      <td>Ultrabook</td>\n",
       "      <td>13.3</td>\n",
       "      <td>Intel Core i5</td>\n",
       "      <td>8</td>\n",
       "      <td>Intel Iris Plus Graphics 640</td>\n",
       "      <td>macOS</td>\n",
       "      <td>1.37</td>\n",
       "      <td>1339.69</td>\n",
       "      <td>2560x1600</td>\n",
       "      <td>IPSPanelRetinaDisplay</td>\n",
       "      <td>0.0</td>\n",
       "      <td>2.3</td>\n",
       "      <td>128.0</td>\n",
       "      <td>SSD</td>\n",
       "      <td>0.0</td>\n",
       "      <td>NaN</td>\n",
       "      <td>Intel</td>\n",
       "      <td>Intel</td>\n",
       "    </tr>\n",
       "    <tr>\n",
       "      <th>1</th>\n",
       "      <td>Apple</td>\n",
       "      <td>Macbook Air</td>\n",
       "      <td>Ultrabook</td>\n",
       "      <td>13.3</td>\n",
       "      <td>Intel Core i5</td>\n",
       "      <td>8</td>\n",
       "      <td>Intel HD Graphics 6000</td>\n",
       "      <td>macOS</td>\n",
       "      <td>1.34</td>\n",
       "      <td>898.94</td>\n",
       "      <td>1440x900</td>\n",
       "      <td>NaN</td>\n",
       "      <td>0.0</td>\n",
       "      <td>1.8</td>\n",
       "      <td>128.0</td>\n",
       "      <td>FlashStorage</td>\n",
       "      <td>0.0</td>\n",
       "      <td>NaN</td>\n",
       "      <td>Intel</td>\n",
       "      <td>Intel</td>\n",
       "    </tr>\n",
       "    <tr>\n",
       "      <th>2</th>\n",
       "      <td>HP</td>\n",
       "      <td>250 G6</td>\n",
       "      <td>Notebook</td>\n",
       "      <td>15.6</td>\n",
       "      <td>Intel Core i5 7200U</td>\n",
       "      <td>8</td>\n",
       "      <td>Intel HD Graphics 620</td>\n",
       "      <td>No OS</td>\n",
       "      <td>1.86</td>\n",
       "      <td>575.00</td>\n",
       "      <td>1920x1080</td>\n",
       "      <td>NaN</td>\n",
       "      <td>0.0</td>\n",
       "      <td>2.5</td>\n",
       "      <td>256.0</td>\n",
       "      <td>SSD</td>\n",
       "      <td>0.0</td>\n",
       "      <td>NaN</td>\n",
       "      <td>Intel</td>\n",
       "      <td>Intel</td>\n",
       "    </tr>\n",
       "    <tr>\n",
       "      <th>3</th>\n",
       "      <td>Apple</td>\n",
       "      <td>MacBook Pro</td>\n",
       "      <td>Ultrabook</td>\n",
       "      <td>15.4</td>\n",
       "      <td>Intel Core i7</td>\n",
       "      <td>16</td>\n",
       "      <td>AMD Radeon Pro 455</td>\n",
       "      <td>macOS</td>\n",
       "      <td>1.83</td>\n",
       "      <td>2537.45</td>\n",
       "      <td>2880x1800</td>\n",
       "      <td>IPSPanelRetinaDisplay</td>\n",
       "      <td>0.0</td>\n",
       "      <td>2.7</td>\n",
       "      <td>512.0</td>\n",
       "      <td>SSD</td>\n",
       "      <td>0.0</td>\n",
       "      <td>NaN</td>\n",
       "      <td>Intel</td>\n",
       "      <td>AMD</td>\n",
       "    </tr>\n",
       "    <tr>\n",
       "      <th>4</th>\n",
       "      <td>Apple</td>\n",
       "      <td>MacBook Pro</td>\n",
       "      <td>Ultrabook</td>\n",
       "      <td>13.3</td>\n",
       "      <td>Intel Core i5</td>\n",
       "      <td>8</td>\n",
       "      <td>Intel Iris Plus Graphics 650</td>\n",
       "      <td>macOS</td>\n",
       "      <td>1.37</td>\n",
       "      <td>1803.60</td>\n",
       "      <td>2560x1600</td>\n",
       "      <td>IPSPanelRetinaDisplay</td>\n",
       "      <td>0.0</td>\n",
       "      <td>3.1</td>\n",
       "      <td>256.0</td>\n",
       "      <td>SSD</td>\n",
       "      <td>0.0</td>\n",
       "      <td>NaN</td>\n",
       "      <td>Intel</td>\n",
       "      <td>Intel</td>\n",
       "    </tr>\n",
       "  </tbody>\n",
       "</table>\n",
       "</div>"
      ],
      "text/plain": [
       "  company      product   typename  inches                   cpu  ram(GB)  \\\n",
       "0   Apple  MacBook Pro  Ultrabook    13.3        Intel Core i5         8   \n",
       "1   Apple  Macbook Air  Ultrabook    13.3        Intel Core i5         8   \n",
       "2      HP       250 G6   Notebook    15.6  Intel Core i5 7200U         8   \n",
       "3   Apple  MacBook Pro  Ultrabook    15.4        Intel Core i7        16   \n",
       "4   Apple  MacBook Pro  Ultrabook    13.3        Intel Core i5         8   \n",
       "\n",
       "                            gpu  opsys  weight(kg)  price_euros resolution  \\\n",
       "0  Intel Iris Plus Graphics 640  macOS        1.37      1339.69  2560x1600   \n",
       "1        Intel HD Graphics 6000  macOS        1.34       898.94   1440x900   \n",
       "2         Intel HD Graphics 620  No OS        1.86       575.00  1920x1080   \n",
       "3            AMD Radeon Pro 455  macOS        1.83      2537.45  2880x1800   \n",
       "4  Intel Iris Plus Graphics 650  macOS        1.37      1803.60  2560x1600   \n",
       "\n",
       "              screentype  touchscreen  cpu_freq(GHz)  memory_1_sto(GB)  \\\n",
       "0  IPSPanelRetinaDisplay          0.0            2.3             128.0   \n",
       "1                    NaN          0.0            1.8             128.0   \n",
       "2                    NaN          0.0            2.5             256.0   \n",
       "3  IPSPanelRetinaDisplay          0.0            2.7             512.0   \n",
       "4  IPSPanelRetinaDisplay          0.0            3.1             256.0   \n",
       "\n",
       "  memory_1_type  memory_2_sto(GB) memory_2_type cpu_brand gpu_brand  \n",
       "0           SSD               0.0           NaN     Intel     Intel  \n",
       "1  FlashStorage               0.0           NaN     Intel     Intel  \n",
       "2           SSD               0.0           NaN     Intel     Intel  \n",
       "3           SSD               0.0           NaN     Intel       AMD  \n",
       "4           SSD               0.0           NaN     Intel     Intel  "
      ]
     },
     "execution_count": 77,
     "metadata": {},
     "output_type": "execute_result"
    }
   ],
   "source": [
    "df.head()"
   ]
  },
  {
   "cell_type": "code",
   "execution_count": 78,
   "id": "a27578b0",
   "metadata": {
    "scrolled": false
   },
   "outputs": [
    {
     "name": "stdout",
     "output_type": "stream",
     "text": [
      "<class 'pandas.core.frame.DataFrame'>\n",
      "Int64Index: 1302 entries, 0 to 1302\n",
      "Data columns (total 20 columns):\n",
      " #   Column            Non-Null Count  Dtype  \n",
      "---  ------            --------------  -----  \n",
      " 0   company           1302 non-null   object \n",
      " 1   product           1302 non-null   object \n",
      " 2   typename          1302 non-null   object \n",
      " 3   inches            1302 non-null   float64\n",
      " 4   cpu               1302 non-null   object \n",
      " 5   ram(GB)           1302 non-null   int32  \n",
      " 6   gpu               1302 non-null   object \n",
      " 7   opsys             1302 non-null   object \n",
      " 8   weight(kg)        1302 non-null   float64\n",
      " 9   price_euros       1302 non-null   float64\n",
      " 10  resolution        1302 non-null   object \n",
      " 11  screentype        364 non-null    object \n",
      " 12  touchscreen       1302 non-null   float64\n",
      " 13  cpu_freq(GHz)     1302 non-null   float64\n",
      " 14  memory_1_sto(GB)  1302 non-null   float64\n",
      " 15  memory_1_type     1302 non-null   object \n",
      " 16  memory_2_sto(GB)  1302 non-null   float64\n",
      " 17  memory_2_type     208 non-null    object \n",
      " 18  cpu_brand         1302 non-null   object \n",
      " 19  gpu_brand         1302 non-null   object \n",
      "dtypes: float64(7), int32(1), object(12)\n",
      "memory usage: 208.5+ KB\n"
     ]
    }
   ],
   "source": [
    "df.info()"
   ]
  },
  {
   "cell_type": "code",
   "execution_count": 79,
   "id": "b89f478c",
   "metadata": {},
   "outputs": [],
   "source": [
    "df.to_csv('laptop-clean.csv', index=False) "
   ]
  },
  {
   "cell_type": "markdown",
   "id": "b83ab2cd",
   "metadata": {},
   "source": [
    "## Verilerin Görselleştirilmesi"
   ]
  },
  {
   "cell_type": "code",
   "execution_count": 85,
   "id": "2bff6af2",
   "metadata": {},
   "outputs": [],
   "source": [
    "clean_data = pd.read_csv(\"laptop-clean.csv\")"
   ]
  },
  {
   "cell_type": "code",
   "execution_count": 80,
   "id": "6225a08b",
   "metadata": {},
   "outputs": [],
   "source": [
    "import matplotlib.pyplot as plt\n",
    "import seaborn as sns"
   ]
  },
  {
   "cell_type": "code",
   "execution_count": 86,
   "id": "f6e69e1b",
   "metadata": {},
   "outputs": [
    {
     "data": {
      "image/png": "[encoded data removed]",
      "text/plain": [
       "<Figure size 720x360 with 1 Axes>"
      ]
     },
     "metadata": {
      "needs_background": "light"
     },
     "output_type": "display_data"
    }
   ],
   "source": [
    "fig, ax  = plt.subplots(figsize=(10,5))\n",
    "ax=sns.countplot(x='company', data=df, palette='mako_r', order = clean_data['company'].value_counts().index)\n",
    "ax.set_xticklabels(ax.get_xticklabels(), rotation=80)\n",
    "ax.bar_label(ax.containers[0])\n",
    "plt.title('Number of laptops by brands')\n",
    "plt.show()"
   ]
  },
  {
   "cell_type": "code",
   "execution_count": 87,
   "id": "a4281f9e",
   "metadata": {},
   "outputs": [
    {
     "data": {
      "image/png": "[encoded data removed]",
      "text/plain": [
       "<Figure size 432x360 with 1 Axes>"
      ]
     },
     "metadata": {
      "needs_background": "light"
     },
     "output_type": "display_data"
    }
   ],
   "source": [
    "fig, ax  = plt.subplots(figsize=(6,5))\n",
    "ax=sns.countplot(x='typename', data=df,palette='mako_r', order = clean_data['typename'].value_counts().index)\n",
    "ax.set_xticklabels(ax.get_xticklabels(), rotation=80);\n",
    "ax.bar_label(ax.containers[0])\n",
    "plt.title('Laptop types')\n",
    "plt.show()"
   ]
  },
  {
   "cell_type": "code",
   "execution_count": 88,
   "id": "c203c8b0",
   "metadata": {},
   "outputs": [
    {
     "data": {
      "image/png": "[encoded data removed]",
      "text/plain": [
       "<Figure size 720x360 with 1 Axes>"
      ]
     },
     "metadata": {
      "needs_background": "light"
     },
     "output_type": "display_data"
    }
   ],
   "source": [
    "fig, ax = plt.subplots(figsize = (10,5))\n",
    "ax = sns.countplot(x = 'inches', data = clean_data, palette = \"viridis_r\")\n",
    "ax.set_xticklabels(ax.get_xticklabels(), rotation = 80);\n",
    "ax.bar_label(ax.containers[0])\n",
    "plt.title('Laptop types')\n",
    "plt.show()"
   ]
  },
  {
   "cell_type": "code",
   "execution_count": 91,
   "id": "e72725e1",
   "metadata": {},
   "outputs": [
    {
     "data": {
      "image/png": "[encoded data removed]",
      "text/plain": [
       "<Figure size 432x360 with 1 Axes>"
      ]
     },
     "metadata": {
      "needs_background": "light"
     },
     "output_type": "display_data"
    }
   ],
   "source": [
    "fig, ax = plt.subplots(figsize=(6,5))\n",
    "ax = sns.countplot(x = 'inches', data=clean_data, palette=\"viridis_r\")\n",
    "ax.set_xticklabels(ax.get_xticklabels(), rotation = 80)\n",
    "ax.bar_label(ax.containers[0])\n",
    "plt.title(\"Laptop screen size (inches)\")\n",
    "plt.show()"
   ]
  },
  {
   "cell_type": "code",
   "execution_count": 98,
   "id": "ccd7e217",
   "metadata": {},
   "outputs": [
    {
     "data": {
      "image/png": "[encoded data removed]",
      "text/plain": [
       "<Figure size 576x360 with 1 Axes>"
      ]
     },
     "metadata": {
      "needs_background": "light"
     },
     "output_type": "display_data"
    }
   ],
   "source": [
    "fig, ax  = plt.subplots(figsize=(8,5))\n",
    "ax=sns.countplot(x='memory_1_sto(GB)', data=df, hue='memory_1_type')\n",
    "ax.set_xticklabels(ax.get_xticklabels(), rotation=90)\n",
    "ax.set_xlabel('First Hard Drive memory storage (GB)')\n",
    "plt.title('First Hard Drive Capacity Distribution')\n",
    "plt.legend(loc='upper left', ncol=1, fontsize=15, fancybox=True, shadow=True, frameon=True)\n",
    "plt.show()"
   ]
  },
  {
   "cell_type": "code",
   "execution_count": 99,
   "id": "5928709f",
   "metadata": {},
   "outputs": [
    {
     "data": {
      "image/png": "[encoded data removed]",
      "text/plain": [
       "<Figure size 576x360 with 1 Axes>"
      ]
     },
     "metadata": {
      "needs_background": "light"
     },
     "output_type": "display_data"
    }
   ],
   "source": [
    "fig, ax  = plt.subplots(figsize=(8,5))\n",
    "ax=sns.countplot(x='memory_2_sto(GB)', data=df, hue='memory_2_type')\n",
    "ax.set_xticklabels(ax.get_xticklabels(), rotation=90)\n",
    "ax.set_xlabel('Second Hard Drive memory storage (GB)')\n",
    "plt.title('Second Hard Drive Capacity Distribution')\n",
    "plt.legend(loc='upper left', ncol=1, fontsize=15, fancybox=True, shadow=True, frameon=True)\n",
    "plt.show()"
   ]
  },
  {
   "cell_type": "markdown",
   "id": "886320d9",
   "metadata": {},
   "source": [
    "### Korelasyon Matrisi"
   ]
  },
  {
   "cell_type": "code",
   "execution_count": 101,
   "id": "434b5145",
   "metadata": {},
   "outputs": [
    {
     "data": {
      "image/png": "[encoded data removed]",
      "text/plain": [
       "<Figure size 576x360 with 2 Axes>"
      ]
     },
     "metadata": {
      "needs_background": "light"
     },
     "output_type": "display_data"
    }
   ],
   "source": [
    "plt.figure(figsize=(8,5))\n",
    "sns.heatmap(clean_data.corr(), cmap= 'RdBu', annot = True, vmin = -1, vmax = 1)\n",
    "plt.title('Correlation Matrix');\n",
    "plt.show();"
   ]
  },
  {
   "cell_type": "code",
   "execution_count": 103,
   "id": "7e2cff71",
   "metadata": {},
   "outputs": [
    {
     "data": {
      "image/png": "[encoded data removed]",
      "text/plain": [
       "<Figure size 360x360 with 1 Axes>"
      ]
     },
     "metadata": {
      "needs_background": "light"
     },
     "output_type": "display_data"
    }
   ],
   "source": [
    "sns.displot(clean_data['price_euros']);"
   ]
  },
  {
   "cell_type": "markdown",
   "id": "bf04d502",
   "metadata": {},
   "source": [
    "**Ayrıca, 'fiyat' hedef değişkeni sağa çarpık olduğundan, algoritmaların tahmin performansını iyileştirmek için onu log dönüşümüne tabi tutacağız.**"
   ]
  },
  {
   "cell_type": "code",
   "execution_count": 107,
   "id": "16e819d3",
   "metadata": {},
   "outputs": [],
   "source": [
    "clean_data['price']=np.log(clean_data['price_euros'])"
   ]
  },
  {
   "cell_type": "code",
   "execution_count": 108,
   "id": "34fc03bb",
   "metadata": {},
   "outputs": [
    {
     "data": {
      "image/png": "[encoded data removed]",
      "text/plain": [
       "<Figure size 360x360 with 1 Axes>"
      ]
     },
     "metadata": {
      "needs_background": "light"
     },
     "output_type": "display_data"
    }
   ],
   "source": [
    "sns.displot(clean_data['price']);"
   ]
  },
  {
   "cell_type": "code",
   "execution_count": 110,
   "id": "3bbbaff2",
   "metadata": {},
   "outputs": [],
   "source": [
    "clean_data=clean_data.fillna('NaN')"
   ]
  },
  {
   "cell_type": "markdown",
   "id": "8f512a73",
   "metadata": {},
   "source": [
    "### Kategorik değerlere encoding işlemi"
   ]
  },
  {
   "cell_type": "code",
   "execution_count": 112,
   "id": "0fd07f86",
   "metadata": {},
   "outputs": [
    {
     "name": "stdout",
     "output_type": "stream",
     "text": [
      "company\n",
      "product\n",
      "typename\n",
      "inches\n",
      "cpu\n",
      "ram(GB)\n",
      "gpu\n",
      "opsys\n",
      "weight(kg)\n",
      "price_euros\n",
      "resolution\n",
      "screentype\n",
      "touchscreen\n",
      "cpu_freq(GHz)\n",
      "memory_1_sto(GB)\n",
      "memory_1_type\n",
      "memory_2_sto(GB)\n",
      "memory_2_type\n",
      "cpu_brand\n",
      "gpu_brand\n",
      "price\n"
     ]
    }
   ],
   "source": [
    "catCols = []\n",
    "for i in clean_data.columns:\n",
    "    print(i)\n",
    "    if clean_data[i].dtype == \"object\":\n",
    "        catCols.append(i)"
   ]
  },
  {
   "cell_type": "code",
   "execution_count": 113,
   "id": "07fc473f",
   "metadata": {},
   "outputs": [],
   "source": [
    "catCols =  ['company','product','typename','cpu','gpu','opsys','resolution','screentype','resolution','memory_1_type','memory_2_type','gpu_brand','cpu_brand']"
   ]
  },
  {
   "cell_type": "code",
   "execution_count": 114,
   "id": "181e727d",
   "metadata": {},
   "outputs": [],
   "source": [
    "from sklearn.preprocessing import LabelEncoder"
   ]
  },
  {
   "cell_type": "code",
   "execution_count": 116,
   "id": "3f1fcc7f",
   "metadata": {},
   "outputs": [],
   "source": [
    "en = LabelEncoder()\n",
    "for cols in catCols:\n",
    "    clean_data[cols] = en.fit_transform(clean_data[cols])"
   ]
  },
  {
   "cell_type": "code",
   "execution_count": 117,
   "id": "9b2f26e7",
   "metadata": {},
   "outputs": [
    {
     "data": {
      "text/html": [
       "<div>\n",
       "<style scoped>\n",
       "    .dataframe tbody tr th:only-of-type {\n",
       "        vertical-align: middle;\n",
       "    }\n",
       "\n",
       "    .dataframe tbody tr th {\n",
       "        vertical-align: top;\n",
       "    }\n",
       "\n",
       "    .dataframe thead th {\n",
       "        text-align: right;\n",
       "    }\n",
       "</style>\n",
       "<table border=\"1\" class=\"dataframe\">\n",
       "  <thead>\n",
       "    <tr style=\"text-align: right;\">\n",
       "      <th></th>\n",
       "      <th>company</th>\n",
       "      <th>product</th>\n",
       "      <th>typename</th>\n",
       "      <th>inches</th>\n",
       "      <th>cpu</th>\n",
       "      <th>ram(GB)</th>\n",
       "      <th>gpu</th>\n",
       "      <th>opsys</th>\n",
       "      <th>weight(kg)</th>\n",
       "      <th>price_euros</th>\n",
       "      <th>...</th>\n",
       "      <th>screentype</th>\n",
       "      <th>touchscreen</th>\n",
       "      <th>cpu_freq(GHz)</th>\n",
       "      <th>memory_1_sto(GB)</th>\n",
       "      <th>memory_1_type</th>\n",
       "      <th>memory_2_sto(GB)</th>\n",
       "      <th>memory_2_type</th>\n",
       "      <th>cpu_brand</th>\n",
       "      <th>gpu_brand</th>\n",
       "      <th>price</th>\n",
       "    </tr>\n",
       "  </thead>\n",
       "  <tbody>\n",
       "    <tr>\n",
       "      <th>0</th>\n",
       "      <td>1</td>\n",
       "      <td>299</td>\n",
       "      <td>4</td>\n",
       "      <td>13.3</td>\n",
       "      <td>51</td>\n",
       "      <td>8</td>\n",
       "      <td>57</td>\n",
       "      <td>8</td>\n",
       "      <td>1.37</td>\n",
       "      <td>1339.69</td>\n",
       "      <td>...</td>\n",
       "      <td>1</td>\n",
       "      <td>0.0</td>\n",
       "      <td>2.3</td>\n",
       "      <td>128.0</td>\n",
       "      <td>3</td>\n",
       "      <td>0.0</td>\n",
       "      <td>2</td>\n",
       "      <td>1</td>\n",
       "      <td>1</td>\n",
       "      <td>7.200194</td>\n",
       "    </tr>\n",
       "    <tr>\n",
       "      <th>1</th>\n",
       "      <td>1</td>\n",
       "      <td>300</td>\n",
       "      <td>4</td>\n",
       "      <td>13.3</td>\n",
       "      <td>51</td>\n",
       "      <td>8</td>\n",
       "      <td>50</td>\n",
       "      <td>8</td>\n",
       "      <td>1.34</td>\n",
       "      <td>898.94</td>\n",
       "      <td>...</td>\n",
       "      <td>2</td>\n",
       "      <td>0.0</td>\n",
       "      <td>1.8</td>\n",
       "      <td>128.0</td>\n",
       "      <td>0</td>\n",
       "      <td>0.0</td>\n",
       "      <td>2</td>\n",
       "      <td>1</td>\n",
       "      <td>1</td>\n",
       "      <td>6.801216</td>\n",
       "    </tr>\n",
       "    <tr>\n",
       "      <th>2</th>\n",
       "      <td>7</td>\n",
       "      <td>50</td>\n",
       "      <td>3</td>\n",
       "      <td>15.6</td>\n",
       "      <td>57</td>\n",
       "      <td>8</td>\n",
       "      <td>52</td>\n",
       "      <td>4</td>\n",
       "      <td>1.86</td>\n",
       "      <td>575.00</td>\n",
       "      <td>...</td>\n",
       "      <td>2</td>\n",
       "      <td>0.0</td>\n",
       "      <td>2.5</td>\n",
       "      <td>256.0</td>\n",
       "      <td>3</td>\n",
       "      <td>0.0</td>\n",
       "      <td>2</td>\n",
       "      <td>1</td>\n",
       "      <td>1</td>\n",
       "      <td>6.354370</td>\n",
       "    </tr>\n",
       "    <tr>\n",
       "      <th>3</th>\n",
       "      <td>1</td>\n",
       "      <td>299</td>\n",
       "      <td>4</td>\n",
       "      <td>15.4</td>\n",
       "      <td>65</td>\n",
       "      <td>16</td>\n",
       "      <td>9</td>\n",
       "      <td>8</td>\n",
       "      <td>1.83</td>\n",
       "      <td>2537.45</td>\n",
       "      <td>...</td>\n",
       "      <td>1</td>\n",
       "      <td>0.0</td>\n",
       "      <td>2.7</td>\n",
       "      <td>512.0</td>\n",
       "      <td>3</td>\n",
       "      <td>0.0</td>\n",
       "      <td>2</td>\n",
       "      <td>1</td>\n",
       "      <td>0</td>\n",
       "      <td>7.838915</td>\n",
       "    </tr>\n",
       "    <tr>\n",
       "      <th>4</th>\n",
       "      <td>1</td>\n",
       "      <td>299</td>\n",
       "      <td>4</td>\n",
       "      <td>13.3</td>\n",
       "      <td>51</td>\n",
       "      <td>8</td>\n",
       "      <td>58</td>\n",
       "      <td>8</td>\n",
       "      <td>1.37</td>\n",
       "      <td>1803.60</td>\n",
       "      <td>...</td>\n",
       "      <td>1</td>\n",
       "      <td>0.0</td>\n",
       "      <td>3.1</td>\n",
       "      <td>256.0</td>\n",
       "      <td>3</td>\n",
       "      <td>0.0</td>\n",
       "      <td>2</td>\n",
       "      <td>1</td>\n",
       "      <td>1</td>\n",
       "      <td>7.497540</td>\n",
       "    </tr>\n",
       "  </tbody>\n",
       "</table>\n",
       "<p>5 rows × 21 columns</p>\n",
       "</div>"
      ],
      "text/plain": [
       "   company  product  typename  inches  cpu  ram(GB)  gpu  opsys  weight(kg)  \\\n",
       "0        1      299         4    13.3   51        8   57      8        1.37   \n",
       "1        1      300         4    13.3   51        8   50      8        1.34   \n",
       "2        7       50         3    15.6   57        8   52      4        1.86   \n",
       "3        1      299         4    15.4   65       16    9      8        1.83   \n",
       "4        1      299         4    13.3   51        8   58      8        1.37   \n",
       "\n",
       "   price_euros  ...  screentype  touchscreen  cpu_freq(GHz)  memory_1_sto(GB)  \\\n",
       "0      1339.69  ...           1          0.0            2.3             128.0   \n",
       "1       898.94  ...           2          0.0            1.8             128.0   \n",
       "2       575.00  ...           2          0.0            2.5             256.0   \n",
       "3      2537.45  ...           1          0.0            2.7             512.0   \n",
       "4      1803.60  ...           1          0.0            3.1             256.0   \n",
       "\n",
       "   memory_1_type  memory_2_sto(GB)  memory_2_type  cpu_brand  gpu_brand  \\\n",
       "0              3               0.0              2          1          1   \n",
       "1              0               0.0              2          1          1   \n",
       "2              3               0.0              2          1          1   \n",
       "3              3               0.0              2          1          0   \n",
       "4              3               0.0              2          1          1   \n",
       "\n",
       "      price  \n",
       "0  7.200194  \n",
       "1  6.801216  \n",
       "2  6.354370  \n",
       "3  7.838915  \n",
       "4  7.497540  \n",
       "\n",
       "[5 rows x 21 columns]"
      ]
     },
     "execution_count": 117,
     "metadata": {},
     "output_type": "execute_result"
    }
   ],
   "source": [
    "clean_data.head()"
   ]
  },
  {
   "cell_type": "markdown",
   "id": "95eb4580",
   "metadata": {},
   "source": [
    "# Regresyon Modelleri"
   ]
  },
  {
   "cell_type": "markdown",
   "id": "5dabf201",
   "metadata": {},
   "source": [
    "## Linear Regression"
   ]
  },
  {
   "cell_type": "code",
   "execution_count": 153,
   "id": "7b804de4",
   "metadata": {},
   "outputs": [],
   "source": [
    "from sklearn.linear_model import LinearRegression\n",
    "from sklearn.linear_model import Lasso\n",
    "from sklearn.neighbors import KNeighborsRegressor\n",
    "from sklearn.ensemble import RandomForestRegressor\n",
    "from sklearn.metrics import r2_score\n",
    "from sklearn.metrics import mean_squared_error\n",
    "import optuna"
   ]
  },
  {
   "cell_type": "code",
   "execution_count": 118,
   "id": "c9e4deb9",
   "metadata": {},
   "outputs": [],
   "source": [
    "X = clean_data.drop('price', axis = 1).values\n",
    "y = clean_data['price'].values"
   ]
  },
  {
   "cell_type": "code",
   "execution_count": 119,
   "id": "8ceb0639",
   "metadata": {},
   "outputs": [],
   "source": [
    "from sklearn.model_selection import train_test_split"
   ]
  },
  {
   "cell_type": "code",
   "execution_count": 122,
   "id": "64c43041",
   "metadata": {},
   "outputs": [],
   "source": [
    "x_train,x_test,y_train,y_test = train_test_split(X,y,test_size=0.2,random_state=2)"
   ]
  },
  {
   "cell_type": "code",
   "execution_count": 125,
   "id": "1788f5b8",
   "metadata": {},
   "outputs": [
    {
     "data": {
      "text/plain": [
       "LinearRegression()"
      ]
     },
     "execution_count": 125,
     "metadata": {},
     "output_type": "execute_result"
    }
   ],
   "source": [
    "#linear regression\n",
    "lr = LinearRegression()\n",
    "lr.fit(x_train,y_train)"
   ]
  },
  {
   "cell_type": "code",
   "execution_count": 126,
   "id": "0150d356",
   "metadata": {},
   "outputs": [],
   "source": [
    "y_pred = lr.predict(x_test)"
   ]
  },
  {
   "cell_type": "code",
   "execution_count": 129,
   "id": "84ad5ad2",
   "metadata": {},
   "outputs": [
    {
     "data": {
      "text/plain": [
       "0.9243863712624609"
      ]
     },
     "execution_count": 129,
     "metadata": {},
     "output_type": "execute_result"
    }
   ],
   "source": [
    "r2_score(y_test,y_pred)"
   ]
  },
  {
   "cell_type": "code",
   "execution_count": 130,
   "id": "25e6f574",
   "metadata": {},
   "outputs": [
    {
     "data": {
      "text/plain": [
       "<matplotlib.collections.PathCollection at 0x2a9fc41c5e0>"
      ]
     },
     "execution_count": 130,
     "metadata": {},
     "output_type": "execute_result"
    },
    {
     "data": {
      "image/png": "[encoded data removed]",
      "text/plain": [
       "<Figure size 1080x720 with 2 Axes>"
      ]
     },
     "metadata": {
      "needs_background": "light"
     },
     "output_type": "display_data"
    }
   ],
   "source": [
    "plt.figure(figsize = (15,10))\n",
    "plt.subplot(2,2,1)\n",
    "plt.title('Linear Regression For  Train  Data')\n",
    "plt.scatter(lr.predict(x_train), y_train, color='blue')\n",
    "plt.subplot(2,2,2)\n",
    "plt.title('Linear Regression For  Test Data')\n",
    "plt.scatter(y_pred, y_test, color='red')"
   ]
  },
  {
   "cell_type": "code",
   "execution_count": 131,
   "id": "2f74571d",
   "metadata": {},
   "outputs": [
    {
     "data": {
      "text/html": [
       "<div>\n",
       "<style scoped>\n",
       "    .dataframe tbody tr th:only-of-type {\n",
       "        vertical-align: middle;\n",
       "    }\n",
       "\n",
       "    .dataframe tbody tr th {\n",
       "        vertical-align: top;\n",
       "    }\n",
       "\n",
       "    .dataframe thead th {\n",
       "        text-align: right;\n",
       "    }\n",
       "</style>\n",
       "<table border=\"1\" class=\"dataframe\">\n",
       "  <thead>\n",
       "    <tr style=\"text-align: right;\">\n",
       "      <th></th>\n",
       "      <th>predicted_price</th>\n",
       "      <th>actual_price</th>\n",
       "    </tr>\n",
       "  </thead>\n",
       "  <tbody>\n",
       "    <tr>\n",
       "      <th>0</th>\n",
       "      <td>6.482350</td>\n",
       "      <td>6.514713</td>\n",
       "    </tr>\n",
       "    <tr>\n",
       "      <th>1</th>\n",
       "      <td>5.724925</td>\n",
       "      <td>5.411646</td>\n",
       "    </tr>\n",
       "    <tr>\n",
       "      <th>2</th>\n",
       "      <td>5.997562</td>\n",
       "      <td>5.988961</td>\n",
       "    </tr>\n",
       "    <tr>\n",
       "      <th>3</th>\n",
       "      <td>6.282004</td>\n",
       "      <td>6.136322</td>\n",
       "    </tr>\n",
       "    <tr>\n",
       "      <th>4</th>\n",
       "      <td>7.368976</td>\n",
       "      <td>7.494986</td>\n",
       "    </tr>\n",
       "  </tbody>\n",
       "</table>\n",
       "</div>"
      ],
      "text/plain": [
       "   predicted_price  actual_price\n",
       "0         6.482350      6.514713\n",
       "1         5.724925      5.411646\n",
       "2         5.997562      5.988961\n",
       "3         6.282004      6.136322\n",
       "4         7.368976      7.494986"
      ]
     },
     "execution_count": 131,
     "metadata": {},
     "output_type": "execute_result"
    }
   ],
   "source": [
    "lr_df = pd.DataFrame({\"predicted_price\":y_pred,\"actual_price\":y_test})\n",
    "lr_df.head(5)"
   ]
  },
  {
   "cell_type": "markdown",
   "id": "153c5976",
   "metadata": {},
   "source": [
    "## LASSO WITH OPTUNA"
   ]
  },
  {
   "cell_type": "code",
   "execution_count": 132,
   "id": "e3cecfb5",
   "metadata": {},
   "outputs": [],
   "source": [
    "def lasso_optuna (trial,x_train=x_train,x_test=x_test,y_train=y_train,y_test=y_test):\n",
    "\n",
    "    #Parametrelerin tanımlanması\n",
    "    params = {\n",
    "    'alpha'             : trial.suggest_loguniform('alpha', 1e-15, 5.0), \n",
    "    'max_iter'          : trial.suggest_categorical('max_iter', [1000,2000,3000,4000,5000,6000,7000,8000,9000,10000]), \n",
    "    'tol'               : trial.suggest_loguniform('tol', 1e-9, 1e-1),\n",
    "\n",
    "    }\n",
    "    #model oluşturma ve parametreleri aktarma \n",
    "    model = Lasso(**params) \n",
    "    model.fit(x_train, y_train) \n",
    "    predection = model.predict(x_test)\n",
    "    rmse = mean_squared_error(y_test, predection, squared=False)\n",
    "    return rmse"
   ]
  },
  {
   "cell_type": "code",
   "execution_count": 138,
   "id": "d71074cd",
   "metadata": {},
   "outputs": [
    {
     "name": "stderr",
     "output_type": "stream",
     "text": [
      "\u001b[32m[I 2023-05-25 12:20:06,830]\u001b[0m A new study created in memory with name: no-name-0167620b-69c1-4cf8-bb00-e110db534719\u001b[0m\n",
      "\u001b[32m[I 2023-05-25 12:20:06,837]\u001b[0m Trial 0 finished with value: 0.16400019135924374 and parameters: {'alpha': 1.9783161273378153e-05, 'max_iter': 8000, 'tol': 2.7676677302387288e-08}. Best is trial 0 with value: 0.16400019135924374.\u001b[0m\n",
      "\u001b[32m[I 2023-05-25 12:20:06,846]\u001b[0m Trial 1 finished with value: 0.16398476024231692 and parameters: {'alpha': 7.889379770901591e-10, 'max_iter': 7000, 'tol': 0.005722368027479517}. Best is trial 1 with value: 0.16398476024231692.\u001b[0m\n",
      "\u001b[32m[I 2023-05-25 12:20:06,857]\u001b[0m Trial 2 finished with value: 0.1639847596384878 and parameters: {'alpha': 8.504468477788915e-12, 'max_iter': 7000, 'tol': 2.0528241266917027e-08}. Best is trial 2 with value: 0.1639847596384878.\u001b[0m\n",
      "\u001b[32m[I 2023-05-25 12:20:06,863]\u001b[0m Trial 3 finished with value: 0.168285552757835 and parameters: {'alpha': 0.007279307809077453, 'max_iter': 1000, 'tol': 0.0028881091769752897}. Best is trial 2 with value: 0.1639847596384878.\u001b[0m\n",
      "\u001b[32m[I 2023-05-25 12:20:06,870]\u001b[0m Trial 4 finished with value: 0.16398892950207544 and parameters: {'alpha': 5.375911525251193e-06, 'max_iter': 3000, 'tol': 0.0036939622156707598}. Best is trial 2 with value: 0.1639847596384878.\u001b[0m\n",
      "\u001b[32m[I 2023-05-25 12:20:06,879]\u001b[0m Trial 5 finished with value: 0.16398475982073632 and parameters: {'alpha': 2.443552460500575e-10, 'max_iter': 5000, 'tol': 1.3481301864788234e-07}. Best is trial 2 with value: 0.1639847596384878.\u001b[0m\n",
      "\u001b[32m[I 2023-05-25 12:20:06,888]\u001b[0m Trial 6 finished with value: 0.16398476153910968 and parameters: {'alpha': 2.468145737594635e-09, 'max_iter': 5000, 'tol': 5.3955092684634446e-09}. Best is trial 2 with value: 0.1639847596384878.\u001b[0m\n",
      "\u001b[32m[I 2023-05-25 12:20:06,907]\u001b[0m Trial 7 finished with value: 0.16398475963192616 and parameters: {'alpha': 1.3161448784437248e-14, 'max_iter': 5000, 'tol': 8.3046867906286e-07}. Best is trial 7 with value: 0.16398475963192616.\u001b[0m\n",
      "\u001b[32m[I 2023-05-25 12:20:06,915]\u001b[0m Trial 8 finished with value: 0.16400497427636374 and parameters: {'alpha': 2.5835093266760538e-05, 'max_iter': 8000, 'tol': 7.690108564684598e-05}. Best is trial 7 with value: 0.16398475963192616.\u001b[0m\n",
      "\u001b[32m[I 2023-05-25 12:20:06,928]\u001b[0m Trial 9 finished with value: 0.16398477126997257 and parameters: {'alpha': 1.5060915831757877e-08, 'max_iter': 6000, 'tol': 1.001315600787221e-07}. Best is trial 7 with value: 0.16398475963192616.\u001b[0m\n",
      "\u001b[32m[I 2023-05-25 12:20:06,983]\u001b[0m Trial 10 finished with value: 0.16398475963191822 and parameters: {'alpha': 2.9501950143083613e-15, 'max_iter': 9000, 'tol': 5.049414381314058e-06}. Best is trial 10 with value: 0.16398475963191822.\u001b[0m\n",
      "\u001b[32m[I 2023-05-25 12:20:07,029]\u001b[0m Trial 11 finished with value: 0.16398475963191714 and parameters: {'alpha': 1.5891328293144948e-15, 'max_iter': 9000, 'tol': 2.9942932516562913e-06}. Best is trial 11 with value: 0.16398475963191714.\u001b[0m\n",
      "\u001b[32m[I 2023-05-25 12:20:07,059]\u001b[0m Trial 12 finished with value: 0.16398475963191958 and parameters: {'alpha': 4.5608398078109325e-15, 'max_iter': 9000, 'tol': 6.638198990780216e-06}. Best is trial 11 with value: 0.16398475963191714.\u001b[0m\n",
      "\u001b[32m[I 2023-05-25 12:20:07,213]\u001b[0m Trial 13 finished with value: 0.16398475963191686 and parameters: {'alpha': 1.0277058933202842e-15, 'max_iter': 9000, 'tol': 1.1868465882614024e-05}. Best is trial 13 with value: 0.16398475963191686.\u001b[0m\n",
      "\u001b[32m[I 2023-05-25 12:20:07,242]\u001b[0m Trial 14 finished with value: 0.1639847596324997 and parameters: {'alpha': 7.552381070644472e-13, 'max_iter': 9000, 'tol': 0.00013538396327480613}. Best is trial 13 with value: 0.16398475963191686.\u001b[0m\n",
      "\u001b[32m[I 2023-05-25 12:20:07,281]\u001b[0m Trial 15 finished with value: 0.16398475963213646 and parameters: {'alpha': 2.8520386680943554e-13, 'max_iter': 4000, 'tol': 1.4418086446980487e-09}. Best is trial 13 with value: 0.16398475963191686.\u001b[0m\n",
      "\u001b[32m[I 2023-05-25 12:20:07,307]\u001b[0m Trial 16 finished with value: 0.16398475964139236 and parameters: {'alpha': 1.2263172115476703e-11, 'max_iter': 2000, 'tol': 1.1021380765746365e-06}. Best is trial 13 with value: 0.16398475963191686.\u001b[0m\n",
      "\u001b[32m[I 2023-05-25 12:20:07,365]\u001b[0m Trial 17 finished with value: 0.16398475963191686 and parameters: {'alpha': 1.0237666204307842e-15, 'max_iter': 10000, 'tol': 5.859832249848965e-05}. Best is trial 13 with value: 0.16398475963191686.\u001b[0m\n",
      "\u001b[32m[I 2023-05-25 12:20:07,382]\u001b[0m Trial 18 finished with value: 0.16377809257835862 and parameters: {'alpha': 2.25997754369811e-13, 'max_iter': 10000, 'tol': 0.08964766126539064}. Best is trial 18 with value: 0.16377809257835862.\u001b[0m\n",
      "\u001b[32m[I 2023-05-25 12:20:07,410]\u001b[0m Trial 19 finished with value: 0.16398475963212214 and parameters: {'alpha': 2.6192219347291915e-13, 'max_iter': 10000, 'tol': 0.036118722532897336}. Best is trial 18 with value: 0.16377809257835862.\u001b[0m\n",
      "\u001b[32m[I 2023-05-25 12:20:07,436]\u001b[0m Trial 20 finished with value: 0.16398475965329995 and parameters: {'alpha': 2.7658870316951915e-11, 'max_iter': 10000, 'tol': 0.00045334865139476876}. Best is trial 18 with value: 0.16377809257835862.\u001b[0m\n",
      "\u001b[32m[I 2023-05-25 12:20:07,476]\u001b[0m Trial 21 finished with value: 0.16398475963195652 and parameters: {'alpha': 5.234950720187779e-14, 'max_iter': 10000, 'tol': 3.965101957850932e-05}. Best is trial 18 with value: 0.16377809257835862.\u001b[0m\n",
      "\u001b[32m[I 2023-05-25 12:20:07,495]\u001b[0m Trial 22 finished with value: 0.1629816312050181 and parameters: {'alpha': 1.0519279871804067e-15, 'max_iter': 10000, 'tol': 0.05268153173853979}. Best is trial 22 with value: 0.1629816312050181.\u001b[0m\n",
      "\u001b[32m[I 2023-05-25 12:20:07,520]\u001b[0m Trial 23 finished with value: 0.1644907429290931 and parameters: {'alpha': 2.4844163185102655e-14, 'max_iter': 10000, 'tol': 0.09716936266668795}. Best is trial 22 with value: 0.1629816312050181.\u001b[0m\n",
      "\u001b[32m[I 2023-05-25 12:20:07,547]\u001b[0m Trial 24 finished with value: 0.16398475963277515 and parameters: {'alpha': 1.1086024191804135e-12, 'max_iter': 6000, 'tol': 0.02364887992789973}. Best is trial 22 with value: 0.1629816312050181.\u001b[0m\n",
      "\u001b[32m[I 2023-05-25 12:20:07,581]\u001b[0m Trial 25 finished with value: 0.1639847596319574 and parameters: {'alpha': 5.3478420605442e-14, 'max_iter': 1000, 'tol': 0.0007089772502260862}. Best is trial 22 with value: 0.1629816312050181.\u001b[0m\n",
      "\u001b[32m[I 2023-05-25 12:20:07,603]\u001b[0m Trial 26 finished with value: 0.16449074292909047 and parameters: {'alpha': 1.6438195976156208e-15, 'max_iter': 4000, 'tol': 0.09985115067548718}. Best is trial 22 with value: 0.1629816312050181.\u001b[0m\n",
      "\u001b[32m[I 2023-05-25 12:20:07,633]\u001b[0m Trial 27 finished with value: 0.16398475963194908 and parameters: {'alpha': 4.271300729420671e-14, 'max_iter': 2000, 'tol': 0.01556534194257609}. Best is trial 22 with value: 0.1629816312050181.\u001b[0m\n",
      "\u001b[32m[I 2023-05-25 12:20:07,672]\u001b[0m Trial 28 finished with value: 0.16398475963362147 and parameters: {'alpha': 2.2050513623191885e-12, 'max_iter': 3000, 'tol': 0.0010034905528578822}. Best is trial 22 with value: 0.1629816312050181.\u001b[0m\n",
      "\u001b[32m[I 2023-05-25 12:20:07,705]\u001b[0m Trial 29 finished with value: 0.16398475967836837 and parameters: {'alpha': 6.003610115860848e-11, 'max_iter': 8000, 'tol': 0.0071659657164034425}. Best is trial 22 with value: 0.1629816312050181.\u001b[0m\n",
      "\u001b[32m[I 2023-05-25 12:20:07,734]\u001b[0m Trial 30 finished with value: 0.1639847596320428 and parameters: {'alpha': 1.638533640494658e-13, 'max_iter': 10000, 'tol': 0.002031858379509894}. Best is trial 22 with value: 0.1629816312050181.\u001b[0m\n",
      "\u001b[32m[I 2023-05-25 12:20:07,921]\u001b[0m Trial 31 finished with value: 0.1639847596319174 and parameters: {'alpha': 1.006564381264323e-15, 'max_iter': 10000, 'tol': 1.486556804431216e-05}. Best is trial 22 with value: 0.1629816312050181.\u001b[0m\n",
      "\u001b[32m[I 2023-05-25 12:20:07,952]\u001b[0m Trial 32 finished with value: 0.16398475963192644 and parameters: {'alpha': 1.3478629711354184e-14, 'max_iter': 10000, 'tol': 0.012857492624043166}. Best is trial 22 with value: 0.1629816312050181.\u001b[0m\n",
      "\u001b[32m[I 2023-05-25 12:20:07,985]\u001b[0m Trial 33 finished with value: 0.163984759634061 and parameters: {'alpha': 2.7748289948906488e-12, 'max_iter': 7000, 'tol': 0.0002644373375468414}. Best is trial 22 with value: 0.1629816312050181.\u001b[0m\n"
     ]
    },
    {
     "name": "stderr",
     "output_type": "stream",
     "text": [
      "\u001b[32m[I 2023-05-25 12:20:08,024]\u001b[0m Trial 34 finished with value: 0.16398475963191697 and parameters: {'alpha': 1.0845825558404284e-15, 'max_iter': 10000, 'tol': 2.6602668971412886e-05}. Best is trial 22 with value: 0.1629816312050181.\u001b[0m\n",
      "\u001b[32m[I 2023-05-25 12:20:08,053]\u001b[0m Trial 35 finished with value: 0.16398475963192513 and parameters: {'alpha': 1.1675471642041348e-14, 'max_iter': 10000, 'tol': 0.002272036989138125}. Best is trial 22 with value: 0.1629816312050181.\u001b[0m\n",
      "\u001b[32m[I 2023-05-25 12:20:08,090]\u001b[0m Trial 36 finished with value: 0.16398475963210377 and parameters: {'alpha': 2.427010876737288e-13, 'max_iter': 1000, 'tol': 0.00010071694101253161}. Best is trial 22 with value: 0.1629816312050181.\u001b[0m\n",
      "\u001b[32m[I 2023-05-25 12:20:08,122]\u001b[0m Trial 37 finished with value: 0.16398475963192355 and parameters: {'alpha': 9.624008307310816e-15, 'max_iter': 7000, 'tol': 0.006160622930936457}. Best is trial 22 with value: 0.1629816312050181.\u001b[0m\n",
      "\u001b[32m[I 2023-05-25 12:20:08,147]\u001b[0m Trial 38 finished with value: 0.1639847596366347 and parameters: {'alpha': 6.062843083666931e-12, 'max_iter': 3000, 'tol': 0.032915221936207696}. Best is trial 22 with value: 0.1629816312050181.\u001b[0m\n",
      "\u001b[32m[I 2023-05-25 12:20:08,170]\u001b[0m Trial 39 finished with value: 0.16398475977293245 and parameters: {'alpha': 1.823090785159452e-10, 'max_iter': 9000, 'tol': 0.0012665518433210075}. Best is trial 22 with value: 0.1629816312050181.\u001b[0m\n",
      "\u001b[32m[I 2023-05-25 12:20:08,204]\u001b[0m Trial 40 finished with value: 0.16398475963195264 and parameters: {'alpha': 4.725391889395482e-14, 'max_iter': 10000, 'tol': 0.0043164768662182825}. Best is trial 22 with value: 0.1629816312050181.\u001b[0m\n",
      "\u001b[32m[I 2023-05-25 12:20:08,258]\u001b[0m Trial 41 finished with value: 0.1639847596319173 and parameters: {'alpha': 1.6840315391544719e-15, 'max_iter': 10000, 'tol': 0.0003132024519645548}. Best is trial 22 with value: 0.1629816312050181.\u001b[0m\n",
      "\u001b[32m[I 2023-05-25 12:20:08,304]\u001b[0m Trial 42 finished with value: 0.1639847596319169 and parameters: {'alpha': 1.293022718761896e-15, 'max_iter': 10000, 'tol': 2.9293206272876532e-05}. Best is trial 22 with value: 0.1629816312050181.\u001b[0m\n",
      "\u001b[32m[I 2023-05-25 12:20:08,338]\u001b[0m Trial 43 finished with value: 0.16398475963192757 and parameters: {'alpha': 1.4995441869473386e-14, 'max_iter': 5000, 'tol': 3.8924428963820935e-05}. Best is trial 22 with value: 0.1629816312050181.\u001b[0m\n",
      "\u001b[32m[I 2023-05-25 12:20:08,371]\u001b[0m Trial 44 finished with value: 0.1639847596319238 and parameters: {'alpha': 1.0000583477519817e-14, 'max_iter': 10000, 'tol': 1.0209544420646362e-05}. Best is trial 22 with value: 0.1629816312050181.\u001b[0m\n",
      "\u001b[32m[I 2023-05-25 12:20:08,402]\u001b[0m Trial 45 finished with value: 0.1639847596319198 and parameters: {'alpha': 4.886933028374167e-15, 'max_iter': 8000, 'tol': 9.183580694573571e-05}. Best is trial 22 with value: 0.1629816312050181.\u001b[0m\n",
      "\u001b[32m[I 2023-05-25 12:20:08,436]\u001b[0m Trial 46 finished with value: 0.16398475963205966 and parameters: {'alpha': 1.8574944333987922e-13, 'max_iter': 6000, 'tol': 1.888114069520398e-05}. Best is trial 22 with value: 0.1629816312050181.\u001b[0m\n",
      "\u001b[32m[I 2023-05-25 12:20:08,471]\u001b[0m Trial 47 finished with value: 0.16398475963191916 and parameters: {'alpha': 3.945358208176723e-15, 'max_iter': 9000, 'tol': 2.8093739860320314e-06}. Best is trial 22 with value: 0.1629816312050181.\u001b[0m\n",
      "\u001b[32m[I 2023-05-25 12:20:08,508]\u001b[0m Trial 48 finished with value: 0.1639847596319169 and parameters: {'alpha': 1.0743746862429603e-15, 'max_iter': 10000, 'tol': 4.683518761432832e-05}. Best is trial 22 with value: 0.1629816312050181.\u001b[0m\n",
      "\u001b[32m[I 2023-05-25 12:20:08,544]\u001b[0m Trial 49 finished with value: 0.1639847596323423 and parameters: {'alpha': 5.513124865471541e-13, 'max_iter': 4000, 'tol': 0.0002535168864684965}. Best is trial 22 with value: 0.1629816312050181.\u001b[0m\n",
      "\u001b[32m[I 2023-05-25 12:20:08,577]\u001b[0m Trial 50 finished with value: 0.1639847635691562 and parameters: {'alpha': 5.0937566331207155e-09, 'max_iter': 9000, 'tol': 0.0001449893789493762}. Best is trial 22 with value: 0.1629816312050181.\u001b[0m\n",
      "\u001b[32m[I 2023-05-25 12:20:08,670]\u001b[0m Trial 51 finished with value: 0.16398475963191678 and parameters: {'alpha': 1.0274204726644875e-15, 'max_iter': 10000, 'tol': 5.1243009118155934e-05}. Best is trial 22 with value: 0.1629816312050181.\u001b[0m\n",
      "\u001b[32m[I 2023-05-25 12:20:08,705]\u001b[0m Trial 52 finished with value: 0.16398475963192008 and parameters: {'alpha': 5.21894670768284e-15, 'max_iter': 10000, 'tol': 2.0031340589568594e-05}. Best is trial 22 with value: 0.1629816312050181.\u001b[0m\n",
      "\u001b[32m[I 2023-05-25 12:20:08,746]\u001b[0m Trial 53 finished with value: 0.16398475963196874 and parameters: {'alpha': 6.804063308931603e-14, 'max_iter': 10000, 'tol': 7.1933308015021165e-06}. Best is trial 22 with value: 0.1629816312050181.\u001b[0m\n",
      "\u001b[32m[I 2023-05-25 12:20:08,788]\u001b[0m Trial 54 finished with value: 0.16398475963191955 and parameters: {'alpha': 4.525640043099592e-15, 'max_iter': 2000, 'tol': 4.956312250168925e-05}. Best is trial 22 with value: 0.1629816312050181.\u001b[0m\n",
      "\u001b[32m[I 2023-05-25 12:20:08,834]\u001b[0m Trial 55 finished with value: 0.16398475963193374 and parameters: {'alpha': 2.2922812655311935e-14, 'max_iter': 10000, 'tol': 0.00060196112929555}. Best is trial 22 with value: 0.1629816312050181.\u001b[0m\n",
      "\u001b[32m[I 2023-05-25 12:20:08,876]\u001b[0m Trial 56 finished with value: 0.16290153351440192 and parameters: {'alpha': 1.0164379087485725e-15, 'max_iter': 5000, 'tol': 0.06149718058866131}. Best is trial 56 with value: 0.16290153351440192.\u001b[0m\n",
      "\u001b[32m[I 2023-05-25 12:20:08,909]\u001b[0m Trial 57 finished with value: 0.16298163120504053 and parameters: {'alpha': 1.0383214136680997e-13, 'max_iter': 5000, 'tol': 0.05310768773701232}. Best is trial 56 with value: 0.16290153351440192.\u001b[0m\n",
      "\u001b[32m[I 2023-05-25 12:20:08,943]\u001b[0m Trial 58 finished with value: 0.16283717043237453 and parameters: {'alpha': 7.639782499812682e-13, 'max_iter': 5000, 'tol': 0.06231218388231263}. Best is trial 58 with value: 0.16283717043237453.\u001b[0m\n",
      "\u001b[32m[I 2023-05-25 12:20:08,969]\u001b[0m Trial 59 finished with value: 0.16298163120606293 and parameters: {'alpha': 4.79075295798786e-12, 'max_iter': 5000, 'tol': 0.052853997914911216}. Best is trial 58 with value: 0.16283717043237453.\u001b[0m\n",
      "\u001b[32m[I 2023-05-25 12:20:09,000]\u001b[0m Trial 60 finished with value: 0.1631637789646843 and parameters: {'alpha': 9.553090428306394e-13, 'max_iter': 5000, 'tol': 0.041029032006470914}. Best is trial 58 with value: 0.16283717043237453.\u001b[0m\n",
      "\u001b[32m[I 2023-05-25 12:20:09,030]\u001b[0m Trial 61 finished with value: 0.1629816312052636 and parameters: {'alpha': 1.1268905257912576e-12, 'max_iter': 5000, 'tol': 0.05311543122458827}. Best is trial 58 with value: 0.16283717043237453.\u001b[0m\n",
      "\u001b[32m[I 2023-05-25 12:20:09,055]\u001b[0m Trial 62 finished with value: 0.1631637789651851 and parameters: {'alpha': 2.3477821116508304e-12, 'max_iter': 5000, 'tol': 0.04179077335818855}. Best is trial 58 with value: 0.16283717043237453.\u001b[0m\n",
      "\u001b[32m[I 2023-05-25 12:20:09,087]\u001b[0m Trial 63 finished with value: 0.16290153351878967 and parameters: {'alpha': 3.1384542576826746e-11, 'max_iter': 5000, 'tol': 0.06072192390865995}. Best is trial 58 with value: 0.16283717043237453.\u001b[0m\n",
      "\u001b[32m[I 2023-05-25 12:20:09,117]\u001b[0m Trial 64 finished with value: 0.1628371704331996 and parameters: {'alpha': 1.4461605569105238e-11, 'max_iter': 5000, 'tol': 0.06503107499692518}. Best is trial 58 with value: 0.16283717043237453.\u001b[0m\n",
      "\u001b[32m[I 2023-05-25 12:20:09,175]\u001b[0m Trial 65 finished with value: 0.16398475964611448 and parameters: {'alpha': 1.8340661202678762e-11, 'max_iter': 5000, 'tol': 0.014874755186461338}. Best is trial 58 with value: 0.16283717043237453.\u001b[0m\n",
      "\u001b[32m[I 2023-05-25 12:20:09,205]\u001b[0m Trial 66 finished with value: 0.16283717043297738 and parameters: {'alpha': 1.07728966565132e-11, 'max_iter': 5000, 'tol': 0.06280278236086037}. Best is trial 58 with value: 0.16283717043237453.\u001b[0m\n",
      "\u001b[32m[I 2023-05-25 12:20:09,237]\u001b[0m Trial 67 finished with value: 0.16398475966657178 and parameters: {'alpha': 4.4747056238888896e-11, 'max_iter': 5000, 'tol': 0.02014046956378215}. Best is trial 58 with value: 0.16283717043237453.\u001b[0m\n",
      "\u001b[32m[I 2023-05-25 12:20:09,276]\u001b[0m Trial 68 finished with value: 0.16398476009376445 and parameters: {'alpha': 5.968475242526696e-10, 'max_iter': 5000, 'tol': 0.00890290553619484}. Best is trial 58 with value: 0.16283717043237453.\u001b[0m\n"
     ]
    },
    {
     "name": "stderr",
     "output_type": "stream",
     "text": [
      "\u001b[32m[I 2023-05-25 12:20:09,307]\u001b[0m Trial 69 finished with value: 0.16377809257861237 and parameters: {'alpha': 1.3052160413029813e-11, 'max_iter': 5000, 'tol': 0.07174999984973662}. Best is trial 58 with value: 0.16283717043237453.\u001b[0m\n",
      "\u001b[32m[I 2023-05-25 12:20:09,338]\u001b[0m Trial 70 finished with value: 0.16398475976299928 and parameters: {'alpha': 1.6908595713221099e-10, 'max_iter': 5000, 'tol': 0.02592386985397988}. Best is trial 58 with value: 0.16283717043237453.\u001b[0m\n",
      "\u001b[32m[I 2023-05-25 12:20:09,361]\u001b[0m Trial 71 finished with value: 0.16290153351449496 and parameters: {'alpha': 6.6641015423501e-13, 'max_iter': 5000, 'tol': 0.05989995628602508}. Best is trial 58 with value: 0.16283717043237453.\u001b[0m\n",
      "\u001b[32m[I 2023-05-25 12:20:09,389]\u001b[0m Trial 72 finished with value: 0.1637780925784733 and parameters: {'alpha': 6.027242642627696e-12, 'max_iter': 5000, 'tol': 0.08970658335713945}. Best is trial 58 with value: 0.16283717043237453.\u001b[0m\n",
      "\u001b[32m[I 2023-05-25 12:20:09,423]\u001b[0m Trial 73 finished with value: 0.16398475963197737 and parameters: {'alpha': 7.911710903884235e-14, 'max_iter': 5000, 'tol': 0.025360718535826176}. Best is trial 58 with value: 0.16283717043237453.\u001b[0m\n",
      "\u001b[32m[I 2023-05-25 12:20:09,460]\u001b[0m Trial 74 finished with value: 0.16398475963246206 and parameters: {'alpha': 7.055247510001114e-13, 'max_iter': 5000, 'tol': 0.010181373716270911}. Best is trial 58 with value: 0.16283717043237453.\u001b[0m\n",
      "\u001b[32m[I 2023-05-25 12:20:09,486]\u001b[0m Trial 75 finished with value: 0.16283717043233714 and parameters: {'alpha': 1.4305030786329114e-13, 'max_iter': 5000, 'tol': 0.06794014019338153}. Best is trial 75 with value: 0.16283717043233714.\u001b[0m\n",
      "\u001b[32m[I 2023-05-25 12:20:09,515]\u001b[0m Trial 76 finished with value: 0.16398475968696438 and parameters: {'alpha': 7.109674273187848e-11, 'max_iter': 5000, 'tol': 0.017275362197801722}. Best is trial 75 with value: 0.16283717043233714.\u001b[0m\n",
      "\u001b[32m[I 2023-05-25 12:20:09,548]\u001b[0m Trial 77 finished with value: 0.16449074292912724 and parameters: {'alpha': 3.322744905667244e-13, 'max_iter': 5000, 'tol': 0.0977275688768227}. Best is trial 75 with value: 0.16283717043233714.\u001b[0m\n",
      "\u001b[32m[I 2023-05-25 12:20:09,588]\u001b[0m Trial 78 finished with value: 0.1639847596441712 and parameters: {'alpha': 1.5773618634020503e-11, 'max_iter': 1000, 'tol': 0.03137112869368509}. Best is trial 75 with value: 0.16283717043233714.\u001b[0m\n",
      "\u001b[32m[I 2023-05-25 12:20:09,627]\u001b[0m Trial 79 finished with value: 0.163984759634417 and parameters: {'alpha': 3.232412530898276e-12, 'max_iter': 3000, 'tol': 0.005959395102885212}. Best is trial 75 with value: 0.16283717043233714.\u001b[0m\n",
      "\u001b[32m[I 2023-05-25 12:20:09,663]\u001b[0m Trial 80 finished with value: 0.1629015335145846 and parameters: {'alpha': 1.3078921587055967e-12, 'max_iter': 5000, 'tol': 0.060130875797902106}. Best is trial 75 with value: 0.16283717043233714.\u001b[0m\n",
      "\u001b[32m[I 2023-05-25 12:20:09,694]\u001b[0m Trial 81 finished with value: 0.16290153351446116 and parameters: {'alpha': 4.2472749469528474e-13, 'max_iter': 5000, 'tol': 0.060483917270502896}. Best is trial 75 with value: 0.16283717043233714.\u001b[0m\n",
      "\u001b[32m[I 2023-05-25 12:20:09,723]\u001b[0m Trial 82 finished with value: 0.16283717043243084 and parameters: {'alpha': 1.6990773426880242e-12, 'max_iter': 5000, 'tol': 0.06443460192361986}. Best is trial 75 with value: 0.16283717043233714.\u001b[0m\n",
      "\u001b[32m[I 2023-05-25 12:20:09,757]\u001b[0m Trial 83 finished with value: 0.16398475963223513 and parameters: {'alpha': 4.1163800585911547e-13, 'max_iter': 5000, 'tol': 0.025200486078734183}. Best is trial 75 with value: 0.16283717043233714.\u001b[0m\n",
      "\u001b[32m[I 2023-05-25 12:20:09,790]\u001b[0m Trial 84 finished with value: 0.1639847596329751 and parameters: {'alpha': 1.3682116755275298e-12, 'max_iter': 5000, 'tol': 0.012061218622565843}. Best is trial 75 with value: 0.16283717043233714.\u001b[0m\n",
      "\u001b[32m[I 2023-05-25 12:20:09,823]\u001b[0m Trial 85 finished with value: 0.1639847596362899 and parameters: {'alpha': 5.608435444212446e-12, 'max_iter': 5000, 'tol': 0.034264487571435555}. Best is trial 75 with value: 0.16283717043233714.\u001b[0m\n",
      "\u001b[32m[I 2023-05-25 12:20:09,858]\u001b[0m Trial 86 finished with value: 0.1627963943127615 and parameters: {'alpha': 1.2321261255210688e-13, 'max_iter': 7000, 'tol': 0.06995816354164583}. Best is trial 86 with value: 0.1627963943127615.\u001b[0m\n",
      "\u001b[32m[I 2023-05-25 12:20:09,902]\u001b[0m Trial 87 finished with value: 0.16398475963200934 and parameters: {'alpha': 1.2044226705008748e-13, 'max_iter': 7000, 'tol': 0.019540452551773783}. Best is trial 86 with value: 0.1627963943127615.\u001b[0m\n",
      "\u001b[32m[I 2023-05-25 12:20:09,929]\u001b[0m Trial 88 finished with value: 0.16377809257836332 and parameters: {'alpha': 4.681446047372124e-13, 'max_iter': 7000, 'tol': 0.09583884654528733}. Best is trial 86 with value: 0.1627963943127615.\u001b[0m\n",
      "\u001b[32m[I 2023-05-25 12:20:09,964]\u001b[0m Trial 89 finished with value: 0.16398475963203987 and parameters: {'alpha': 1.599724649726387e-13, 'max_iter': 7000, 'tol': 0.008630960394176355}. Best is trial 86 with value: 0.1627963943127615.\u001b[0m\n",
      "\u001b[32m[I 2023-05-25 12:20:10,007]\u001b[0m Trial 90 finished with value: 0.1639847596319432 and parameters: {'alpha': 3.5173968653636636e-14, 'max_iter': 4000, 'tol': 0.004591814951795868}. Best is trial 86 with value: 0.1627963943127615.\u001b[0m\n",
      "\u001b[32m[I 2023-05-25 12:20:10,031]\u001b[0m Trial 91 finished with value: 0.16283717043241208 and parameters: {'alpha': 1.3879748030610678e-12, 'max_iter': 6000, 'tol': 0.06251071222106212}. Best is trial 86 with value: 0.1627963943127615.\u001b[0m\n",
      "\u001b[32m[I 2023-05-25 12:20:10,072]\u001b[0m Trial 92 finished with value: 0.16398475963415107 and parameters: {'alpha': 2.8405735580859525e-12, 'max_iter': 8000, 'tol': 0.03623312221274565}. Best is trial 86 with value: 0.1627963943127615.\u001b[0m\n",
      "\u001b[32m[I 2023-05-25 12:20:10,096]\u001b[0m Trial 93 finished with value: 0.16307083618233872 and parameters: {'alpha': 9.456370747970122e-12, 'max_iter': 6000, 'tol': 0.04504808123594366}. Best is trial 86 with value: 0.1627963943127615.\u001b[0m\n",
      "\u001b[32m[I 2023-05-25 12:20:10,132]\u001b[0m Trial 94 finished with value: 0.162796394312763 and parameters: {'alpha': 2.90250826239458e-14, 'max_iter': 6000, 'tol': 0.06994291931236055}. Best is trial 86 with value: 0.1627963943127615.\u001b[0m\n",
      "\u001b[32m[I 2023-05-25 12:20:10,168]\u001b[0m Trial 95 finished with value: 0.16398475963193349 and parameters: {'alpha': 2.2578276477185232e-14, 'max_iter': 6000, 'tol': 0.014963452122836283}. Best is trial 86 with value: 0.1627963943127615.\u001b[0m\n",
      "\u001b[32m[I 2023-05-25 12:20:10,192]\u001b[0m Trial 96 finished with value: 0.16377809257835504 and parameters: {'alpha': 4.6161739222137076e-14, 'max_iter': 6000, 'tol': 0.07131186978821752}. Best is trial 86 with value: 0.1627963943127615.\u001b[0m\n",
      "\u001b[32m[I 2023-05-25 12:20:10,227]\u001b[0m Trial 97 finished with value: 0.16398475963211995 and parameters: {'alpha': 2.6291823809375326e-13, 'max_iter': 6000, 'tol': 0.026122738699074617}. Best is trial 86 with value: 0.1627963943127615.\u001b[0m\n",
      "\u001b[32m[I 2023-05-25 12:20:10,257]\u001b[0m Trial 98 finished with value: 0.1630708361796101 and parameters: {'alpha': 1.122643511048159e-13, 'max_iter': 6000, 'tol': 0.0424845597737825}. Best is trial 86 with value: 0.1627963943127615.\u001b[0m\n",
      "\u001b[32m[I 2023-05-25 12:20:10,288]\u001b[0m Trial 99 finished with value: 0.16377809257835424 and parameters: {'alpha': 8.694544910647424e-15, 'max_iter': 2000, 'tol': 0.0729619165953456}. Best is trial 86 with value: 0.1627963943127615.\u001b[0m\n",
      "\u001b[32m[I 2023-05-25 12:20:10,325]\u001b[0m Trial 100 finished with value: 0.16398475963192946 and parameters: {'alpha': 1.7336001310598263e-14, 'max_iter': 6000, 'tol': 0.018908664207035176}. Best is trial 86 with value: 0.1627963943127615.\u001b[0m\n",
      "\u001b[32m[I 2023-05-25 12:20:10,359]\u001b[0m Trial 101 finished with value: 0.1628371704323706 and parameters: {'alpha': 6.990223150151108e-13, 'max_iter': 5000, 'tol': 0.06805636322496751}. Best is trial 86 with value: 0.1627963943127615.\u001b[0m\n",
      "\u001b[32m[I 2023-05-25 12:20:10,390]\u001b[0m Trial 102 finished with value: 0.16449074292924992 and parameters: {'alpha': 1.4337620849998251e-12, 'max_iter': 7000, 'tol': 0.09841079443413782}. Best is trial 86 with value: 0.1627963943127615.\u001b[0m\n",
      "\u001b[32m[I 2023-05-25 12:20:10,432]\u001b[0m Trial 103 finished with value: 0.16398475963218737 and parameters: {'alpha': 3.491307571356367e-13, 'max_iter': 5000, 'tol': 0.03139667659235093}. Best is trial 86 with value: 0.1627963943127615.\u001b[0m\n"
     ]
    },
    {
     "name": "stderr",
     "output_type": "stream",
     "text": [
      "\u001b[32m[I 2023-05-25 12:20:10,460]\u001b[0m Trial 104 finished with value: 0.16307083617962675 and parameters: {'alpha': 1.6921070724787532e-13, 'max_iter': 5000, 'tol': 0.04586374058246238}. Best is trial 86 with value: 0.1627963943127615.\u001b[0m\n",
      "\u001b[32m[I 2023-05-25 12:20:10,500]\u001b[0m Trial 105 finished with value: 0.16398475963350695 and parameters: {'alpha': 2.0555825409998947e-12, 'max_iter': 6000, 'tol': 0.011316435608359635}. Best is trial 86 with value: 0.1627963943127615.\u001b[0m\n",
      "\u001b[32m[I 2023-05-25 12:20:10,526]\u001b[0m Trial 106 finished with value: 0.16283717043233217 and parameters: {'alpha': 6.122354846406156e-14, 'max_iter': 3000, 'tol': 0.0677139628984285}. Best is trial 86 with value: 0.1627963943127615.\u001b[0m\n",
      "\u001b[32m[I 2023-05-25 12:20:10,561]\u001b[0m Trial 107 finished with value: 0.16398475963196774 and parameters: {'alpha': 6.669542921299563e-14, 'max_iter': 3000, 'tol': 0.022250281460990475}. Best is trial 86 with value: 0.1627963943127615.\u001b[0m\n",
      "\u001b[32m[I 2023-05-25 12:20:10,593]\u001b[0m Trial 108 finished with value: 0.1637780925783547 and parameters: {'alpha': 3.1739610710431786e-14, 'max_iter': 3000, 'tol': 0.0718087563339247}. Best is trial 86 with value: 0.1627963943127615.\u001b[0m\n",
      "\u001b[32m[I 2023-05-25 12:20:10,629]\u001b[0m Trial 109 finished with value: 0.16398475963504686 and parameters: {'alpha': 4.0328193313197715e-12, 'max_iter': 3000, 'tol': 0.030056160471075895}. Best is trial 86 with value: 0.1627963943127615.\u001b[0m\n",
      "\u001b[32m[I 2023-05-25 12:20:10,661]\u001b[0m Trial 110 finished with value: 0.16307083617957824 and parameters: {'alpha': 3.00179968900773e-15, 'max_iter': 8000, 'tol': 0.042596001323916714}. Best is trial 86 with value: 0.1627963943127615.\u001b[0m\n",
      "\u001b[32m[I 2023-05-25 12:20:10,690]\u001b[0m Trial 111 finished with value: 0.16377809257836834 and parameters: {'alpha': 7.190963749933291e-13, 'max_iter': 5000, 'tol': 0.07545628829411878}. Best is trial 86 with value: 0.1627963943127615.\u001b[0m\n",
      "\u001b[32m[I 2023-05-25 12:20:10,725]\u001b[0m Trial 112 finished with value: 0.162901533514434 and parameters: {'alpha': 2.310877887876796e-13, 'max_iter': 5000, 'tol': 0.05550883637690247}. Best is trial 86 with value: 0.1627963943127615.\u001b[0m\n",
      "\u001b[32m[I 2023-05-25 12:20:10,755]\u001b[0m Trial 113 finished with value: 0.16298163120504133 and parameters: {'alpha': 1.072354557905427e-13, 'max_iter': 1000, 'tol': 0.05019148834605783}. Best is trial 86 with value: 0.1627963943127615.\u001b[0m\n",
      "\u001b[32m[I 2023-05-25 12:20:10,797]\u001b[0m Trial 114 finished with value: 0.16398475963192236 and parameters: {'alpha': 8.119558175622415e-15, 'max_iter': 5000, 'tol': 0.01401831124638714}. Best is trial 86 with value: 0.1627963943127615.\u001b[0m\n",
      "\u001b[32m[I 2023-05-25 12:20:10,835]\u001b[0m Trial 115 finished with value: 0.1639847596319389 and parameters: {'alpha': 2.9327099103280716e-14, 'max_iter': 4000, 'tol': 0.0326601117893769}. Best is trial 86 with value: 0.1627963943127615.\u001b[0m\n",
      "\u001b[32m[I 2023-05-25 12:20:10,863]\u001b[0m Trial 116 finished with value: 0.16377809257851272 and parameters: {'alpha': 8.016713437172058e-12, 'max_iter': 3000, 'tol': 0.09258967315726382}. Best is trial 86 with value: 0.1627963943127615.\u001b[0m\n",
      "\u001b[32m[I 2023-05-25 12:20:10,902]\u001b[0m Trial 117 finished with value: 0.16398475963191794 and parameters: {'alpha': 2.468717738030164e-15, 'max_iter': 5000, 'tol': 0.020933494430118885}. Best is trial 86 with value: 0.1627963943127615.\u001b[0m\n",
      "\u001b[32m[I 2023-05-25 12:20:10,933]\u001b[0m Trial 118 finished with value: 0.16290153351443099 and parameters: {'alpha': 2.0890670474823243e-13, 'max_iter': 2000, 'tol': 0.060349418056761736}. Best is trial 86 with value: 0.1627963943127615.\u001b[0m\n",
      "\u001b[32m[I 2023-05-25 12:20:10,967]\u001b[0m Trial 119 finished with value: 0.16398475963261294 and parameters: {'alpha': 9.007650577713067e-13, 'max_iter': 2000, 'tol': 0.0068511354852152625}. Best is trial 86 with value: 0.1627963943127615.\u001b[0m\n",
      "\u001b[32m[I 2023-05-25 12:20:10,999]\u001b[0m Trial 120 finished with value: 0.16283717043244433 and parameters: {'alpha': 1.9241609683594873e-12, 'max_iter': 2000, 'tol': 0.06502669677767432}. Best is trial 86 with value: 0.1627963943127615.\u001b[0m\n",
      "\u001b[32m[I 2023-05-25 12:20:11,028]\u001b[0m Trial 121 finished with value: 0.16283717043245372 and parameters: {'alpha': 2.0793802697866067e-12, 'max_iter': 2000, 'tol': 0.06870616845022864}. Best is trial 86 with value: 0.1627963943127615.\u001b[0m\n",
      "\u001b[32m[I 2023-05-25 12:20:11,075]\u001b[0m Trial 122 finished with value: 0.16398475963369277 and parameters: {'alpha': 2.1883731456096938e-12, 'max_iter': 2000, 'tol': 0.03752462975080992}. Best is trial 86 with value: 0.1627963943127615.\u001b[0m\n",
      "\u001b[32m[I 2023-05-25 12:20:11,105]\u001b[0m Trial 123 finished with value: 0.164490742932512 and parameters: {'alpha': 3.074326640654535e-11, 'max_iter': 2000, 'tol': 0.09721602267683258}. Best is trial 86 with value: 0.1627963943127615.\u001b[0m\n",
      "\u001b[32m[I 2023-05-25 12:20:11,135]\u001b[0m Trial 124 finished with value: 0.16398475964055687 and parameters: {'alpha': 1.1138534307225006e-11, 'max_iter': 2000, 'tol': 0.028029415626454522}. Best is trial 86 with value: 0.1627963943127615.\u001b[0m\n",
      "\u001b[32m[I 2023-05-25 12:20:11,165]\u001b[0m Trial 125 finished with value: 0.1628371704326193 and parameters: {'alpha': 4.827470871896344e-12, 'max_iter': 2000, 'tol': 0.06713932632664557}. Best is trial 86 with value: 0.1627963943127615.\u001b[0m\n",
      "\u001b[32m[I 2023-05-25 12:20:11,202]\u001b[0m Trial 126 finished with value: 0.16398475963515916 and parameters: {'alpha': 4.188881873849612e-12, 'max_iter': 2000, 'tol': 0.016550419033991442}. Best is trial 86 with value: 0.1627963943127615.\u001b[0m\n",
      "\u001b[32m[I 2023-05-25 12:20:11,231]\u001b[0m Trial 127 finished with value: 0.16377809257877457 and parameters: {'alpha': 2.1249025889949992e-11, 'max_iter': 2000, 'tol': 0.07328513064900598}. Best is trial 86 with value: 0.1627963943127615.\u001b[0m\n",
      "\u001b[32m[I 2023-05-25 12:20:11,271]\u001b[0m Trial 128 finished with value: 0.16398475963242679 and parameters: {'alpha': 5.748712726114788e-13, 'max_iter': 2000, 'tol': 0.03797806400381176}. Best is trial 86 with value: 0.1627963943127615.\u001b[0m\n",
      "\u001b[32m[I 2023-05-25 12:20:11,304]\u001b[0m Trial 129 finished with value: 0.1630708361801051 and parameters: {'alpha': 1.8074563245543287e-12, 'max_iter': 2000, 'tol': 0.046717922968111614}. Best is trial 86 with value: 0.1627963943127615.\u001b[0m\n",
      "\u001b[32m[I 2023-05-25 12:20:11,335]\u001b[0m Trial 130 finished with value: 0.16449074293653573 and parameters: {'alpha': 6.68946041634056e-11, 'max_iter': 7000, 'tol': 0.09854175608376088}. Best is trial 86 with value: 0.1627963943127615.\u001b[0m\n",
      "\u001b[32m[I 2023-05-25 12:20:11,369]\u001b[0m Trial 131 finished with value: 0.16283717043233226 and parameters: {'alpha': 6.173005536850067e-14, 'max_iter': 9000, 'tol': 0.06603350092640661}. Best is trial 86 with value: 0.1627963943127615.\u001b[0m\n",
      "\u001b[32m[I 2023-05-25 12:20:11,410]\u001b[0m Trial 132 finished with value: 0.16398475963197628 and parameters: {'alpha': 7.769878612357558e-14, 'max_iter': 9000, 'tol': 0.023892462397240372}. Best is trial 86 with value: 0.1627963943127615.\u001b[0m\n",
      "\u001b[32m[I 2023-05-25 12:20:11,443]\u001b[0m Trial 133 finished with value: 0.16283717043238827 and parameters: {'alpha': 9.922507753519225e-13, 'max_iter': 9000, 'tol': 0.06528613603456195}. Best is trial 86 with value: 0.1627963943127615.\u001b[0m\n",
      "\u001b[32m[I 2023-05-25 12:20:11,485]\u001b[0m Trial 134 finished with value: 0.16298163120524642 and parameters: {'alpha': 1.0472924617397395e-12, 'max_iter': 9000, 'tol': 0.052389403923673854}. Best is trial 86 with value: 0.1627963943127615.\u001b[0m\n",
      "\u001b[32m[I 2023-05-25 12:20:11,528]\u001b[0m Trial 135 finished with value: 0.1639847596321977 and parameters: {'alpha': 3.6384453729872984e-13, 'max_iter': 9000, 'tol': 0.010429712108608009}. Best is trial 86 with value: 0.1627963943127615.\u001b[0m\n",
      "\u001b[32m[I 2023-05-25 12:20:11,575]\u001b[0m Trial 136 finished with value: 0.16398475963478648 and parameters: {'alpha': 3.653305717981434e-12, 'max_iter': 9000, 'tol': 0.03600001860655635}. Best is trial 86 with value: 0.1627963943127615.\u001b[0m\n",
      "\u001b[32m[I 2023-05-25 12:20:11,622]\u001b[0m Trial 137 finished with value: 0.16398475963239145 and parameters: {'alpha': 6.145218575435951e-13, 'max_iter': 9000, 'tol': 0.002944512682964361}. Best is trial 86 with value: 0.1627963943127615.\u001b[0m\n",
      "\u001b[32m[I 2023-05-25 12:20:11,661]\u001b[0m Trial 138 finished with value: 0.16449074292910376 and parameters: {'alpha': 1.2090523087233998e-13, 'max_iter': 9000, 'tol': 0.09968639952508192}. Best is trial 86 with value: 0.1627963943127615.\u001b[0m\n"
     ]
    },
    {
     "name": "stderr",
     "output_type": "stream",
     "text": [
      "\u001b[32m[I 2023-05-25 12:20:11,709]\u001b[0m Trial 139 finished with value: 0.16398475963316392 and parameters: {'alpha': 1.6116736883387602e-12, 'max_iter': 6000, 'tol': 0.01793949312029858}. Best is trial 86 with value: 0.1627963943127615.\u001b[0m\n",
      "\u001b[32m[I 2023-05-25 12:20:11,741]\u001b[0m Trial 140 finished with value: 0.16290153351440953 and parameters: {'alpha': 5.5772795433951236e-14, 'max_iter': 7000, 'tol': 0.059821646439490034}. Best is trial 86 with value: 0.1627963943127615.\u001b[0m\n",
      "\u001b[32m[I 2023-05-25 12:20:11,777]\u001b[0m Trial 141 finished with value: 0.16279639431260756 and parameters: {'alpha': 1.0016560551404719e-11, 'max_iter': 9000, 'tol': 0.069497125528324}. Best is trial 141 with value: 0.16279639431260756.\u001b[0m\n",
      "\u001b[32m[I 2023-05-25 12:20:11,814]\u001b[0m Trial 142 finished with value: 0.16283717043253657 and parameters: {'alpha': 3.4545979241283074e-12, 'max_iter': 2000, 'tol': 0.0685704297103008}. Best is trial 141 with value: 0.16279639431260756.\u001b[0m\n",
      "\u001b[32m[I 2023-05-25 12:20:11,850]\u001b[0m Trial 143 finished with value: 0.16307083618067605 and parameters: {'alpha': 3.762308130233711e-12, 'max_iter': 9000, 'tol': 0.04421628405430026}. Best is trial 141 with value: 0.16279639431260756.\u001b[0m\n",
      "\u001b[32m[I 2023-05-25 12:20:11,898]\u001b[0m Trial 144 finished with value: 0.1639847596371813 and parameters: {'alpha': 6.7875887700744156e-12, 'max_iter': 2000, 'tol': 0.027678982955887704}. Best is trial 141 with value: 0.16279639431260756.\u001b[0m\n",
      "\u001b[32m[I 2023-05-25 12:20:11,933]\u001b[0m Trial 145 finished with value: 0.16377809257835957 and parameters: {'alpha': 2.783024414448176e-13, 'max_iter': 9000, 'tol': 0.07082850697036144}. Best is trial 141 with value: 0.16279639431260756.\u001b[0m\n",
      "\u001b[32m[I 2023-05-25 12:20:11,979]\u001b[0m Trial 146 finished with value: 0.16398475963275824 and parameters: {'alpha': 1.077588828863221e-12, 'max_iter': 2000, 'tol': 0.03484187237850237}. Best is trial 141 with value: 0.16279639431260756.\u001b[0m\n",
      "\u001b[32m[I 2023-05-25 12:20:12,017]\u001b[0m Trial 147 finished with value: 0.16377809257836812 and parameters: {'alpha': 7.069304240253986e-13, 'max_iter': 9000, 'tol': 0.07122392497068378}. Best is trial 141 with value: 0.16279639431260756.\u001b[0m\n",
      "\u001b[32m[I 2023-05-25 12:20:12,055]\u001b[0m Trial 148 finished with value: 0.16307083617963125 and parameters: {'alpha': 1.8470092648982157e-13, 'max_iter': 2000, 'tol': 0.0449144049976585}. Best is trial 141 with value: 0.16279639431260756.\u001b[0m\n",
      "\u001b[32m[I 2023-05-25 12:20:12,097]\u001b[0m Trial 149 finished with value: 0.16449074292929697 and parameters: {'alpha': 1.857010975070181e-12, 'max_iter': 6000, 'tol': 0.09803738452395784}. Best is trial 141 with value: 0.16279639431260756.\u001b[0m\n",
      "\u001b[32m[I 2023-05-25 12:20:12,137]\u001b[0m Trial 150 finished with value: 0.16398475963194545 and parameters: {'alpha': 3.7847559833055684e-14, 'max_iter': 1000, 'tol': 0.023348836201421246}. Best is trial 141 with value: 0.16279639431260756.\u001b[0m\n",
      "\u001b[32m[I 2023-05-25 12:20:12,174]\u001b[0m Trial 151 finished with value: 0.16283717043290213 and parameters: {'alpha': 9.522961279232687e-12, 'max_iter': 3000, 'tol': 0.0690401879766665}. Best is trial 141 with value: 0.16279639431260756.\u001b[0m\n",
      "\u001b[32m[I 2023-05-25 12:20:12,214]\u001b[0m Trial 152 finished with value: 0.16298163120625647 and parameters: {'alpha': 5.678055740281748e-12, 'max_iter': 3000, 'tol': 0.05343979502485887}. Best is trial 141 with value: 0.16279639431260756.\u001b[0m\n",
      "\u001b[32m[I 2023-05-25 12:20:12,252]\u001b[0m Trial 153 finished with value: 0.1637780925784081 and parameters: {'alpha': 2.731034934670863e-12, 'max_iter': 3000, 'tol': 0.07697048540078878}. Best is trial 141 with value: 0.16279639431260756.\u001b[0m\n",
      "\u001b[32m[I 2023-05-25 12:20:12,297]\u001b[0m Trial 154 finished with value: 0.16398475964293158 and parameters: {'alpha': 1.4099923319496806e-11, 'max_iter': 3000, 'tol': 0.03469440989908173}. Best is trial 141 with value: 0.16279639431260756.\u001b[0m\n",
      "\u001b[32m[I 2023-05-25 12:20:12,339]\u001b[0m Trial 155 finished with value: 0.16298163120510578 and parameters: {'alpha': 4.0284654522578096e-13, 'max_iter': 3000, 'tol': 0.04884282664726307}. Best is trial 141 with value: 0.16279639431260756.\u001b[0m\n",
      "\u001b[32m[I 2023-05-25 12:20:12,384]\u001b[0m Trial 156 finished with value: 0.16398475966522033 and parameters: {'alpha': 4.30272963686337e-11, 'max_iter': 9000, 'tol': 0.012801616392633745}. Best is trial 141 with value: 0.16279639431260756.\u001b[0m\n",
      "\u001b[32m[I 2023-05-25 12:20:12,421]\u001b[0m Trial 157 finished with value: 0.16449074294126326 and parameters: {'alpha': 1.0936926657194921e-10, 'max_iter': 2000, 'tol': 0.0999143085101383}. Best is trial 141 with value: 0.16279639431260756.\u001b[0m\n",
      "\u001b[32m[I 2023-05-25 12:20:12,483]\u001b[0m Trial 158 finished with value: 0.1639847596373048 and parameters: {'alpha': 6.954873142855661e-12, 'max_iter': 6000, 'tol': 0.023401769260780435}. Best is trial 141 with value: 0.16279639431260756.\u001b[0m\n",
      "\u001b[32m[I 2023-05-25 12:20:12,518]\u001b[0m Trial 159 finished with value: 0.16283717043233464 and parameters: {'alpha': 1.0202575456982295e-13, 'max_iter': 4000, 'tol': 0.06656193543233101}. Best is trial 141 with value: 0.16279639431260756.\u001b[0m\n",
      "\u001b[32m[I 2023-05-25 12:20:12,568]\u001b[0m Trial 160 finished with value: 0.16398475963199557 and parameters: {'alpha': 1.0275540132767382e-13, 'max_iter': 4000, 'tol': 0.0015436317829973626}. Best is trial 141 with value: 0.16279639431260756.\u001b[0m\n",
      "\u001b[32m[I 2023-05-25 12:20:12,607]\u001b[0m Trial 161 finished with value: 0.16283717043232937 and parameters: {'alpha': 1.461242305845906e-14, 'max_iter': 4000, 'tol': 0.06695529471106487}. Best is trial 141 with value: 0.16279639431260756.\u001b[0m\n",
      "\u001b[32m[I 2023-05-25 12:20:12,642]\u001b[0m Trial 162 finished with value: 0.1630708361795804 and parameters: {'alpha': 1.037518794281479e-14, 'max_iter': 4000, 'tol': 0.046431474557383445}. Best is trial 141 with value: 0.16279639431260756.\u001b[0m\n",
      "\u001b[32m[I 2023-05-25 12:20:12,687]\u001b[0m Trial 163 finished with value: 0.16283717043233206 and parameters: {'alpha': 5.867172956358264e-14, 'max_iter': 8000, 'tol': 0.06312202292075346}. Best is trial 141 with value: 0.16279639431260756.\u001b[0m\n",
      "\u001b[32m[I 2023-05-25 12:20:12,732]\u001b[0m Trial 164 finished with value: 0.1639847596319589 and parameters: {'alpha': 5.5139301879100804e-14, 'max_iter': 8000, 'tol': 0.029863885612441868}. Best is trial 141 with value: 0.16279639431260756.\u001b[0m\n",
      "\u001b[32m[I 2023-05-25 12:20:12,766]\u001b[0m Trial 165 finished with value: 0.16316377896434925 and parameters: {'alpha': 2.3796081656109214e-14, 'max_iter': 4000, 'tol': 0.04000338943011994}. Best is trial 141 with value: 0.16279639431260756.\u001b[0m\n",
      "\u001b[32m[I 2023-05-25 12:20:12,807]\u001b[0m Trial 166 finished with value: 0.16283717043232915 and parameters: {'alpha': 1.133677760634583e-14, 'max_iter': 8000, 'tol': 0.06469457089557507}. Best is trial 141 with value: 0.16279639431260756.\u001b[0m\n",
      "\u001b[32m[I 2023-05-25 12:20:12,854]\u001b[0m Trial 167 finished with value: 0.163984759631934 and parameters: {'alpha': 2.316430072597933e-14, 'max_iter': 8000, 'tol': 0.017303078404655378}. Best is trial 141 with value: 0.16279639431260756.\u001b[0m\n",
      "\u001b[32m[I 2023-05-25 12:20:12,889]\u001b[0m Trial 168 finished with value: 0.1629816312050192 and parameters: {'alpha': 5.843316357071911e-15, 'max_iter': 8000, 'tol': 0.053856183443458036}. Best is trial 141 with value: 0.16279639431260756.\u001b[0m\n",
      "\u001b[32m[I 2023-05-25 12:20:12,932]\u001b[0m Trial 169 finished with value: 0.1639847596319269 and parameters: {'alpha': 1.3878974331125722e-14, 'max_iter': 8000, 'tol': 0.0327862554335593}. Best is trial 141 with value: 0.16279639431260756.\u001b[0m\n",
      "\u001b[32m[I 2023-05-25 12:20:12,963]\u001b[0m Trial 170 finished with value: 0.16449074292909777 and parameters: {'alpha': 6.707348873949109e-14, 'max_iter': 4000, 'tol': 0.09811922239387805}. Best is trial 141 with value: 0.16279639431260756.\u001b[0m\n",
      "\u001b[32m[I 2023-05-25 12:20:13,009]\u001b[0m Trial 171 finished with value: 0.16283717043233933 and parameters: {'alpha': 1.7944649016753007e-13, 'max_iter': 8000, 'tol': 0.06926313939784888}. Best is trial 141 with value: 0.16279639431260756.\u001b[0m\n",
      "\u001b[32m[I 2023-05-25 12:20:13,039]\u001b[0m Trial 172 finished with value: 0.16283717043233562 and parameters: {'alpha': 1.194000128030326e-13, 'max_iter': 8000, 'tol': 0.06751826101366494}. Best is trial 141 with value: 0.16279639431260756.\u001b[0m\n",
      "\u001b[32m[I 2023-05-25 12:20:13,083]\u001b[0m Trial 173 finished with value: 0.16298163120505574 and parameters: {'alpha': 1.734977070109237e-13, 'max_iter': 8000, 'tol': 0.04914555607102566}. Best is trial 141 with value: 0.16279639431260756.\u001b[0m\n"
     ]
    },
    {
     "name": "stderr",
     "output_type": "stream",
     "text": [
      "\u001b[32m[I 2023-05-25 12:20:13,120]\u001b[0m Trial 174 finished with value: 0.1628371704323295 and parameters: {'alpha': 1.6240775718014615e-14, 'max_iter': 8000, 'tol': 0.0691794171627845}. Best is trial 141 with value: 0.16279639431260756.\u001b[0m\n",
      "\u001b[32m[I 2023-05-25 12:20:13,164]\u001b[0m Trial 175 finished with value: 0.1639847596319305 and parameters: {'alpha': 1.8533134374326287e-14, 'max_iter': 8000, 'tol': 0.025863612098538123}. Best is trial 141 with value: 0.16279639431260756.\u001b[0m\n",
      "\u001b[32m[I 2023-05-25 12:20:13,196]\u001b[0m Trial 176 finished with value: 0.16449074292909474 and parameters: {'alpha': 3.987484059266591e-14, 'max_iter': 8000, 'tol': 0.09920983078447179}. Best is trial 141 with value: 0.16279639431260756.\u001b[0m\n",
      "\u001b[32m[I 2023-05-25 12:20:13,239]\u001b[0m Trial 177 finished with value: 0.16316377896434256 and parameters: {'alpha': 5.248180075460884e-15, 'max_iter': 8000, 'tol': 0.04134595151774531}. Best is trial 141 with value: 0.16279639431260756.\u001b[0m\n",
      "\u001b[32m[I 2023-05-25 12:20:13,279]\u001b[0m Trial 178 finished with value: 0.16290153351441927 and parameters: {'alpha': 1.2556787333891172e-13, 'max_iter': 8000, 'tol': 0.059119950915637924}. Best is trial 141 with value: 0.16279639431260756.\u001b[0m\n",
      "\u001b[32m[I 2023-05-25 12:20:13,322]\u001b[0m Trial 179 finished with value: 0.16398475963192585 and parameters: {'alpha': 1.2420665049488792e-14, 'max_iter': 8000, 'tol': 0.0363193452004642}. Best is trial 141 with value: 0.16279639431260756.\u001b[0m\n",
      "\u001b[32m[I 2023-05-25 12:20:13,365]\u001b[0m Trial 180 finished with value: 0.16398475963197318 and parameters: {'alpha': 7.389917720059801e-14, 'max_iter': 8000, 'tol': 0.0005124002314657549}. Best is trial 141 with value: 0.16279639431260756.\u001b[0m\n",
      "\u001b[32m[I 2023-05-25 12:20:13,408]\u001b[0m Trial 181 finished with value: 0.1627963943127574 and parameters: {'alpha': 3.8470623159623045e-13, 'max_iter': 4000, 'tol': 0.07044504899531427}. Best is trial 141 with value: 0.16279639431260756.\u001b[0m\n",
      "\u001b[32m[I 2023-05-25 12:20:13,445]\u001b[0m Trial 182 finished with value: 0.1629015335144388 and parameters: {'alpha': 2.649643864145865e-13, 'max_iter': 4000, 'tol': 0.061871163245748616}. Best is trial 141 with value: 0.16279639431260756.\u001b[0m\n",
      "\u001b[32m[I 2023-05-25 12:20:13,486]\u001b[0m Trial 183 finished with value: 0.16377809257835463 and parameters: {'alpha': 2.708039290062553e-14, 'max_iter': 4000, 'tol': 0.07694432081215574}. Best is trial 141 with value: 0.16279639431260756.\u001b[0m\n",
      "\u001b[32m[I 2023-05-25 12:20:13,527]\u001b[0m Trial 184 finished with value: 0.16307083617960683 and parameters: {'alpha': 1.0082983298302938e-13, 'max_iter': 4000, 'tol': 0.04796023104791607}. Best is trial 141 with value: 0.16279639431260756.\u001b[0m\n",
      "\u001b[32m[I 2023-05-25 12:20:13,567]\u001b[0m Trial 185 finished with value: 0.16398475963215914 and parameters: {'alpha': 3.1311733151256073e-13, 'max_iter': 8000, 'tol': 0.028905402732026096}. Best is trial 141 with value: 0.16279639431260756.\u001b[0m\n",
      "\u001b[32m[I 2023-05-25 12:20:13,607]\u001b[0m Trial 186 finished with value: 0.16377809257835507 and parameters: {'alpha': 5.110190677302741e-14, 'max_iter': 4000, 'tol': 0.09674025795690433}. Best is trial 141 with value: 0.16279639431260756.\u001b[0m\n",
      "\u001b[32m[I 2023-05-25 12:20:13,653]\u001b[0m Trial 187 finished with value: 0.16398475963233455 and parameters: {'alpha': 5.415954104926642e-13, 'max_iter': 8000, 'tol': 2.8319995593926604e-07}. Best is trial 141 with value: 0.16279639431260756.\u001b[0m\n",
      "\u001b[32m[I 2023-05-25 12:20:13,695]\u001b[0m Trial 188 finished with value: 0.1628371704323364 and parameters: {'alpha': 1.3087945239514042e-13, 'max_iter': 8000, 'tol': 0.06621073452721608}. Best is trial 141 with value: 0.16279639431260756.\u001b[0m\n",
      "\u001b[32m[I 2023-05-25 12:20:13,743]\u001b[0m Trial 189 finished with value: 0.1639847596319289 and parameters: {'alpha': 1.6645029568689485e-14, 'max_iter': 8000, 'tol': 0.021310151903624532}. Best is trial 141 with value: 0.16279639431260756.\u001b[0m\n",
      "\u001b[32m[I 2023-05-25 12:20:13,788]\u001b[0m Trial 190 finished with value: 0.1630708361796252 and parameters: {'alpha': 1.6376185110785708e-13, 'max_iter': 8000, 'tol': 0.044562767901913804}. Best is trial 141 with value: 0.16279639431260756.\u001b[0m\n",
      "\u001b[32m[I 2023-05-25 12:20:13,830]\u001b[0m Trial 191 finished with value: 0.1628371704323311 and parameters: {'alpha': 4.190001722405514e-14, 'max_iter': 8000, 'tol': 0.0650761249997876}. Best is trial 141 with value: 0.16279639431260756.\u001b[0m\n",
      "\u001b[32m[I 2023-05-25 12:20:13,881]\u001b[0m Trial 192 finished with value: 0.1639847596319498 and parameters: {'alpha': 4.369931192734172e-14, 'max_iter': 8000, 'tol': 0.00020436203852214373}. Best is trial 141 with value: 0.16279639431260756.\u001b[0m\n",
      "\u001b[32m[I 2023-05-25 12:20:13,916]\u001b[0m Trial 193 finished with value: 0.16279639431276327 and parameters: {'alpha': 6.774449956490047e-15, 'max_iter': 8000, 'tol': 0.06940280780536262}. Best is trial 141 with value: 0.16279639431260756.\u001b[0m\n",
      "\u001b[32m[I 2023-05-25 12:20:13,962]\u001b[0m Trial 194 finished with value: 0.16377809257835413 and parameters: {'alpha': 3.242933064583352e-15, 'max_iter': 8000, 'tol': 0.07761426449548466}. Best is trial 141 with value: 0.16279639431260756.\u001b[0m\n",
      "\u001b[32m[I 2023-05-25 12:20:14,013]\u001b[0m Trial 195 finished with value: 0.16398475963192077 and parameters: {'alpha': 5.3704603320138e-15, 'max_iter': 8000, 'tol': 0.037938227652262124}. Best is trial 141 with value: 0.16279639431260756.\u001b[0m\n",
      "\u001b[32m[I 2023-05-25 12:20:14,067]\u001b[0m Trial 196 finished with value: 0.16398475963192366 and parameters: {'alpha': 9.876595039306163e-15, 'max_iter': 8000, 'tol': 0.0030273664709405566}. Best is trial 141 with value: 0.16279639431260756.\u001b[0m\n",
      "\u001b[32m[I 2023-05-25 12:20:14,108]\u001b[0m Trial 197 finished with value: 0.16279639431276283 and parameters: {'alpha': 3.39745543758221e-14, 'max_iter': 8000, 'tol': 0.06956982723598182}. Best is trial 141 with value: 0.16279639431260756.\u001b[0m\n",
      "\u001b[32m[I 2023-05-25 12:20:14,144]\u001b[0m Trial 198 finished with value: 0.1637780925783547 and parameters: {'alpha': 2.845547999609689e-14, 'max_iter': 8000, 'tol': 0.09593889982575328}. Best is trial 141 with value: 0.16279639431260756.\u001b[0m\n",
      "\u001b[32m[I 2023-05-25 12:20:14,186]\u001b[0m Trial 199 finished with value: 0.162981631205033 and parameters: {'alpha': 6.944263563100631e-14, 'max_iter': 8000, 'tol': 0.05109882295352323}. Best is trial 141 with value: 0.16279639431260756.\u001b[0m\n"
     ]
    }
   ],
   "source": [
    "study = optuna.create_study(direction=\"minimize\")\n",
    "#start serach \n",
    "study.optimize(lasso_optuna, n_trials=200)"
   ]
  },
  {
   "cell_type": "code",
   "execution_count": 139,
   "id": "ec834cb0",
   "metadata": {},
   "outputs": [
    {
     "name": "stdout",
     "output_type": "stream",
     "text": [
      "Number of finished trials:  200\n",
      "Best trial:\n",
      "  Value: 0.16279639431260756\n",
      "  Params: \n",
      "    alpha: 1.0016560551404719e-11\n",
      "    max_iter: 9000\n",
      "    tol: 0.069497125528324\n"
     ]
    }
   ],
   "source": [
    "print(\"Number of finished trials: \", len(study.trials))\n",
    "print(\"Best trial:\")\n",
    "trial = study.best_trial\n",
    "\n",
    "print(\"  Value: {}\".format(trial.value))\n",
    "print(\"  Params: \")\n",
    "\n",
    "params = []\n",
    "\n",
    "for key, value in trial.params.items():\n",
    "    params.append(value)\n",
    "    print(\"    {}: {}\".format(key, value))"
   ]
  },
  {
   "cell_type": "code",
   "execution_count": 140,
   "id": "b0797978",
   "metadata": {},
   "outputs": [
    {
     "name": "stdout",
     "output_type": "stream",
     "text": [
      "R2 using  Lasso Regression : 87.27 %\n"
     ]
    }
   ],
   "source": [
    "lasso_best  = Lasso(alpha=1.7272756099031756,max_iter=6000,tol=5.658786498274836e-07)\n",
    "lasso_best.fit(x_train,y_train)\n",
    "y_pred = lasso_best.predict(x_test)\n",
    "print(\"R2 using  Lasso Regression : {:.2f} %\".format(np.round(r2_score(y_test, y_pred),4)*100))"
   ]
  },
  {
   "cell_type": "code",
   "execution_count": 141,
   "id": "821ae309",
   "metadata": {},
   "outputs": [
    {
     "data": {
      "text/plain": [
       "<matplotlib.collections.PathCollection at 0x2a9ff517880>"
      ]
     },
     "execution_count": 141,
     "metadata": {},
     "output_type": "execute_result"
    },
    {
     "data": {
      "image/png": "[encoded data removed]",
      "text/plain": [
       "<Figure size 1080x720 with 2 Axes>"
      ]
     },
     "metadata": {
      "needs_background": "light"
     },
     "output_type": "display_data"
    }
   ],
   "source": [
    "plt.figure(figsize = (15,10))\n",
    "plt.subplot(2,2,1)\n",
    "plt.title(' Regression For  Train  Data')\n",
    "plt.scatter(lasso_best.predict(x_train), y_train, color='blue')\n",
    "plt.subplot(2,2,2)\n",
    "plt.title(' Regression For  Test Data')\n",
    "plt.scatter(y_pred, y_test, color='red')"
   ]
  },
  {
   "cell_type": "code",
   "execution_count": 142,
   "id": "d74c3b4e",
   "metadata": {},
   "outputs": [
    {
     "data": {
      "text/html": [
       "<div>\n",
       "<style scoped>\n",
       "    .dataframe tbody tr th:only-of-type {\n",
       "        vertical-align: middle;\n",
       "    }\n",
       "\n",
       "    .dataframe tbody tr th {\n",
       "        vertical-align: top;\n",
       "    }\n",
       "\n",
       "    .dataframe thead th {\n",
       "        text-align: right;\n",
       "    }\n",
       "</style>\n",
       "<table border=\"1\" class=\"dataframe\">\n",
       "  <thead>\n",
       "    <tr style=\"text-align: right;\">\n",
       "      <th></th>\n",
       "      <th>predicted_price</th>\n",
       "      <th>actual_price</th>\n",
       "    </tr>\n",
       "  </thead>\n",
       "  <tbody>\n",
       "    <tr>\n",
       "      <th>0</th>\n",
       "      <td>6.475772</td>\n",
       "      <td>6.514713</td>\n",
       "    </tr>\n",
       "    <tr>\n",
       "      <th>1</th>\n",
       "      <td>6.068724</td>\n",
       "      <td>5.411646</td>\n",
       "    </tr>\n",
       "    <tr>\n",
       "      <th>2</th>\n",
       "      <td>6.206849</td>\n",
       "      <td>5.988961</td>\n",
       "    </tr>\n",
       "    <tr>\n",
       "      <th>3</th>\n",
       "      <td>6.321144</td>\n",
       "      <td>6.136322</td>\n",
       "    </tr>\n",
       "    <tr>\n",
       "      <th>4</th>\n",
       "      <td>7.330907</td>\n",
       "      <td>7.494986</td>\n",
       "    </tr>\n",
       "  </tbody>\n",
       "</table>\n",
       "</div>"
      ],
      "text/plain": [
       "   predicted_price  actual_price\n",
       "0         6.475772      6.514713\n",
       "1         6.068724      5.411646\n",
       "2         6.206849      5.988961\n",
       "3         6.321144      6.136322\n",
       "4         7.330907      7.494986"
      ]
     },
     "execution_count": 142,
     "metadata": {},
     "output_type": "execute_result"
    }
   ],
   "source": [
    "lasso_df = pd.DataFrame({\"predicted_price\":y_pred,\"actual_price\":y_test})\n",
    "lasso_df.head(5)"
   ]
  },
  {
   "cell_type": "markdown",
   "id": "6cf01065",
   "metadata": {},
   "source": [
    "## KNN"
   ]
  },
  {
   "cell_type": "code",
   "execution_count": 143,
   "id": "48e73d01",
   "metadata": {},
   "outputs": [],
   "source": [
    "def knnregressors_optuna (trial,x_train=x_train,x_test=x_test,y_train=y_train,y_test=y_test):\n",
    "    #define parameters\n",
    "    params = {\n",
    "    'n_neighbors'     : trial.suggest_categorical('n_neighbors', [1,3,5,7,9,11,13,15]), \n",
    "    'weights'         : trial.suggest_categorical('weights', ['uniform','distance']),\n",
    "    'algorithm'       : trial.suggest_categorical('algorithm',['auto','ball_tree','kd_tree','brute']),\n",
    "    'leaf_size'       : trial.suggest_int('leaf_size', 30, 150),\n",
    "    'p'               : trial.suggest_int('p', 2, 50),\n",
    "    \n",
    "    }\n",
    "    #creat model anf pass parameters \n",
    "    model = KNeighborsRegressor(**params) \n",
    "    model.fit(x_train, y_train) \n",
    "    predection = model.predict(x_test)\n",
    "    rmse = mean_squared_error(y_test, predection, squared=False)\n",
    "    return rmse"
   ]
  },
  {
   "cell_type": "code",
   "execution_count": 146,
   "id": "4b20873d",
   "metadata": {
    "scrolled": true
   },
   "outputs": [
    {
     "name": "stderr",
     "output_type": "stream",
     "text": [
      "\u001b[32m[I 2023-05-25 12:23:49,663]\u001b[0m A new study created in memory with name: no-name-44a94004-c79d-44a0-a9ab-85634e5edef2\u001b[0m\n",
      "\u001b[32m[I 2023-05-25 12:23:49,795]\u001b[0m Trial 0 finished with value: 0.05137216560324731 and parameters: {'n_neighbors': 1, 'weights': 'distance', 'algorithm': 'ball_tree', 'leaf_size': 35, 'p': 38}. Best is trial 0 with value: 0.05137216560324731.\u001b[0m\n",
      "\u001b[32m[I 2023-05-25 12:23:49,957]\u001b[0m Trial 1 finished with value: 0.04122226047036736 and parameters: {'n_neighbors': 5, 'weights': 'distance', 'algorithm': 'auto', 'leaf_size': 101, 'p': 42}. Best is trial 1 with value: 0.04122226047036736.\u001b[0m\n",
      "\u001b[32m[I 2023-05-25 12:23:50,112]\u001b[0m Trial 2 finished with value: 0.04113577545721559 and parameters: {'n_neighbors': 5, 'weights': 'distance', 'algorithm': 'auto', 'leaf_size': 139, 'p': 6}. Best is trial 2 with value: 0.04113577545721559.\u001b[0m\n",
      "\u001b[32m[I 2023-05-25 12:23:50,253]\u001b[0m Trial 3 finished with value: 0.04389357813819442 and parameters: {'n_neighbors': 3, 'weights': 'distance', 'algorithm': 'ball_tree', 'leaf_size': 141, 'p': 12}. Best is trial 2 with value: 0.04113577545721559.\u001b[0m\n",
      "\u001b[32m[I 2023-05-25 12:23:50,309]\u001b[0m Trial 4 finished with value: 0.041458283869424975 and parameters: {'n_neighbors': 5, 'weights': 'distance', 'algorithm': 'kd_tree', 'leaf_size': 126, 'p': 5}. Best is trial 2 with value: 0.04113577545721559.\u001b[0m\n",
      "\u001b[32m[I 2023-05-25 12:23:50,429]\u001b[0m Trial 5 finished with value: 0.05137224946029907 and parameters: {'n_neighbors': 1, 'weights': 'uniform', 'algorithm': 'ball_tree', 'leaf_size': 41, 'p': 43}. Best is trial 2 with value: 0.04113577545721559.\u001b[0m\n",
      "\u001b[32m[I 2023-05-25 12:23:50,591]\u001b[0m Trial 6 finished with value: 0.04630656891365215 and parameters: {'n_neighbors': 7, 'weights': 'distance', 'algorithm': 'auto', 'leaf_size': 79, 'p': 12}. Best is trial 2 with value: 0.04113577545721559.\u001b[0m\n",
      "\u001b[32m[I 2023-05-25 12:23:50,770]\u001b[0m Trial 7 finished with value: 0.05137285798618174 and parameters: {'n_neighbors': 1, 'weights': 'distance', 'algorithm': 'brute', 'leaf_size': 136, 'p': 47}. Best is trial 2 with value: 0.04113577545721559.\u001b[0m\n",
      "\u001b[32m[I 2023-05-25 12:23:50,908]\u001b[0m Trial 8 finished with value: 0.05402046191311771 and parameters: {'n_neighbors': 11, 'weights': 'distance', 'algorithm': 'ball_tree', 'leaf_size': 37, 'p': 11}. Best is trial 2 with value: 0.04113577545721559.\u001b[0m\n",
      "\u001b[32m[I 2023-05-25 12:23:51,092]\u001b[0m Trial 9 finished with value: 0.07052606700771161 and parameters: {'n_neighbors': 13, 'weights': 'uniform', 'algorithm': 'brute', 'leaf_size': 41, 'p': 12}. Best is trial 2 with value: 0.04113577545721559.\u001b[0m\n",
      "\u001b[32m[I 2023-05-25 12:23:51,260]\u001b[0m Trial 10 finished with value: 0.07273074313471029 and parameters: {'n_neighbors': 15, 'weights': 'uniform', 'algorithm': 'auto', 'leaf_size': 106, 'p': 26}. Best is trial 2 with value: 0.04113577545721559.\u001b[0m\n",
      "\u001b[32m[I 2023-05-25 12:23:51,454]\u001b[0m Trial 11 finished with value: 0.040844352263952714 and parameters: {'n_neighbors': 5, 'weights': 'distance', 'algorithm': 'auto', 'leaf_size': 82, 'p': 30}. Best is trial 11 with value: 0.040844352263952714.\u001b[0m\n",
      "\u001b[32m[I 2023-05-25 12:23:51,631]\u001b[0m Trial 12 finished with value: 0.04076659190390304 and parameters: {'n_neighbors': 5, 'weights': 'distance', 'algorithm': 'auto', 'leaf_size': 74, 'p': 27}. Best is trial 12 with value: 0.04076659190390304.\u001b[0m\n",
      "\u001b[32m[I 2023-05-25 12:23:51,811]\u001b[0m Trial 13 finished with value: 0.050637769264346266 and parameters: {'n_neighbors': 9, 'weights': 'distance', 'algorithm': 'auto', 'leaf_size': 70, 'p': 28}. Best is trial 12 with value: 0.04076659190390304.\u001b[0m\n",
      "\u001b[32m[I 2023-05-25 12:23:51,865]\u001b[0m Trial 14 finished with value: 0.04068446007670236 and parameters: {'n_neighbors': 5, 'weights': 'distance', 'algorithm': 'kd_tree', 'leaf_size': 64, 'p': 26}. Best is trial 14 with value: 0.04068446007670236.\u001b[0m\n",
      "\u001b[32m[I 2023-05-25 12:23:51,921]\u001b[0m Trial 15 finished with value: 0.04578734645115803 and parameters: {'n_neighbors': 5, 'weights': 'uniform', 'algorithm': 'kd_tree', 'leaf_size': 58, 'p': 21}. Best is trial 14 with value: 0.04068446007670236.\u001b[0m\n",
      "\u001b[32m[I 2023-05-25 12:23:51,977]\u001b[0m Trial 16 finished with value: 0.04394374095975853 and parameters: {'n_neighbors': 3, 'weights': 'distance', 'algorithm': 'kd_tree', 'leaf_size': 60, 'p': 21}. Best is trial 14 with value: 0.04068446007670236.\u001b[0m\n",
      "\u001b[32m[I 2023-05-25 12:23:52,045]\u001b[0m Trial 17 finished with value: 0.050693076159186466 and parameters: {'n_neighbors': 9, 'weights': 'distance', 'algorithm': 'kd_tree', 'leaf_size': 95, 'p': 34}. Best is trial 14 with value: 0.04068446007670236.\u001b[0m\n",
      "\u001b[32m[I 2023-05-25 12:23:52,111]\u001b[0m Trial 18 finished with value: 0.05576077180816536 and parameters: {'n_neighbors': 7, 'weights': 'uniform', 'algorithm': 'kd_tree', 'leaf_size': 113, 'p': 21}. Best is trial 14 with value: 0.04068446007670236.\u001b[0m\n",
      "\u001b[32m[I 2023-05-25 12:23:52,287]\u001b[0m Trial 19 finished with value: 0.058102816456075776 and parameters: {'n_neighbors': 15, 'weights': 'distance', 'algorithm': 'brute', 'leaf_size': 56, 'p': 34}. Best is trial 14 with value: 0.04068446007670236.\u001b[0m\n",
      "\u001b[32m[I 2023-05-25 12:23:52,357]\u001b[0m Trial 20 finished with value: 0.056320713598115885 and parameters: {'n_neighbors': 13, 'weights': 'distance', 'algorithm': 'kd_tree', 'leaf_size': 72, 'p': 18}. Best is trial 14 with value: 0.04068446007670236.\u001b[0m\n",
      "\u001b[32m[I 2023-05-25 12:23:52,533]\u001b[0m Trial 21 finished with value: 0.041102917704504534 and parameters: {'n_neighbors': 5, 'weights': 'distance', 'algorithm': 'auto', 'leaf_size': 85, 'p': 32}. Best is trial 14 with value: 0.04068446007670236.\u001b[0m\n",
      "\u001b[32m[I 2023-05-25 12:23:52,838]\u001b[0m Trial 22 finished with value: 0.040844352263952714 and parameters: {'n_neighbors': 5, 'weights': 'distance', 'algorithm': 'auto', 'leaf_size': 88, 'p': 30}. Best is trial 14 with value: 0.04068446007670236.\u001b[0m\n",
      "\u001b[32m[I 2023-05-25 12:23:53,041]\u001b[0m Trial 23 finished with value: 0.04076152649882613 and parameters: {'n_neighbors': 5, 'weights': 'distance', 'algorithm': 'auto', 'leaf_size': 72, 'p': 24}. Best is trial 14 with value: 0.04068446007670236.\u001b[0m\n",
      "\u001b[32m[I 2023-05-25 12:23:53,224]\u001b[0m Trial 24 finished with value: 0.053991211729185515 and parameters: {'n_neighbors': 11, 'weights': 'distance', 'algorithm': 'auto', 'leaf_size': 51, 'p': 24}. Best is trial 14 with value: 0.04068446007670236.\u001b[0m\n",
      "\u001b[32m[I 2023-05-25 12:23:53,404]\u001b[0m Trial 25 finished with value: 0.040913723978679685 and parameters: {'n_neighbors': 5, 'weights': 'distance', 'algorithm': 'auto', 'leaf_size': 63, 'p': 37}. Best is trial 14 with value: 0.04068446007670236.\u001b[0m\n",
      "\u001b[32m[I 2023-05-25 12:23:53,468]\u001b[0m Trial 26 finished with value: 0.04590596563112709 and parameters: {'n_neighbors': 5, 'weights': 'uniform', 'algorithm': 'kd_tree', 'leaf_size': 72, 'p': 16}. Best is trial 14 with value: 0.04068446007670236.\u001b[0m\n",
      "\u001b[32m[I 2023-05-25 12:23:53,644]\u001b[0m Trial 27 finished with value: 0.040761086487344306 and parameters: {'n_neighbors': 5, 'weights': 'distance', 'algorithm': 'brute', 'leaf_size': 48, 'p': 25}. Best is trial 14 with value: 0.04068446007670236.\u001b[0m\n",
      "\u001b[32m[I 2023-05-25 12:23:53,818]\u001b[0m Trial 28 finished with value: 0.04076152649882613 and parameters: {'n_neighbors': 5, 'weights': 'distance', 'algorithm': 'brute', 'leaf_size': 48, 'p': 24}. Best is trial 14 with value: 0.04068446007670236.\u001b[0m\n",
      "\u001b[32m[I 2023-05-25 12:23:53,989]\u001b[0m Trial 29 finished with value: 0.04392110908050164 and parameters: {'n_neighbors': 3, 'weights': 'distance', 'algorithm': 'brute', 'leaf_size': 50, 'p': 17}. Best is trial 14 with value: 0.04068446007670236.\u001b[0m\n",
      "\u001b[32m[I 2023-05-25 12:23:54,158]\u001b[0m Trial 30 finished with value: 0.0564436483944005 and parameters: {'n_neighbors': 13, 'weights': 'distance', 'algorithm': 'brute', 'leaf_size': 30, 'p': 38}. Best is trial 14 with value: 0.04068446007670236.\u001b[0m\n",
      "\u001b[32m[I 2023-05-25 12:23:54,327]\u001b[0m Trial 31 finished with value: 0.04076152649882613 and parameters: {'n_neighbors': 5, 'weights': 'distance', 'algorithm': 'brute', 'leaf_size': 47, 'p': 24}. Best is trial 14 with value: 0.04068446007670236.\u001b[0m\n",
      "\u001b[32m[I 2023-05-25 12:23:54,496]\u001b[0m Trial 32 finished with value: 0.04076152649882613 and parameters: {'n_neighbors': 5, 'weights': 'distance', 'algorithm': 'brute', 'leaf_size': 65, 'p': 24}. Best is trial 14 with value: 0.04068446007670236.\u001b[0m\n"
     ]
    },
    {
     "name": "stderr",
     "output_type": "stream",
     "text": [
      "\u001b[32m[I 2023-05-25 12:23:54,665]\u001b[0m Trial 33 finished with value: 0.04090525097221258 and parameters: {'n_neighbors': 5, 'weights': 'distance', 'algorithm': 'brute', 'leaf_size': 50, 'p': 21}. Best is trial 14 with value: 0.04068446007670236.\u001b[0m\n",
      "\u001b[32m[I 2023-05-25 12:23:54,828]\u001b[0m Trial 34 finished with value: 0.040844352263952714 and parameters: {'n_neighbors': 5, 'weights': 'distance', 'algorithm': 'brute', 'leaf_size': 44, 'p': 30}. Best is trial 14 with value: 0.04068446007670236.\u001b[0m\n",
      "\u001b[32m[I 2023-05-25 12:23:55,068]\u001b[0m Trial 35 finished with value: 0.04082700520496761 and parameters: {'n_neighbors': 5, 'weights': 'distance', 'algorithm': 'ball_tree', 'leaf_size': 32, 'p': 15}. Best is trial 14 with value: 0.04068446007670236.\u001b[0m\n",
      "\u001b[32m[I 2023-05-25 12:23:55,275]\u001b[0m Trial 36 finished with value: 0.05136337460871529 and parameters: {'n_neighbors': 1, 'weights': 'distance', 'algorithm': 'brute', 'leaf_size': 56, 'p': 24}. Best is trial 14 with value: 0.04068446007670236.\u001b[0m\n",
      "\u001b[32m[I 2023-05-25 12:23:55,465]\u001b[0m Trial 37 finished with value: 0.046239129253827345 and parameters: {'n_neighbors': 7, 'weights': 'distance', 'algorithm': 'brute', 'leaf_size': 68, 'p': 28}. Best is trial 14 with value: 0.04068446007670236.\u001b[0m\n",
      "\u001b[32m[I 2023-05-25 12:23:55,646]\u001b[0m Trial 38 finished with value: 0.05852591625611705 and parameters: {'n_neighbors': 15, 'weights': 'distance', 'algorithm': 'ball_tree', 'leaf_size': 78, 'p': 42}. Best is trial 14 with value: 0.04068446007670236.\u001b[0m\n",
      "\u001b[32m[I 2023-05-25 12:23:55,713]\u001b[0m Trial 39 finished with value: 0.06735216536572214 and parameters: {'n_neighbors': 11, 'weights': 'uniform', 'algorithm': 'kd_tree', 'leaf_size': 38, 'p': 9}. Best is trial 14 with value: 0.04068446007670236.\u001b[0m\n",
      "\u001b[32m[I 2023-05-25 12:23:56,034]\u001b[0m Trial 40 finished with value: 0.050484520298314364 and parameters: {'n_neighbors': 9, 'weights': 'distance', 'algorithm': 'brute', 'leaf_size': 64, 'p': 19}. Best is trial 14 with value: 0.04068446007670236.\u001b[0m\n",
      "\u001b[32m[I 2023-05-25 12:23:56,276]\u001b[0m Trial 41 finished with value: 0.040884699175797456 and parameters: {'n_neighbors': 5, 'weights': 'distance', 'algorithm': 'brute', 'leaf_size': 45, 'p': 23}. Best is trial 14 with value: 0.04068446007670236.\u001b[0m\n",
      "\u001b[32m[I 2023-05-25 12:23:56,523]\u001b[0m Trial 42 finished with value: 0.040761086487344306 and parameters: {'n_neighbors': 5, 'weights': 'distance', 'algorithm': 'brute', 'leaf_size': 47, 'p': 25}. Best is trial 14 with value: 0.04068446007670236.\u001b[0m\n",
      "\u001b[32m[I 2023-05-25 12:23:56,756]\u001b[0m Trial 43 finished with value: 0.04076659190390304 and parameters: {'n_neighbors': 5, 'weights': 'distance', 'algorithm': 'brute', 'leaf_size': 52, 'p': 27}. Best is trial 14 with value: 0.04068446007670236.\u001b[0m\n",
      "\u001b[32m[I 2023-05-25 12:23:56,996]\u001b[0m Trial 44 finished with value: 0.040938616141334365 and parameters: {'n_neighbors': 5, 'weights': 'distance', 'algorithm': 'brute', 'leaf_size': 38, 'p': 33}. Best is trial 14 with value: 0.04068446007670236.\u001b[0m\n",
      "\u001b[32m[I 2023-05-25 12:23:57,164]\u001b[0m Trial 45 finished with value: 0.051363374608715325 and parameters: {'n_neighbors': 1, 'weights': 'distance', 'algorithm': 'ball_tree', 'leaf_size': 56, 'p': 19}. Best is trial 14 with value: 0.04068446007670236.\u001b[0m\n",
      "\u001b[32m[I 2023-05-25 12:23:57,414]\u001b[0m Trial 46 finished with value: 0.04083405026794849 and parameters: {'n_neighbors': 5, 'weights': 'distance', 'algorithm': 'brute', 'leaf_size': 77, 'p': 31}. Best is trial 14 with value: 0.04068446007670236.\u001b[0m\n",
      "\u001b[32m[I 2023-05-25 12:23:57,484]\u001b[0m Trial 47 finished with value: 0.04679900358928089 and parameters: {'n_neighbors': 3, 'weights': 'uniform', 'algorithm': 'kd_tree', 'leaf_size': 41, 'p': 15}. Best is trial 14 with value: 0.04068446007670236.\u001b[0m\n",
      "\u001b[32m[I 2023-05-25 12:23:57,520]\u001b[0m Trial 48 finished with value: 0.04115494307351759 and parameters: {'n_neighbors': 5, 'weights': 'distance', 'algorithm': 'auto', 'leaf_size': 97, 'p': 2}. Best is trial 14 with value: 0.04068446007670236.\u001b[0m\n",
      "\u001b[32m[I 2023-05-25 12:23:57,776]\u001b[0m Trial 49 finished with value: 0.04090543194619914 and parameters: {'n_neighbors': 5, 'weights': 'distance', 'algorithm': 'brute', 'leaf_size': 60, 'p': 26}. Best is trial 14 with value: 0.04068446007670236.\u001b[0m\n",
      "\u001b[32m[I 2023-05-25 12:23:57,882]\u001b[0m Trial 50 finished with value: 0.05403420237430972 and parameters: {'n_neighbors': 11, 'weights': 'distance', 'algorithm': 'kd_tree', 'leaf_size': 127, 'p': 36}. Best is trial 14 with value: 0.04068446007670236.\u001b[0m\n",
      "\u001b[32m[I 2023-05-25 12:23:58,117]\u001b[0m Trial 51 finished with value: 0.040761086487344306 and parameters: {'n_neighbors': 5, 'weights': 'distance', 'algorithm': 'brute', 'leaf_size': 46, 'p': 25}. Best is trial 14 with value: 0.04068446007670236.\u001b[0m\n",
      "\u001b[32m[I 2023-05-25 12:23:58,391]\u001b[0m Trial 52 finished with value: 0.04083498980591605 and parameters: {'n_neighbors': 5, 'weights': 'distance', 'algorithm': 'brute', 'leaf_size': 34, 'p': 29}. Best is trial 14 with value: 0.04068446007670236.\u001b[0m\n",
      "\u001b[32m[I 2023-05-25 12:23:58,623]\u001b[0m Trial 53 finished with value: 0.040884699175797456 and parameters: {'n_neighbors': 5, 'weights': 'distance', 'algorithm': 'brute', 'leaf_size': 45, 'p': 23}. Best is trial 14 with value: 0.04068446007670236.\u001b[0m\n",
      "\u001b[32m[I 2023-05-25 12:23:58,909]\u001b[0m Trial 54 finished with value: 0.04625508933838274 and parameters: {'n_neighbors': 7, 'weights': 'distance', 'algorithm': 'brute', 'leaf_size': 54, 'p': 25}. Best is trial 14 with value: 0.04068446007670236.\u001b[0m\n",
      "\u001b[32m[I 2023-05-25 12:23:59,155]\u001b[0m Trial 55 finished with value: 0.040753946765418325 and parameters: {'n_neighbors': 5, 'weights': 'distance', 'algorithm': 'auto', 'leaf_size': 66, 'p': 22}. Best is trial 14 with value: 0.04068446007670236.\u001b[0m\n",
      "\u001b[32m[I 2023-05-25 12:23:59,422]\u001b[0m Trial 56 finished with value: 0.07275446083729434 and parameters: {'n_neighbors': 15, 'weights': 'uniform', 'algorithm': 'auto', 'leaf_size': 67, 'p': 21}. Best is trial 14 with value: 0.04068446007670236.\u001b[0m\n",
      "\u001b[32m[I 2023-05-25 12:23:59,662]\u001b[0m Trial 57 finished with value: 0.05634709890409158 and parameters: {'n_neighbors': 13, 'weights': 'distance', 'algorithm': 'auto', 'leaf_size': 61, 'p': 27}. Best is trial 14 with value: 0.04068446007670236.\u001b[0m\n",
      "\u001b[32m[I 2023-05-25 12:23:59,877]\u001b[0m Trial 58 finished with value: 0.050656623470647894 and parameters: {'n_neighbors': 9, 'weights': 'distance', 'algorithm': 'auto', 'leaf_size': 83, 'p': 22}. Best is trial 14 with value: 0.04068446007670236.\u001b[0m\n",
      "\u001b[32m[I 2023-05-25 12:24:00,130]\u001b[0m Trial 59 finished with value: 0.04090543194619914 and parameters: {'n_neighbors': 5, 'weights': 'distance', 'algorithm': 'auto', 'leaf_size': 146, 'p': 26}. Best is trial 14 with value: 0.04068446007670236.\u001b[0m\n",
      "\u001b[32m[I 2023-05-25 12:24:00,373]\u001b[0m Trial 60 finished with value: 0.040907439119331306 and parameters: {'n_neighbors': 5, 'weights': 'distance', 'algorithm': 'auto', 'leaf_size': 74, 'p': 13}. Best is trial 14 with value: 0.04068446007670236.\u001b[0m\n",
      "\u001b[32m[I 2023-05-25 12:24:00,453]\u001b[0m Trial 61 finished with value: 0.04083393722453629 and parameters: {'n_neighbors': 5, 'weights': 'distance', 'algorithm': 'kd_tree', 'leaf_size': 49, 'p': 19}. Best is trial 14 with value: 0.04068446007670236.\u001b[0m\n",
      "\u001b[32m[I 2023-05-25 12:24:00,717]\u001b[0m Trial 62 finished with value: 0.04068769158794695 and parameters: {'n_neighbors': 5, 'weights': 'distance', 'algorithm': 'brute', 'leaf_size': 41, 'p': 28}. Best is trial 14 with value: 0.04068446007670236.\u001b[0m\n",
      "\u001b[32m[I 2023-05-25 12:24:01,003]\u001b[0m Trial 63 finished with value: 0.04083498980591605 and parameters: {'n_neighbors': 5, 'weights': 'distance', 'algorithm': 'auto', 'leaf_size': 41, 'p': 29}. Best is trial 14 with value: 0.04068446007670236.\u001b[0m\n",
      "\u001b[32m[I 2023-05-25 12:24:01,279]\u001b[0m Trial 64 finished with value: 0.04068769158794695 and parameters: {'n_neighbors': 5, 'weights': 'distance', 'algorithm': 'brute', 'leaf_size': 90, 'p': 28}. Best is trial 14 with value: 0.04068446007670236.\u001b[0m\n",
      "\u001b[32m[I 2023-05-25 12:24:01,560]\u001b[0m Trial 65 finished with value: 0.040938616141334365 and parameters: {'n_neighbors': 5, 'weights': 'distance', 'algorithm': 'brute', 'leaf_size': 111, 'p': 33}. Best is trial 14 with value: 0.04068446007670236.\u001b[0m\n"
     ]
    },
    {
     "name": "stderr",
     "output_type": "stream",
     "text": [
      "\u001b[32m[I 2023-05-25 12:24:01,806]\u001b[0m Trial 66 finished with value: 0.04696740183822805 and parameters: {'n_neighbors': 3, 'weights': 'uniform', 'algorithm': 'brute', 'leaf_size': 92, 'p': 31}. Best is trial 14 with value: 0.04068446007670236.\u001b[0m\n",
      "\u001b[32m[I 2023-05-25 12:24:02,067]\u001b[0m Trial 67 finished with value: 0.051372165603247304 and parameters: {'n_neighbors': 1, 'weights': 'distance', 'algorithm': 'brute', 'leaf_size': 36, 'p': 35}. Best is trial 14 with value: 0.04068446007670236.\u001b[0m\n",
      "\u001b[32m[I 2023-05-25 12:24:02,323]\u001b[0m Trial 68 finished with value: 0.04164448913708776 and parameters: {'n_neighbors': 5, 'weights': 'distance', 'algorithm': 'brute', 'leaf_size': 43, 'p': 49}. Best is trial 14 with value: 0.04068446007670236.\u001b[0m\n",
      "\u001b[32m[I 2023-05-25 12:24:02,525]\u001b[0m Trial 69 finished with value: 0.04078656832658202 and parameters: {'n_neighbors': 5, 'weights': 'distance', 'algorithm': 'ball_tree', 'leaf_size': 104, 'p': 26}. Best is trial 14 with value: 0.04068446007670236.\u001b[0m\n",
      "\u001b[32m[I 2023-05-25 12:24:02,600]\u001b[0m Trial 70 finished with value: 0.05639437377243064 and parameters: {'n_neighbors': 13, 'weights': 'distance', 'algorithm': 'kd_tree', 'leaf_size': 54, 'p': 28}. Best is trial 14 with value: 0.04068446007670236.\u001b[0m\n",
      "\u001b[32m[I 2023-05-25 12:24:02,803]\u001b[0m Trial 71 finished with value: 0.040753946765418325 and parameters: {'n_neighbors': 5, 'weights': 'distance', 'algorithm': 'brute', 'leaf_size': 70, 'p': 22}. Best is trial 14 with value: 0.04068446007670236.\u001b[0m\n",
      "\u001b[32m[I 2023-05-25 12:24:03,003]\u001b[0m Trial 72 finished with value: 0.040753946765418325 and parameters: {'n_neighbors': 5, 'weights': 'distance', 'algorithm': 'brute', 'leaf_size': 87, 'p': 22}. Best is trial 14 with value: 0.04068446007670236.\u001b[0m\n",
      "\u001b[32m[I 2023-05-25 12:24:03,186]\u001b[0m Trial 73 finished with value: 0.040753946765418325 and parameters: {'n_neighbors': 5, 'weights': 'distance', 'algorithm': 'brute', 'leaf_size': 85, 'p': 22}. Best is trial 14 with value: 0.04068446007670236.\u001b[0m\n",
      "\u001b[32m[I 2023-05-25 12:24:03,382]\u001b[0m Trial 74 finished with value: 0.0409224488143458 and parameters: {'n_neighbors': 5, 'weights': 'distance', 'algorithm': 'brute', 'leaf_size': 90, 'p': 20}. Best is trial 14 with value: 0.04068446007670236.\u001b[0m\n",
      "\u001b[32m[I 2023-05-25 12:24:03,581]\u001b[0m Trial 75 finished with value: 0.04629520700089664 and parameters: {'n_neighbors': 7, 'weights': 'distance', 'algorithm': 'brute', 'leaf_size': 81, 'p': 22}. Best is trial 14 with value: 0.04068446007670236.\u001b[0m\n",
      "\u001b[32m[I 2023-05-25 12:24:03,796]\u001b[0m Trial 76 finished with value: 0.040774947983480164 and parameters: {'n_neighbors': 5, 'weights': 'distance', 'algorithm': 'brute', 'leaf_size': 87, 'p': 18}. Best is trial 14 with value: 0.04068446007670236.\u001b[0m\n",
      "\u001b[32m[I 2023-05-25 12:24:03,989]\u001b[0m Trial 77 finished with value: 0.05809867046171046 and parameters: {'n_neighbors': 15, 'weights': 'distance', 'algorithm': 'brute', 'leaf_size': 76, 'p': 22}. Best is trial 14 with value: 0.04068446007670236.\u001b[0m\n",
      "\u001b[32m[I 2023-05-25 12:24:04,173]\u001b[0m Trial 78 finished with value: 0.05050482299176325 and parameters: {'n_neighbors': 9, 'weights': 'distance', 'algorithm': 'brute', 'leaf_size': 97, 'p': 17}. Best is trial 14 with value: 0.04068446007670236.\u001b[0m\n",
      "\u001b[32m[I 2023-05-25 12:24:04,245]\u001b[0m Trial 79 finished with value: 0.04584580240295211 and parameters: {'n_neighbors': 5, 'weights': 'uniform', 'algorithm': 'kd_tree', 'leaf_size': 93, 'p': 20}. Best is trial 14 with value: 0.04068446007670236.\u001b[0m\n",
      "\u001b[32m[I 2023-05-25 12:24:04,422]\u001b[0m Trial 80 finished with value: 0.053953495313432916 and parameters: {'n_neighbors': 11, 'weights': 'distance', 'algorithm': 'brute', 'leaf_size': 85, 'p': 23}. Best is trial 14 with value: 0.04068446007670236.\u001b[0m\n",
      "\u001b[32m[I 2023-05-25 12:24:04,602]\u001b[0m Trial 81 finished with value: 0.040761086487344306 and parameters: {'n_neighbors': 5, 'weights': 'distance', 'algorithm': 'brute', 'leaf_size': 70, 'p': 25}. Best is trial 14 with value: 0.04068446007670236.\u001b[0m\n",
      "\u001b[32m[I 2023-05-25 12:24:04,797]\u001b[0m Trial 82 finished with value: 0.04083498980591605 and parameters: {'n_neighbors': 5, 'weights': 'distance', 'algorithm': 'brute', 'leaf_size': 80, 'p': 29}. Best is trial 14 with value: 0.04068446007670236.\u001b[0m\n",
      "\u001b[32m[I 2023-05-25 12:24:04,994]\u001b[0m Trial 83 finished with value: 0.04076659190390304 and parameters: {'n_neighbors': 5, 'weights': 'distance', 'algorithm': 'brute', 'leaf_size': 102, 'p': 27}. Best is trial 14 with value: 0.04068446007670236.\u001b[0m\n",
      "\u001b[32m[I 2023-05-25 12:24:05,202]\u001b[0m Trial 84 finished with value: 0.040761086487344306 and parameters: {'n_neighbors': 5, 'weights': 'distance', 'algorithm': 'brute', 'leaf_size': 66, 'p': 25}. Best is trial 14 with value: 0.04068446007670236.\u001b[0m\n",
      "\u001b[32m[I 2023-05-25 12:24:05,372]\u001b[0m Trial 85 finished with value: 0.040781850986844156 and parameters: {'n_neighbors': 5, 'weights': 'distance', 'algorithm': 'ball_tree', 'leaf_size': 58, 'p': 23}. Best is trial 14 with value: 0.04068446007670236.\u001b[0m\n",
      "\u001b[32m[I 2023-05-25 12:24:05,567]\u001b[0m Trial 86 finished with value: 0.0409224488143458 and parameters: {'n_neighbors': 5, 'weights': 'distance', 'algorithm': 'brute', 'leaf_size': 89, 'p': 20}. Best is trial 14 with value: 0.04068446007670236.\u001b[0m\n",
      "\u001b[32m[I 2023-05-25 12:24:05,756]\u001b[0m Trial 87 finished with value: 0.04083405026794849 and parameters: {'n_neighbors': 5, 'weights': 'distance', 'algorithm': 'brute', 'leaf_size': 62, 'p': 31}. Best is trial 14 with value: 0.04068446007670236.\u001b[0m\n",
      "\u001b[32m[I 2023-05-25 12:24:05,836]\u001b[0m Trial 88 finished with value: 0.051364444031865235 and parameters: {'n_neighbors': 1, 'weights': 'distance', 'algorithm': 'kd_tree', 'leaf_size': 70, 'p': 28}. Best is trial 14 with value: 0.04068446007670236.\u001b[0m\n",
      "\u001b[32m[I 2023-05-25 12:24:06,029]\u001b[0m Trial 89 finished with value: 0.043944378115641725 and parameters: {'n_neighbors': 3, 'weights': 'distance', 'algorithm': 'brute', 'leaf_size': 97, 'p': 22}. Best is trial 14 with value: 0.04068446007670236.\u001b[0m\n",
      "\u001b[32m[I 2023-05-25 12:24:06,220]\u001b[0m Trial 90 finished with value: 0.040761086487344306 and parameters: {'n_neighbors': 5, 'weights': 'distance', 'algorithm': 'brute', 'leaf_size': 84, 'p': 25}. Best is trial 14 with value: 0.04068446007670236.\u001b[0m\n",
      "\u001b[32m[I 2023-05-25 12:24:06,415]\u001b[0m Trial 91 finished with value: 0.04076659190390304 and parameters: {'n_neighbors': 5, 'weights': 'distance', 'algorithm': 'brute', 'leaf_size': 53, 'p': 27}. Best is trial 14 with value: 0.04068446007670236.\u001b[0m\n",
      "\u001b[32m[I 2023-05-25 12:24:06,609]\u001b[0m Trial 92 finished with value: 0.04076152649882613 and parameters: {'n_neighbors': 5, 'weights': 'distance', 'algorithm': 'brute', 'leaf_size': 47, 'p': 24}. Best is trial 14 with value: 0.04068446007670236.\u001b[0m\n",
      "\u001b[32m[I 2023-05-25 12:24:06,800]\u001b[0m Trial 93 finished with value: 0.040761086487344306 and parameters: {'n_neighbors': 5, 'weights': 'distance', 'algorithm': 'brute', 'leaf_size': 39, 'p': 25}. Best is trial 14 with value: 0.04068446007670236.\u001b[0m\n",
      "\u001b[32m[I 2023-05-25 12:24:06,992]\u001b[0m Trial 94 finished with value: 0.04083498980591605 and parameters: {'n_neighbors': 5, 'weights': 'distance', 'algorithm': 'brute', 'leaf_size': 34, 'p': 29}. Best is trial 14 with value: 0.04068446007670236.\u001b[0m\n",
      "\u001b[32m[I 2023-05-25 12:24:07,170]\u001b[0m Trial 95 finished with value: 0.04090543194619914 and parameters: {'n_neighbors': 5, 'weights': 'distance', 'algorithm': 'brute', 'leaf_size': 75, 'p': 26}. Best is trial 14 with value: 0.04068446007670236.\u001b[0m\n",
      "\u001b[32m[I 2023-05-25 12:24:07,347]\u001b[0m Trial 96 finished with value: 0.04090525097221258 and parameters: {'n_neighbors': 5, 'weights': 'distance', 'algorithm': 'brute', 'leaf_size': 59, 'p': 21}. Best is trial 14 with value: 0.04068446007670236.\u001b[0m\n",
      "\u001b[32m[I 2023-05-25 12:24:07,411]\u001b[0m Trial 97 finished with value: 0.05569617433511619 and parameters: {'n_neighbors': 7, 'weights': 'uniform', 'algorithm': 'kd_tree', 'leaf_size': 30, 'p': 23}. Best is trial 14 with value: 0.04068446007670236.\u001b[0m\n",
      "\u001b[32m[I 2023-05-25 12:24:07,590]\u001b[0m Trial 98 finished with value: 0.05632074509169783 and parameters: {'n_neighbors': 13, 'weights': 'distance', 'algorithm': 'brute', 'leaf_size': 46, 'p': 18}. Best is trial 14 with value: 0.04068446007670236.\u001b[0m\n"
     ]
    },
    {
     "name": "stderr",
     "output_type": "stream",
     "text": [
      "\u001b[32m[I 2023-05-25 12:24:07,731]\u001b[0m Trial 99 finished with value: 0.040954196900439936 and parameters: {'n_neighbors': 5, 'weights': 'distance', 'algorithm': 'ball_tree', 'leaf_size': 43, 'p': 30}. Best is trial 14 with value: 0.04068446007670236.\u001b[0m\n",
      "\u001b[32m[I 2023-05-25 12:24:07,916]\u001b[0m Trial 100 finished with value: 0.05814717341387439 and parameters: {'n_neighbors': 15, 'weights': 'distance', 'algorithm': 'brute', 'leaf_size': 63, 'p': 32}. Best is trial 14 with value: 0.04068446007670236.\u001b[0m\n",
      "\u001b[32m[I 2023-05-25 12:24:08,259]\u001b[0m Trial 101 finished with value: 0.040761086487344306 and parameters: {'n_neighbors': 5, 'weights': 'distance', 'algorithm': 'brute', 'leaf_size': 70, 'p': 25}. Best is trial 14 with value: 0.04068446007670236.\u001b[0m\n",
      "\u001b[32m[I 2023-05-25 12:24:08,468]\u001b[0m Trial 102 finished with value: 0.04090543194619914 and parameters: {'n_neighbors': 5, 'weights': 'distance', 'algorithm': 'brute', 'leaf_size': 78, 'p': 26}. Best is trial 14 with value: 0.04068446007670236.\u001b[0m\n",
      "\u001b[32m[I 2023-05-25 12:24:08,661]\u001b[0m Trial 103 finished with value: 0.04076152649882613 and parameters: {'n_neighbors': 5, 'weights': 'distance', 'algorithm': 'brute', 'leaf_size': 69, 'p': 24}. Best is trial 14 with value: 0.04068446007670236.\u001b[0m\n",
      "\u001b[32m[I 2023-05-25 12:24:08,851]\u001b[0m Trial 104 finished with value: 0.04068769158794695 and parameters: {'n_neighbors': 5, 'weights': 'distance', 'algorithm': 'brute', 'leaf_size': 73, 'p': 28}. Best is trial 14 with value: 0.04068446007670236.\u001b[0m\n",
      "\u001b[32m[I 2023-05-25 12:24:09,050]\u001b[0m Trial 105 finished with value: 0.05397465924539738 and parameters: {'n_neighbors': 11, 'weights': 'distance', 'algorithm': 'brute', 'leaf_size': 73, 'p': 27}. Best is trial 14 with value: 0.04068446007670236.\u001b[0m\n",
      "\u001b[32m[I 2023-05-25 12:24:09,244]\u001b[0m Trial 106 finished with value: 0.040753946765418325 and parameters: {'n_neighbors': 5, 'weights': 'distance', 'algorithm': 'auto', 'leaf_size': 51, 'p': 22}. Best is trial 14 with value: 0.04068446007670236.\u001b[0m\n",
      "\u001b[32m[I 2023-05-25 12:24:09,435]\u001b[0m Trial 107 finished with value: 0.05066433394664414 and parameters: {'n_neighbors': 9, 'weights': 'distance', 'algorithm': 'auto', 'leaf_size': 87, 'p': 20}. Best is trial 14 with value: 0.04068446007670236.\u001b[0m\n",
      "\u001b[32m[I 2023-05-25 12:24:09,622]\u001b[0m Trial 108 finished with value: 0.040753946765418325 and parameters: {'n_neighbors': 5, 'weights': 'distance', 'algorithm': 'auto', 'leaf_size': 51, 'p': 22}. Best is trial 14 with value: 0.04068446007670236.\u001b[0m\n",
      "\u001b[32m[I 2023-05-25 12:24:09,810]\u001b[0m Trial 109 finished with value: 0.040753946765418325 and parameters: {'n_neighbors': 5, 'weights': 'distance', 'algorithm': 'auto', 'leaf_size': 56, 'p': 22}. Best is trial 14 with value: 0.04068446007670236.\u001b[0m\n",
      "\u001b[32m[I 2023-05-25 12:24:09,996]\u001b[0m Trial 110 finished with value: 0.040903252170865274 and parameters: {'n_neighbors': 5, 'weights': 'distance', 'algorithm': 'auto', 'leaf_size': 65, 'p': 17}. Best is trial 14 with value: 0.04068446007670236.\u001b[0m\n",
      "\u001b[32m[I 2023-05-25 12:24:10,183]\u001b[0m Trial 111 finished with value: 0.040753946765418325 and parameters: {'n_neighbors': 5, 'weights': 'distance', 'algorithm': 'auto', 'leaf_size': 56, 'p': 22}. Best is trial 14 with value: 0.04068446007670236.\u001b[0m\n",
      "\u001b[32m[I 2023-05-25 12:24:10,506]\u001b[0m Trial 112 finished with value: 0.04090525097221258 and parameters: {'n_neighbors': 5, 'weights': 'distance', 'algorithm': 'auto', 'leaf_size': 57, 'p': 21}. Best is trial 14 with value: 0.04068446007670236.\u001b[0m\n",
      "\u001b[32m[I 2023-05-25 12:24:10,713]\u001b[0m Trial 113 finished with value: 0.040782095552203926 and parameters: {'n_neighbors': 5, 'weights': 'distance', 'algorithm': 'auto', 'leaf_size': 50, 'p': 19}. Best is trial 14 with value: 0.04068446007670236.\u001b[0m\n",
      "\u001b[32m[I 2023-05-25 12:24:10,908]\u001b[0m Trial 114 finished with value: 0.040884699175797456 and parameters: {'n_neighbors': 5, 'weights': 'distance', 'algorithm': 'auto', 'leaf_size': 54, 'p': 23}. Best is trial 14 with value: 0.04068446007670236.\u001b[0m\n",
      "\u001b[32m[I 2023-05-25 12:24:11,102]\u001b[0m Trial 115 finished with value: 0.040753946765418325 and parameters: {'n_neighbors': 5, 'weights': 'distance', 'algorithm': 'auto', 'leaf_size': 60, 'p': 22}. Best is trial 14 with value: 0.04068446007670236.\u001b[0m\n",
      "\u001b[32m[I 2023-05-25 12:24:11,313]\u001b[0m Trial 116 finished with value: 0.04604524704344713 and parameters: {'n_neighbors': 5, 'weights': 'uniform', 'algorithm': 'auto', 'leaf_size': 52, 'p': 21}. Best is trial 14 with value: 0.04068446007670236.\u001b[0m\n",
      "\u001b[32m[I 2023-05-25 12:24:11,532]\u001b[0m Trial 117 finished with value: 0.04082700520496761 and parameters: {'n_neighbors': 5, 'weights': 'distance', 'algorithm': 'auto', 'leaf_size': 64, 'p': 15}. Best is trial 14 with value: 0.04068446007670236.\u001b[0m\n",
      "\u001b[32m[I 2023-05-25 12:24:11,788]\u001b[0m Trial 118 finished with value: 0.04394377214958335 and parameters: {'n_neighbors': 3, 'weights': 'distance', 'algorithm': 'auto', 'leaf_size': 93, 'p': 23}. Best is trial 14 with value: 0.04068446007670236.\u001b[0m\n",
      "\u001b[32m[I 2023-05-25 12:24:12,014]\u001b[0m Trial 119 finished with value: 0.051363374608715325 and parameters: {'n_neighbors': 1, 'weights': 'distance', 'algorithm': 'auto', 'leaf_size': 56, 'p': 19}. Best is trial 14 with value: 0.04068446007670236.\u001b[0m\n",
      "\u001b[32m[I 2023-05-25 12:24:12,264]\u001b[0m Trial 120 finished with value: 0.04068769158794695 and parameters: {'n_neighbors': 5, 'weights': 'distance', 'algorithm': 'auto', 'leaf_size': 67, 'p': 28}. Best is trial 14 with value: 0.04068446007670236.\u001b[0m\n",
      "\u001b[32m[I 2023-05-25 12:24:12,505]\u001b[0m Trial 121 finished with value: 0.04068769158794695 and parameters: {'n_neighbors': 5, 'weights': 'distance', 'algorithm': 'auto', 'leaf_size': 61, 'p': 28}. Best is trial 14 with value: 0.04068446007670236.\u001b[0m\n",
      "\u001b[32m[I 2023-05-25 12:24:12,734]\u001b[0m Trial 122 finished with value: 0.04068769158794695 and parameters: {'n_neighbors': 5, 'weights': 'distance', 'algorithm': 'auto', 'leaf_size': 67, 'p': 28}. Best is trial 14 with value: 0.04068446007670236.\u001b[0m\n",
      "\u001b[32m[I 2023-05-25 12:24:12,982]\u001b[0m Trial 123 finished with value: 0.04068769158794695 and parameters: {'n_neighbors': 5, 'weights': 'distance', 'algorithm': 'auto', 'leaf_size': 66, 'p': 28}. Best is trial 14 with value: 0.04068446007670236.\u001b[0m\n",
      "\u001b[32m[I 2023-05-25 12:24:13,196]\u001b[0m Trial 124 finished with value: 0.04068769158794695 and parameters: {'n_neighbors': 5, 'weights': 'distance', 'algorithm': 'auto', 'leaf_size': 67, 'p': 28}. Best is trial 14 with value: 0.04068446007670236.\u001b[0m\n",
      "\u001b[32m[I 2023-05-25 12:24:13,415]\u001b[0m Trial 125 finished with value: 0.04068769158794695 and parameters: {'n_neighbors': 5, 'weights': 'distance', 'algorithm': 'auto', 'leaf_size': 67, 'p': 28}. Best is trial 14 with value: 0.04068446007670236.\u001b[0m\n",
      "\u001b[32m[I 2023-05-25 12:24:13,624]\u001b[0m Trial 126 finished with value: 0.040844352263952714 and parameters: {'n_neighbors': 5, 'weights': 'distance', 'algorithm': 'auto', 'leaf_size': 68, 'p': 30}. Best is trial 14 with value: 0.04068446007670236.\u001b[0m\n",
      "\u001b[32m[I 2023-05-25 12:24:13,837]\u001b[0m Trial 127 finished with value: 0.04068769158794695 and parameters: {'n_neighbors': 5, 'weights': 'distance', 'algorithm': 'auto', 'leaf_size': 72, 'p': 28}. Best is trial 14 with value: 0.04068446007670236.\u001b[0m\n",
      "\u001b[32m[I 2023-05-25 12:24:14,051]\u001b[0m Trial 128 finished with value: 0.056318102288952496 and parameters: {'n_neighbors': 13, 'weights': 'distance', 'algorithm': 'auto', 'leaf_size': 72, 'p': 28}. Best is trial 14 with value: 0.04068446007670236.\u001b[0m\n",
      "\u001b[32m[I 2023-05-25 12:24:14,265]\u001b[0m Trial 129 finished with value: 0.046275626533479185 and parameters: {'n_neighbors': 7, 'weights': 'distance', 'algorithm': 'auto', 'leaf_size': 68, 'p': 30}. Best is trial 14 with value: 0.04068446007670236.\u001b[0m\n",
      "\u001b[32m[I 2023-05-25 12:24:14,645]\u001b[0m Trial 130 finished with value: 0.04068769158794695 and parameters: {'n_neighbors': 5, 'weights': 'distance', 'algorithm': 'auto', 'leaf_size': 73, 'p': 28}. Best is trial 14 with value: 0.04068446007670236.\u001b[0m\n",
      "\u001b[32m[I 2023-05-25 12:24:14,894]\u001b[0m Trial 131 finished with value: 0.041102917704504534 and parameters: {'n_neighbors': 5, 'weights': 'distance', 'algorithm': 'auto', 'leaf_size': 66, 'p': 32}. Best is trial 14 with value: 0.04068446007670236.\u001b[0m\n"
     ]
    },
    {
     "name": "stderr",
     "output_type": "stream",
     "text": [
      "\u001b[32m[I 2023-05-25 12:24:15,136]\u001b[0m Trial 132 finished with value: 0.04068769158794695 and parameters: {'n_neighbors': 5, 'weights': 'distance', 'algorithm': 'auto', 'leaf_size': 75, 'p': 28}. Best is trial 14 with value: 0.04068446007670236.\u001b[0m\n",
      "\u001b[32m[I 2023-05-25 12:24:15,352]\u001b[0m Trial 133 finished with value: 0.04068769158794695 and parameters: {'n_neighbors': 5, 'weights': 'distance', 'algorithm': 'auto', 'leaf_size': 76, 'p': 28}. Best is trial 14 with value: 0.04068446007670236.\u001b[0m\n",
      "\u001b[32m[I 2023-05-25 12:24:15,566]\u001b[0m Trial 134 finished with value: 0.04068769158794695 and parameters: {'n_neighbors': 5, 'weights': 'distance', 'algorithm': 'auto', 'leaf_size': 75, 'p': 28}. Best is trial 14 with value: 0.04068446007670236.\u001b[0m\n",
      "\u001b[32m[I 2023-05-25 12:24:15,842]\u001b[0m Trial 135 finished with value: 0.04083498980591605 and parameters: {'n_neighbors': 5, 'weights': 'distance', 'algorithm': 'auto', 'leaf_size': 80, 'p': 29}. Best is trial 14 with value: 0.04068446007670236.\u001b[0m\n",
      "\u001b[32m[I 2023-05-25 12:24:16,099]\u001b[0m Trial 136 finished with value: 0.04083405026794849 and parameters: {'n_neighbors': 5, 'weights': 'distance', 'algorithm': 'auto', 'leaf_size': 71, 'p': 31}. Best is trial 14 with value: 0.04068446007670236.\u001b[0m\n",
      "\u001b[32m[I 2023-05-25 12:24:16,327]\u001b[0m Trial 137 finished with value: 0.058158756635066616 and parameters: {'n_neighbors': 15, 'weights': 'distance', 'algorithm': 'auto', 'leaf_size': 77, 'p': 27}. Best is trial 14 with value: 0.04068446007670236.\u001b[0m\n",
      "\u001b[32m[I 2023-05-25 12:24:16,546]\u001b[0m Trial 138 finished with value: 0.06696721539572856 and parameters: {'n_neighbors': 11, 'weights': 'uniform', 'algorithm': 'auto', 'leaf_size': 62, 'p': 29}. Best is trial 14 with value: 0.04068446007670236.\u001b[0m\n",
      "\u001b[32m[I 2023-05-25 12:24:16,784]\u001b[0m Trial 139 finished with value: 0.040938616141334365 and parameters: {'n_neighbors': 5, 'weights': 'distance', 'algorithm': 'auto', 'leaf_size': 73, 'p': 33}. Best is trial 14 with value: 0.04068446007670236.\u001b[0m\n",
      "\u001b[32m[I 2023-05-25 12:24:16,994]\u001b[0m Trial 140 finished with value: 0.050637769264346266 and parameters: {'n_neighbors': 9, 'weights': 'distance', 'algorithm': 'auto', 'leaf_size': 82, 'p': 28}. Best is trial 14 with value: 0.04068446007670236.\u001b[0m\n",
      "\u001b[32m[I 2023-05-25 12:24:17,184]\u001b[0m Trial 141 finished with value: 0.04068769158794695 and parameters: {'n_neighbors': 5, 'weights': 'distance', 'algorithm': 'auto', 'leaf_size': 75, 'p': 28}. Best is trial 14 with value: 0.04068446007670236.\u001b[0m\n",
      "\u001b[32m[I 2023-05-25 12:24:17,383]\u001b[0m Trial 142 finished with value: 0.04076659190390304 and parameters: {'n_neighbors': 5, 'weights': 'distance', 'algorithm': 'auto', 'leaf_size': 74, 'p': 27}. Best is trial 14 with value: 0.04068446007670236.\u001b[0m\n",
      "\u001b[32m[I 2023-05-25 12:24:17,713]\u001b[0m Trial 143 finished with value: 0.04083498980591605 and parameters: {'n_neighbors': 5, 'weights': 'distance', 'algorithm': 'auto', 'leaf_size': 67, 'p': 29}. Best is trial 14 with value: 0.04068446007670236.\u001b[0m\n",
      "\u001b[32m[I 2023-05-25 12:24:17,917]\u001b[0m Trial 144 finished with value: 0.041102917704504534 and parameters: {'n_neighbors': 5, 'weights': 'distance', 'algorithm': 'auto', 'leaf_size': 77, 'p': 32}. Best is trial 14 with value: 0.04068446007670236.\u001b[0m\n",
      "\u001b[32m[I 2023-05-25 12:24:18,113]\u001b[0m Trial 145 finished with value: 0.040844352263952714 and parameters: {'n_neighbors': 5, 'weights': 'distance', 'algorithm': 'auto', 'leaf_size': 64, 'p': 30}. Best is trial 14 with value: 0.04068446007670236.\u001b[0m\n",
      "\u001b[32m[I 2023-05-25 12:24:18,302]\u001b[0m Trial 146 finished with value: 0.04068769158794695 and parameters: {'n_neighbors': 5, 'weights': 'distance', 'algorithm': 'auto', 'leaf_size': 72, 'p': 28}. Best is trial 14 with value: 0.04068446007670236.\u001b[0m\n",
      "\u001b[32m[I 2023-05-25 12:24:18,484]\u001b[0m Trial 147 finished with value: 0.04083405026794849 and parameters: {'n_neighbors': 5, 'weights': 'distance', 'algorithm': 'auto', 'leaf_size': 75, 'p': 31}. Best is trial 14 with value: 0.04068446007670236.\u001b[0m\n",
      "\u001b[32m[I 2023-05-25 12:24:18,553]\u001b[0m Trial 148 finished with value: 0.04070805797253155 and parameters: {'n_neighbors': 5, 'weights': 'distance', 'algorithm': 'kd_tree', 'leaf_size': 79, 'p': 26}. Best is trial 14 with value: 0.04068446007670236.\u001b[0m\n",
      "\u001b[32m[I 2023-05-25 12:24:18,734]\u001b[0m Trial 149 finished with value: 0.04076659190390304 and parameters: {'n_neighbors': 5, 'weights': 'distance', 'algorithm': 'auto', 'leaf_size': 68, 'p': 27}. Best is trial 14 with value: 0.04068446007670236.\u001b[0m\n",
      "\u001b[32m[I 2023-05-25 12:24:18,912]\u001b[0m Trial 150 finished with value: 0.040844352263952714 and parameters: {'n_neighbors': 5, 'weights': 'distance', 'algorithm': 'auto', 'leaf_size': 71, 'p': 30}. Best is trial 14 with value: 0.04068446007670236.\u001b[0m\n",
      "\u001b[32m[I 2023-05-25 12:24:19,113]\u001b[0m Trial 151 finished with value: 0.04068769158794695 and parameters: {'n_neighbors': 5, 'weights': 'distance', 'algorithm': 'auto', 'leaf_size': 74, 'p': 28}. Best is trial 14 with value: 0.04068446007670236.\u001b[0m\n",
      "\u001b[32m[I 2023-05-25 12:24:19,295]\u001b[0m Trial 152 finished with value: 0.04068769158794695 and parameters: {'n_neighbors': 5, 'weights': 'distance', 'algorithm': 'auto', 'leaf_size': 62, 'p': 28}. Best is trial 14 with value: 0.04068446007670236.\u001b[0m\n",
      "\u001b[32m[I 2023-05-25 12:24:19,485]\u001b[0m Trial 153 finished with value: 0.04090543194619914 and parameters: {'n_neighbors': 5, 'weights': 'distance', 'algorithm': 'auto', 'leaf_size': 76, 'p': 26}. Best is trial 14 with value: 0.04068446007670236.\u001b[0m\n",
      "\u001b[32m[I 2023-05-25 12:24:19,678]\u001b[0m Trial 154 finished with value: 0.04083498980591605 and parameters: {'n_neighbors': 5, 'weights': 'distance', 'algorithm': 'auto', 'leaf_size': 80, 'p': 29}. Best is trial 14 with value: 0.04068446007670236.\u001b[0m\n",
      "\u001b[32m[I 2023-05-25 12:24:19,863]\u001b[0m Trial 155 finished with value: 0.04076659190390304 and parameters: {'n_neighbors': 5, 'weights': 'distance', 'algorithm': 'auto', 'leaf_size': 109, 'p': 27}. Best is trial 14 with value: 0.04068446007670236.\u001b[0m\n",
      "\u001b[32m[I 2023-05-25 12:24:20,045]\u001b[0m Trial 156 finished with value: 0.051364973473439664 and parameters: {'n_neighbors': 1, 'weights': 'distance', 'algorithm': 'auto', 'leaf_size': 119, 'p': 28}. Best is trial 14 with value: 0.04068446007670236.\u001b[0m\n",
      "\u001b[32m[I 2023-05-25 12:24:20,129]\u001b[0m Trial 157 finished with value: 0.04395194863438707 and parameters: {'n_neighbors': 3, 'weights': 'distance', 'algorithm': 'kd_tree', 'leaf_size': 66, 'p': 30}. Best is trial 14 with value: 0.04068446007670236.\u001b[0m\n",
      "\u001b[32m[I 2023-05-25 12:24:20,312]\u001b[0m Trial 158 finished with value: 0.04090543194619914 and parameters: {'n_neighbors': 5, 'weights': 'distance', 'algorithm': 'auto', 'leaf_size': 69, 'p': 26}. Best is trial 14 with value: 0.04068446007670236.\u001b[0m\n",
      "\u001b[32m[I 2023-05-25 12:24:20,494]\u001b[0m Trial 159 finished with value: 0.04093319563997569 and parameters: {'n_neighbors': 5, 'weights': 'distance', 'algorithm': 'ball_tree', 'leaf_size': 72, 'p': 29}. Best is trial 14 with value: 0.04068446007670236.\u001b[0m\n",
      "\u001b[32m[I 2023-05-25 12:24:20,688]\u001b[0m Trial 160 finished with value: 0.04068769158794695 and parameters: {'n_neighbors': 5, 'weights': 'distance', 'algorithm': 'auto', 'leaf_size': 61, 'p': 28}. Best is trial 14 with value: 0.04068446007670236.\u001b[0m\n",
      "\u001b[32m[I 2023-05-25 12:24:20,892]\u001b[0m Trial 161 finished with value: 0.04076659190390304 and parameters: {'n_neighbors': 5, 'weights': 'distance', 'algorithm': 'auto', 'leaf_size': 73, 'p': 27}. Best is trial 14 with value: 0.04068446007670236.\u001b[0m\n",
      "\u001b[32m[I 2023-05-25 12:24:21,145]\u001b[0m Trial 162 finished with value: 0.04068769158794695 and parameters: {'n_neighbors': 5, 'weights': 'distance', 'algorithm': 'auto', 'leaf_size': 70, 'p': 28}. Best is trial 14 with value: 0.04068446007670236.\u001b[0m\n",
      "\u001b[32m[I 2023-05-25 12:24:21,400]\u001b[0m Trial 163 finished with value: 0.04083405026794849 and parameters: {'n_neighbors': 5, 'weights': 'distance', 'algorithm': 'auto', 'leaf_size': 65, 'p': 31}. Best is trial 14 with value: 0.04068446007670236.\u001b[0m\n",
      "\u001b[32m[I 2023-05-25 12:24:21,662]\u001b[0m Trial 164 finished with value: 0.04083498980591605 and parameters: {'n_neighbors': 5, 'weights': 'distance', 'algorithm': 'auto', 'leaf_size': 76, 'p': 29}. Best is trial 14 with value: 0.04068446007670236.\u001b[0m\n"
     ]
    },
    {
     "name": "stderr",
     "output_type": "stream",
     "text": [
      "\u001b[32m[I 2023-05-25 12:24:21,882]\u001b[0m Trial 165 finished with value: 0.04090543194619914 and parameters: {'n_neighbors': 5, 'weights': 'distance', 'algorithm': 'auto', 'leaf_size': 78, 'p': 26}. Best is trial 14 with value: 0.04068446007670236.\u001b[0m\n",
      "\u001b[32m[I 2023-05-25 12:24:22,130]\u001b[0m Trial 166 finished with value: 0.04068769158794695 and parameters: {'n_neighbors': 5, 'weights': 'distance', 'algorithm': 'auto', 'leaf_size': 67, 'p': 28}. Best is trial 14 with value: 0.04068446007670236.\u001b[0m\n",
      "\u001b[32m[I 2023-05-25 12:24:22,370]\u001b[0m Trial 167 finished with value: 0.07051215369634742 and parameters: {'n_neighbors': 13, 'weights': 'uniform', 'algorithm': 'auto', 'leaf_size': 71, 'p': 30}. Best is trial 14 with value: 0.04068446007670236.\u001b[0m\n",
      "\u001b[32m[I 2023-05-25 12:24:22,595]\u001b[0m Trial 168 finished with value: 0.046250116040594744 and parameters: {'n_neighbors': 7, 'weights': 'distance', 'algorithm': 'auto', 'leaf_size': 83, 'p': 27}. Best is trial 14 with value: 0.04068446007670236.\u001b[0m\n",
      "\u001b[32m[I 2023-05-25 12:24:22,853]\u001b[0m Trial 169 finished with value: 0.040761086487344306 and parameters: {'n_neighbors': 5, 'weights': 'distance', 'algorithm': 'auto', 'leaf_size': 75, 'p': 25}. Best is trial 14 with value: 0.04068446007670236.\u001b[0m\n",
      "\u001b[32m[I 2023-05-25 12:24:23,087]\u001b[0m Trial 170 finished with value: 0.04083768350738371 and parameters: {'n_neighbors': 5, 'weights': 'distance', 'algorithm': 'kd_tree', 'leaf_size': 63, 'p': 29}. Best is trial 14 with value: 0.04068446007670236.\u001b[0m\n",
      "\u001b[32m[I 2023-05-25 12:24:23,361]\u001b[0m Trial 171 finished with value: 0.04068769158794695 and parameters: {'n_neighbors': 5, 'weights': 'distance', 'algorithm': 'auto', 'leaf_size': 72, 'p': 28}. Best is trial 14 with value: 0.04068446007670236.\u001b[0m\n",
      "\u001b[32m[I 2023-05-25 12:24:23,612]\u001b[0m Trial 172 finished with value: 0.04076659190390304 and parameters: {'n_neighbors': 5, 'weights': 'distance', 'algorithm': 'auto', 'leaf_size': 74, 'p': 27}. Best is trial 14 with value: 0.04068446007670236.\u001b[0m\n",
      "\u001b[32m[I 2023-05-25 12:24:23,860]\u001b[0m Trial 173 finished with value: 0.04068769158794695 and parameters: {'n_neighbors': 5, 'weights': 'distance', 'algorithm': 'auto', 'leaf_size': 68, 'p': 28}. Best is trial 14 with value: 0.04068446007670236.\u001b[0m\n",
      "\u001b[32m[I 2023-05-25 12:24:24,083]\u001b[0m Trial 174 finished with value: 0.04083498980591605 and parameters: {'n_neighbors': 5, 'weights': 'distance', 'algorithm': 'auto', 'leaf_size': 75, 'p': 29}. Best is trial 14 with value: 0.04068446007670236.\u001b[0m\n",
      "\u001b[32m[I 2023-05-25 12:24:24,313]\u001b[0m Trial 175 finished with value: 0.05800350368243972 and parameters: {'n_neighbors': 15, 'weights': 'distance', 'algorithm': 'auto', 'leaf_size': 69, 'p': 26}. Best is trial 14 with value: 0.04068446007670236.\u001b[0m\n",
      "\u001b[32m[I 2023-05-25 12:24:24,543]\u001b[0m Trial 176 finished with value: 0.05398804651049906 and parameters: {'n_neighbors': 11, 'weights': 'distance', 'algorithm': 'auto', 'leaf_size': 73, 'p': 31}. Best is trial 14 with value: 0.04068446007670236.\u001b[0m\n",
      "\u001b[32m[I 2023-05-25 12:24:24,756]\u001b[0m Trial 177 finished with value: 0.040844352263952714 and parameters: {'n_neighbors': 5, 'weights': 'distance', 'algorithm': 'auto', 'leaf_size': 78, 'p': 30}. Best is trial 14 with value: 0.04068446007670236.\u001b[0m\n",
      "\u001b[32m[I 2023-05-25 12:24:25,011]\u001b[0m Trial 178 finished with value: 0.050637769264346266 and parameters: {'n_neighbors': 9, 'weights': 'distance', 'algorithm': 'auto', 'leaf_size': 65, 'p': 28}. Best is trial 14 with value: 0.04068446007670236.\u001b[0m\n",
      "\u001b[32m[I 2023-05-25 12:24:25,239]\u001b[0m Trial 179 finished with value: 0.04096736541689627 and parameters: {'n_neighbors': 5, 'weights': 'distance', 'algorithm': 'auto', 'leaf_size': 59, 'p': 41}. Best is trial 14 with value: 0.04068446007670236.\u001b[0m\n",
      "\u001b[32m[I 2023-05-25 12:24:25,590]\u001b[0m Trial 180 finished with value: 0.04076659190390304 and parameters: {'n_neighbors': 5, 'weights': 'distance', 'algorithm': 'auto', 'leaf_size': 81, 'p': 27}. Best is trial 14 with value: 0.04068446007670236.\u001b[0m\n",
      "\u001b[32m[I 2023-05-25 12:24:25,856]\u001b[0m Trial 181 finished with value: 0.04068769158794695 and parameters: {'n_neighbors': 5, 'weights': 'distance', 'algorithm': 'auto', 'leaf_size': 63, 'p': 28}. Best is trial 14 with value: 0.04068446007670236.\u001b[0m\n",
      "\u001b[32m[I 2023-05-25 12:24:26,121]\u001b[0m Trial 182 finished with value: 0.04083498980591605 and parameters: {'n_neighbors': 5, 'weights': 'distance', 'algorithm': 'auto', 'leaf_size': 62, 'p': 29}. Best is trial 14 with value: 0.04068446007670236.\u001b[0m\n",
      "\u001b[32m[I 2023-05-25 12:24:26,362]\u001b[0m Trial 183 finished with value: 0.04090543194619914 and parameters: {'n_neighbors': 5, 'weights': 'distance', 'algorithm': 'auto', 'leaf_size': 70, 'p': 26}. Best is trial 14 with value: 0.04068446007670236.\u001b[0m\n",
      "\u001b[32m[I 2023-05-25 12:24:26,601]\u001b[0m Trial 184 finished with value: 0.04076659190390304 and parameters: {'n_neighbors': 5, 'weights': 'distance', 'algorithm': 'auto', 'leaf_size': 66, 'p': 27}. Best is trial 14 with value: 0.04068446007670236.\u001b[0m\n",
      "\u001b[32m[I 2023-05-25 12:24:26,811]\u001b[0m Trial 185 finished with value: 0.040785839787813354 and parameters: {'n_neighbors': 5, 'weights': 'distance', 'algorithm': 'ball_tree', 'leaf_size': 73, 'p': 28}. Best is trial 14 with value: 0.04068446007670236.\u001b[0m\n",
      "\u001b[32m[I 2023-05-25 12:24:26,891]\u001b[0m Trial 186 finished with value: 0.040837195911967855 and parameters: {'n_neighbors': 5, 'weights': 'distance', 'algorithm': 'kd_tree', 'leaf_size': 60, 'p': 30}. Best is trial 14 with value: 0.04068446007670236.\u001b[0m\n",
      "\u001b[32m[I 2023-05-25 12:24:27,111]\u001b[0m Trial 187 finished with value: 0.040761086487344306 and parameters: {'n_neighbors': 5, 'weights': 'distance', 'algorithm': 'auto', 'leaf_size': 67, 'p': 25}. Best is trial 14 with value: 0.04068446007670236.\u001b[0m\n",
      "\u001b[32m[I 2023-05-25 12:24:27,335]\u001b[0m Trial 188 finished with value: 0.04068769158794695 and parameters: {'n_neighbors': 5, 'weights': 'distance', 'algorithm': 'auto', 'leaf_size': 71, 'p': 28}. Best is trial 14 with value: 0.04068446007670236.\u001b[0m\n",
      "\u001b[32m[I 2023-05-25 12:24:27,548]\u001b[0m Trial 189 finished with value: 0.04090543194619914 and parameters: {'n_neighbors': 5, 'weights': 'distance', 'algorithm': 'auto', 'leaf_size': 135, 'p': 26}. Best is trial 14 with value: 0.04068446007670236.\u001b[0m\n",
      "\u001b[32m[I 2023-05-25 12:24:27,797]\u001b[0m Trial 190 finished with value: 0.04083498980591605 and parameters: {'n_neighbors': 5, 'weights': 'distance', 'algorithm': 'auto', 'leaf_size': 77, 'p': 29}. Best is trial 14 with value: 0.04068446007670236.\u001b[0m\n",
      "\u001b[32m[I 2023-05-25 12:24:28,093]\u001b[0m Trial 191 finished with value: 0.04076659190390304 and parameters: {'n_neighbors': 5, 'weights': 'distance', 'algorithm': 'auto', 'leaf_size': 61, 'p': 27}. Best is trial 14 with value: 0.04068446007670236.\u001b[0m\n",
      "\u001b[32m[I 2023-05-25 12:24:28,362]\u001b[0m Trial 192 finished with value: 0.04068769158794695 and parameters: {'n_neighbors': 5, 'weights': 'distance', 'algorithm': 'auto', 'leaf_size': 64, 'p': 28}. Best is trial 14 with value: 0.04068446007670236.\u001b[0m\n",
      "\u001b[32m[I 2023-05-25 12:24:28,646]\u001b[0m Trial 193 finished with value: 0.04083498980591605 and parameters: {'n_neighbors': 5, 'weights': 'distance', 'algorithm': 'auto', 'leaf_size': 61, 'p': 29}. Best is trial 14 with value: 0.04068446007670236.\u001b[0m\n",
      "\u001b[32m[I 2023-05-25 12:24:28,915]\u001b[0m Trial 194 finished with value: 0.04083405026794849 and parameters: {'n_neighbors': 5, 'weights': 'distance', 'algorithm': 'auto', 'leaf_size': 69, 'p': 31}. Best is trial 14 with value: 0.04068446007670236.\u001b[0m\n",
      "\u001b[32m[I 2023-05-25 12:24:29,328]\u001b[0m Trial 195 finished with value: 0.04076659190390304 and parameters: {'n_neighbors': 5, 'weights': 'distance', 'algorithm': 'auto', 'leaf_size': 75, 'p': 27}. Best is trial 14 with value: 0.04068446007670236.\u001b[0m\n",
      "\u001b[32m[I 2023-05-25 12:24:29,671]\u001b[0m Trial 196 finished with value: 0.05136497347343963 and parameters: {'n_neighbors': 1, 'weights': 'uniform', 'algorithm': 'auto', 'leaf_size': 58, 'p': 28}. Best is trial 14 with value: 0.04068446007670236.\u001b[0m\n",
      "\u001b[32m[I 2023-05-25 12:24:29,949]\u001b[0m Trial 197 finished with value: 0.04394189865394503 and parameters: {'n_neighbors': 3, 'weights': 'distance', 'algorithm': 'auto', 'leaf_size': 67, 'p': 30}. Best is trial 14 with value: 0.04068446007670236.\u001b[0m\n"
     ]
    },
    {
     "name": "stderr",
     "output_type": "stream",
     "text": [
      "\u001b[32m[I 2023-05-25 12:24:30,215]\u001b[0m Trial 198 finished with value: 0.041102917704504534 and parameters: {'n_neighbors': 5, 'weights': 'distance', 'algorithm': 'auto', 'leaf_size': 64, 'p': 32}. Best is trial 14 with value: 0.04068446007670236.\u001b[0m\n",
      "\u001b[32m[I 2023-05-25 12:24:30,331]\u001b[0m Trial 199 finished with value: 0.04070805797253155 and parameters: {'n_neighbors': 5, 'weights': 'distance', 'algorithm': 'kd_tree', 'leaf_size': 72, 'p': 26}. Best is trial 14 with value: 0.04068446007670236.\u001b[0m\n"
     ]
    }
   ],
   "source": [
    "study = optuna.create_study(direction=\"minimize\")\n",
    "#start serach \n",
    "study.optimize(knnregressors_optuna, n_trials=200)"
   ]
  },
  {
   "cell_type": "code",
   "execution_count": 147,
   "id": "22d115a9",
   "metadata": {},
   "outputs": [
    {
     "name": "stdout",
     "output_type": "stream",
     "text": [
      "Number of finished trials:  200\n",
      "Best trial:\n",
      "  Value: 0.04068446007670236\n",
      "  Params: \n",
      "    n_neighbors: 5\n",
      "    weights: distance\n",
      "    algorithm: kd_tree\n",
      "    leaf_size: 64\n",
      "    p: 26\n"
     ]
    }
   ],
   "source": [
    "print(\"Number of finished trials: \", len(study.trials))\n",
    "print(\"Best trial:\")\n",
    "trial = study.best_trial\n",
    "\n",
    "print(\"  Value: {}\".format(trial.value))\n",
    "print(\"  Params: \")\n",
    "\n",
    "params = []\n",
    "\n",
    "for key, value in trial.params.items():\n",
    "    params.append(value)\n",
    "    print(\"    {}: {}\".format(key, value))"
   ]
  },
  {
   "cell_type": "code",
   "execution_count": 148,
   "id": "81cc2462",
   "metadata": {},
   "outputs": [
    {
     "name": "stdout",
     "output_type": "stream",
     "text": [
      "R2 using Knn Regressors: 99.52 %\n"
     ]
    }
   ],
   "source": [
    "knn_best = KNeighborsRegressor(n_neighbors=5,algorithm='brute', p=2, weights='distance',leaf_size=93)\n",
    "knn_best.fit(x_train,y_train)\n",
    "y_pred = knn_best.predict(x_test)\n",
    "print(\"R2 using Knn Regressors: {:.2f} %\".format(np.round(r2_score(y_test, y_pred),4)*100))"
   ]
  },
  {
   "cell_type": "code",
   "execution_count": 149,
   "id": "6e686bf0",
   "metadata": {},
   "outputs": [
    {
     "data": {
      "text/plain": [
       "<matplotlib.collections.PathCollection at 0x2a9ffbc5df0>"
      ]
     },
     "execution_count": 149,
     "metadata": {},
     "output_type": "execute_result"
    },
    {
     "data": {
      "image/png": "[encoded data removed]",
      "text/plain": [
       "<Figure size 1080x720 with 2 Axes>"
      ]
     },
     "metadata": {
      "needs_background": "light"
     },
     "output_type": "display_data"
    }
   ],
   "source": [
    "plt.figure(figsize = (15,10))\n",
    "plt.subplot(2,2,1)\n",
    "plt.title(' Regression For  Train  Data')\n",
    "plt.scatter(knn_best.predict(x_train), y_train, color='blue')\n",
    "plt.subplot(2,2,2)\n",
    "plt.title(' Regression For  Test Data')\n",
    "plt.scatter(y_pred, y_test, color='red')"
   ]
  },
  {
   "cell_type": "code",
   "execution_count": 150,
   "id": "1496df7b",
   "metadata": {},
   "outputs": [
    {
     "data": {
      "text/html": [
       "<div>\n",
       "<style scoped>\n",
       "    .dataframe tbody tr th:only-of-type {\n",
       "        vertical-align: middle;\n",
       "    }\n",
       "\n",
       "    .dataframe tbody tr th {\n",
       "        vertical-align: top;\n",
       "    }\n",
       "\n",
       "    .dataframe thead th {\n",
       "        text-align: right;\n",
       "    }\n",
       "</style>\n",
       "<table border=\"1\" class=\"dataframe\">\n",
       "  <thead>\n",
       "    <tr style=\"text-align: right;\">\n",
       "      <th></th>\n",
       "      <th>predicted_price</th>\n",
       "      <th>actual_price</th>\n",
       "    </tr>\n",
       "  </thead>\n",
       "  <tbody>\n",
       "    <tr>\n",
       "      <th>0</th>\n",
       "      <td>6.515291</td>\n",
       "      <td>6.514713</td>\n",
       "    </tr>\n",
       "    <tr>\n",
       "      <th>1</th>\n",
       "      <td>5.608298</td>\n",
       "      <td>5.411646</td>\n",
       "    </tr>\n",
       "    <tr>\n",
       "      <th>2</th>\n",
       "      <td>6.004940</td>\n",
       "      <td>5.988961</td>\n",
       "    </tr>\n",
       "    <tr>\n",
       "      <th>3</th>\n",
       "      <td>6.127029</td>\n",
       "      <td>6.136322</td>\n",
       "    </tr>\n",
       "    <tr>\n",
       "      <th>4</th>\n",
       "      <td>7.485270</td>\n",
       "      <td>7.494986</td>\n",
       "    </tr>\n",
       "  </tbody>\n",
       "</table>\n",
       "</div>"
      ],
      "text/plain": [
       "   predicted_price  actual_price\n",
       "0         6.515291      6.514713\n",
       "1         5.608298      5.411646\n",
       "2         6.004940      5.988961\n",
       "3         6.127029      6.136322\n",
       "4         7.485270      7.494986"
      ]
     },
     "execution_count": 150,
     "metadata": {},
     "output_type": "execute_result"
    }
   ],
   "source": [
    "knn_df = pd.DataFrame({\"predicted_price\":y_pred,\"actual_price\":y_test})\n",
    "knn_df.head(5)"
   ]
  },
  {
   "cell_type": "markdown",
   "id": "c335a1f4",
   "metadata": {},
   "source": [
    "## Random Forest"
   ]
  },
  {
   "cell_type": "code",
   "execution_count": 151,
   "id": "cbd973ec",
   "metadata": {},
   "outputs": [],
   "source": [
    "def randomforest_optuna (trial,x_train=x_train,x_test=x_test,y_train=y_train,y_test=y_test):\n",
    "    params = {\n",
    "\n",
    "    'criterion'        : trial.suggest_categorical('criterion', ['squared_error', 'absolute_error', 'poisson']),\n",
    "    'bootstrap'        : trial.suggest_categorical('bootstrap',['True','False']),\n",
    "    'max_depth'        : trial.suggest_int('max_depth', 1, 10000),\n",
    "    'max_features'     : trial.suggest_categorical('max_features', ['auto', 'sqrt','log2']),\n",
    "    'max_leaf_nodes'   : trial.suggest_int('max_leaf_nodes', 1, 10000),\n",
    "    'n_estimators'     : trial.suggest_int('n_estimators', 30, 1000),\n",
    "\n",
    "\n",
    "    }\n",
    "    #creat model anf pass parameters \n",
    "    model = RandomForestRegressor(**params) \n",
    "    model.fit(x_train, y_train) \n",
    "    predection = model.predict(x_test)\n",
    "    rmse = mean_squared_error(y_test, predection, squared=False)\n",
    "    return rmse"
   ]
  },
  {
   "cell_type": "code",
   "execution_count": 154,
   "id": "e058aa1d",
   "metadata": {
    "scrolled": true
   },
   "outputs": [
    {
     "name": "stderr",
     "output_type": "stream",
     "text": [
      "\u001b[32m[I 2023-05-25 12:27:26,422]\u001b[0m A new study created in memory with name: no-name-bcfb49b6-a055-4958-855e-1dde8c963474\u001b[0m\n",
      "\u001b[32m[I 2023-05-25 12:27:51,765]\u001b[0m Trial 0 finished with value: 0.04872473023828678 and parameters: {'criterion': 'poisson', 'bootstrap': 'False', 'max_depth': 2403, 'max_features': 'auto', 'max_leaf_nodes': 9484, 'n_estimators': 231}. Best is trial 0 with value: 0.04872473023828678.\u001b[0m\n",
      "\u001b[32m[I 2023-05-25 12:27:53,198]\u001b[0m Trial 1 finished with value: 0.072887438082088 and parameters: {'criterion': 'squared_error', 'bootstrap': 'False', 'max_depth': 6986, 'max_features': 'sqrt', 'max_leaf_nodes': 5052, 'n_estimators': 595}. Best is trial 0 with value: 0.04872473023828678.\u001b[0m\n",
      "\u001b[32m[I 2023-05-25 12:27:53,906]\u001b[0m Trial 2 finished with value: 0.005080784227284455 and parameters: {'criterion': 'squared_error', 'bootstrap': 'False', 'max_depth': 3054, 'max_features': 'auto', 'max_leaf_nodes': 5404, 'n_estimators': 156}. Best is trial 2 with value: 0.005080784227284455.\u001b[0m\n",
      "\u001b[32m[I 2023-05-25 12:27:56,038]\u001b[0m Trial 3 finished with value: 0.19416961943260147 and parameters: {'criterion': 'poisson', 'bootstrap': 'False', 'max_depth': 8258, 'max_features': 'sqrt', 'max_leaf_nodes': 5857, 'n_estimators': 349}. Best is trial 2 with value: 0.005080784227284455.\u001b[0m\n",
      "\u001b[32m[I 2023-05-25 12:27:57,891]\u001b[0m Trial 4 finished with value: 0.07088880848451248 and parameters: {'criterion': 'squared_error', 'bootstrap': 'False', 'max_depth': 3267, 'max_features': 'log2', 'max_leaf_nodes': 5351, 'n_estimators': 510}. Best is trial 2 with value: 0.005080784227284455.\u001b[0m\n",
      "\u001b[32m[I 2023-05-25 12:28:00,921]\u001b[0m Trial 5 finished with value: 0.07327913381368137 and parameters: {'criterion': 'squared_error', 'bootstrap': 'True', 'max_depth': 6611, 'max_features': 'sqrt', 'max_leaf_nodes': 4742, 'n_estimators': 915}. Best is trial 2 with value: 0.005080784227284455.\u001b[0m\n",
      "\u001b[32m[I 2023-05-25 12:28:04,966]\u001b[0m Trial 6 finished with value: 0.20738313593516491 and parameters: {'criterion': 'poisson', 'bootstrap': 'False', 'max_depth': 7709, 'max_features': 'sqrt', 'max_leaf_nodes': 383, 'n_estimators': 948}. Best is trial 2 with value: 0.005080784227284455.\u001b[0m\n",
      "\u001b[32m[I 2023-05-25 12:28:05,591]\u001b[0m Trial 7 finished with value: 0.1986457556276462 and parameters: {'criterion': 'poisson', 'bootstrap': 'False', 'max_depth': 3479, 'max_features': 'sqrt', 'max_leaf_nodes': 8850, 'n_estimators': 131}. Best is trial 2 with value: 0.005080784227284455.\u001b[0m\n",
      "\u001b[32m[I 2023-05-25 12:28:06,194]\u001b[0m Trial 8 finished with value: 0.1926053748797685 and parameters: {'criterion': 'poisson', 'bootstrap': 'False', 'max_depth': 2214, 'max_features': 'sqrt', 'max_leaf_nodes': 3998, 'n_estimators': 128}. Best is trial 2 with value: 0.005080784227284455.\u001b[0m\n",
      "\u001b[32m[I 2023-05-25 12:28:08,053]\u001b[0m Trial 9 finished with value: 0.07479391387581107 and parameters: {'criterion': 'absolute_error', 'bootstrap': 'True', 'max_depth': 4350, 'max_features': 'log2', 'max_leaf_nodes': 2490, 'n_estimators': 159}. Best is trial 2 with value: 0.005080784227284455.\u001b[0m\n",
      "\u001b[32m[I 2023-05-25 12:28:25,932]\u001b[0m Trial 10 finished with value: 0.005281348560948342 and parameters: {'criterion': 'absolute_error', 'bootstrap': 'True', 'max_depth': 483, 'max_features': 'auto', 'max_leaf_nodes': 7439, 'n_estimators': 435}. Best is trial 2 with value: 0.005080784227284455.\u001b[0m\n",
      "\u001b[32m[I 2023-05-25 12:28:44,752]\u001b[0m Trial 11 finished with value: 0.005098328574113763 and parameters: {'criterion': 'absolute_error', 'bootstrap': 'True', 'max_depth': 44, 'max_features': 'auto', 'max_leaf_nodes': 7527, 'n_estimators': 433}. Best is trial 2 with value: 0.005080784227284455.\u001b[0m\n",
      "\u001b[32m[I 2023-05-25 12:29:14,578]\u001b[0m Trial 12 finished with value: 0.005300122706225351 and parameters: {'criterion': 'absolute_error', 'bootstrap': 'True', 'max_depth': 363, 'max_features': 'auto', 'max_leaf_nodes': 7280, 'n_estimators': 742}. Best is trial 2 with value: 0.005080784227284455.\u001b[0m\n",
      "\u001b[32m[I 2023-05-25 12:29:16,774]\u001b[0m Trial 13 finished with value: 0.005844156951128887 and parameters: {'criterion': 'squared_error', 'bootstrap': 'True', 'max_depth': 9726, 'max_features': 'auto', 'max_leaf_nodes': 7223, 'n_estimators': 329}. Best is trial 2 with value: 0.005080784227284455.\u001b[0m\n",
      "\u001b[32m[I 2023-05-25 12:29:19,259]\u001b[0m Trial 14 finished with value: 0.0067157254356644625 and parameters: {'criterion': 'absolute_error', 'bootstrap': 'True', 'max_depth': 5554, 'max_features': 'auto', 'max_leaf_nodes': 3125, 'n_estimators': 53}. Best is trial 2 with value: 0.005080784227284455.\u001b[0m\n",
      "\u001b[32m[I 2023-05-25 12:29:23,415]\u001b[0m Trial 15 finished with value: 0.006152381993554413 and parameters: {'criterion': 'squared_error', 'bootstrap': 'True', 'max_depth': 1233, 'max_features': 'auto', 'max_leaf_nodes': 6546, 'n_estimators': 672}. Best is trial 2 with value: 0.005080784227284455.\u001b[0m\n",
      "\u001b[32m[I 2023-05-25 12:29:36,008]\u001b[0m Trial 16 finished with value: 0.005147139690630546 and parameters: {'criterion': 'absolute_error', 'bootstrap': 'False', 'max_depth': 1636, 'max_features': 'auto', 'max_leaf_nodes': 8225, 'n_estimators': 294}. Best is trial 2 with value: 0.005080784227284455.\u001b[0m\n",
      "\u001b[32m[I 2023-05-25 12:29:37,665]\u001b[0m Trial 17 finished with value: 0.07495974919906492 and parameters: {'criterion': 'squared_error', 'bootstrap': 'True', 'max_depth': 4756, 'max_features': 'log2', 'max_leaf_nodes': 2071, 'n_estimators': 440}. Best is trial 2 with value: 0.005080784227284455.\u001b[0m\n",
      "\u001b[32m[I 2023-05-25 12:30:08,675]\u001b[0m Trial 18 finished with value: 0.005434678124222542 and parameters: {'criterion': 'absolute_error', 'bootstrap': 'True', 'max_depth': 8, 'max_features': 'auto', 'max_leaf_nodes': 6007, 'n_estimators': 778}. Best is trial 2 with value: 0.005080784227284455.\u001b[0m\n",
      "\u001b[32m[I 2023-05-25 12:30:10,044]\u001b[0m Trial 19 finished with value: 0.005301975529637482 and parameters: {'criterion': 'absolute_error', 'bootstrap': 'False', 'max_depth': 3475, 'max_features': 'auto', 'max_leaf_nodes': 9975, 'n_estimators': 39}. Best is trial 2 with value: 0.005080784227284455.\u001b[0m\n",
      "\u001b[32m[I 2023-05-25 12:30:11,114]\u001b[0m Trial 20 finished with value: 0.005829714357045347 and parameters: {'criterion': 'squared_error', 'bootstrap': 'False', 'max_depth': 5515, 'max_features': 'auto', 'max_leaf_nodes': 4031, 'n_estimators': 228}. Best is trial 2 with value: 0.005080784227284455.\u001b[0m\n",
      "\u001b[32m[I 2023-05-25 12:30:22,274]\u001b[0m Trial 21 finished with value: 0.005035279026458725 and parameters: {'criterion': 'absolute_error', 'bootstrap': 'False', 'max_depth': 1645, 'max_features': 'auto', 'max_leaf_nodes': 8270, 'n_estimators': 304}. Best is trial 21 with value: 0.005035279026458725.\u001b[0m\n",
      "\u001b[32m[I 2023-05-25 12:30:37,286]\u001b[0m Trial 22 finished with value: 0.004922519994472521 and parameters: {'criterion': 'absolute_error', 'bootstrap': 'False', 'max_depth': 1514, 'max_features': 'auto', 'max_leaf_nodes': 8305, 'n_estimators': 425}. Best is trial 22 with value: 0.004922519994472521.\u001b[0m\n",
      "\u001b[32m[I 2023-05-25 12:30:45,911]\u001b[0m Trial 23 finished with value: 0.005249658478712213 and parameters: {'criterion': 'absolute_error', 'bootstrap': 'False', 'max_depth': 2587, 'max_features': 'auto', 'max_leaf_nodes': 8932, 'n_estimators': 233}. Best is trial 22 with value: 0.004922519994472521.\u001b[0m\n",
      "\u001b[32m[I 2023-05-25 12:31:03,488]\u001b[0m Trial 24 finished with value: 0.005881607493582409 and parameters: {'criterion': 'absolute_error', 'bootstrap': 'False', 'max_depth': 1304, 'max_features': 'auto', 'max_leaf_nodes': 8229, 'n_estimators': 365}. Best is trial 22 with value: 0.004922519994472521.\u001b[0m\n",
      "\u001b[32m[I 2023-05-25 12:31:10,416]\u001b[0m Trial 25 finished with value: 0.07513331130401471 and parameters: {'criterion': 'absolute_error', 'bootstrap': 'False', 'max_depth': 1713, 'max_features': 'log2', 'max_leaf_nodes': 6348, 'n_estimators': 510}. Best is trial 22 with value: 0.004922519994472521.\u001b[0m\n",
      "\u001b[32m[I 2023-05-25 12:31:11,875]\u001b[0m Trial 26 finished with value: 0.005989515584583012 and parameters: {'criterion': 'squared_error', 'bootstrap': 'False', 'max_depth': 4094, 'max_features': 'auto', 'max_leaf_nodes': 8393, 'n_estimators': 284}. Best is trial 22 with value: 0.004922519994472521.\u001b[0m\n",
      "\u001b[32m[I 2023-05-25 12:31:33,295]\u001b[0m Trial 27 finished with value: 0.005434499534295016 and parameters: {'criterion': 'absolute_error', 'bootstrap': 'False', 'max_depth': 2688, 'max_features': 'auto', 'max_leaf_nodes': 179, 'n_estimators': 609}. Best is trial 22 with value: 0.004922519994472521.\u001b[0m\n"
     ]
    },
    {
     "name": "stderr",
     "output_type": "stream",
     "text": [
      "\u001b[32m[I 2023-05-25 12:31:39,838]\u001b[0m Trial 28 finished with value: 0.00556040690209081 and parameters: {'criterion': 'absolute_error', 'bootstrap': 'False', 'max_depth': 804, 'max_features': 'auto', 'max_leaf_nodes': 6728, 'n_estimators': 168}. Best is trial 22 with value: 0.004922519994472521.\u001b[0m\n",
      "\u001b[32m[I 2023-05-25 12:31:40,995]\u001b[0m Trial 29 finished with value: 0.006126084884212084 and parameters: {'criterion': 'squared_error', 'bootstrap': 'False', 'max_depth': 2125, 'max_features': 'auto', 'max_leaf_nodes': 9946, 'n_estimators': 226}. Best is trial 22 with value: 0.004922519994472521.\u001b[0m\n",
      "\u001b[32m[I 2023-05-25 12:31:43,228]\u001b[0m Trial 30 finished with value: 0.19357833560220103 and parameters: {'criterion': 'poisson', 'bootstrap': 'False', 'max_depth': 2936, 'max_features': 'log2', 'max_leaf_nodes': 8945, 'n_estimators': 405}. Best is trial 22 with value: 0.004922519994472521.\u001b[0m\n",
      "\u001b[32m[I 2023-05-25 12:32:05,395]\u001b[0m Trial 31 finished with value: 0.004705968671701279 and parameters: {'criterion': 'absolute_error', 'bootstrap': 'False', 'max_depth': 949, 'max_features': 'auto', 'max_leaf_nodes': 7783, 'n_estimators': 492}. Best is trial 31 with value: 0.004705968671701279.\u001b[0m\n",
      "\u001b[32m[I 2023-05-25 12:32:25,795]\u001b[0m Trial 32 finished with value: 0.005259599486027303 and parameters: {'criterion': 'absolute_error', 'bootstrap': 'False', 'max_depth': 988, 'max_features': 'auto', 'max_leaf_nodes': 9260, 'n_estimators': 574}. Best is trial 31 with value: 0.004705968671701279.\u001b[0m\n",
      "\u001b[32m[I 2023-05-25 12:32:50,849]\u001b[0m Trial 33 finished with value: 0.005400899295510987 and parameters: {'criterion': 'absolute_error', 'bootstrap': 'False', 'max_depth': 1793, 'max_features': 'auto', 'max_leaf_nodes': 7893, 'n_estimators': 472}. Best is trial 31 with value: 0.004705968671701279.\u001b[0m\n",
      "\u001b[32m[I 2023-05-25 12:33:16,145]\u001b[0m Trial 34 finished with value: 0.005298586337710344 and parameters: {'criterion': 'absolute_error', 'bootstrap': 'False', 'max_depth': 2271, 'max_features': 'auto', 'max_leaf_nodes': 5557, 'n_estimators': 572}. Best is trial 31 with value: 0.004705968671701279.\u001b[0m\n",
      "\u001b[32m[I 2023-05-25 12:33:18,206]\u001b[0m Trial 35 finished with value: 0.005799772090587035 and parameters: {'criterion': 'squared_error', 'bootstrap': 'False', 'max_depth': 847, 'max_features': 'auto', 'max_leaf_nodes': 4730, 'n_estimators': 371}. Best is trial 31 with value: 0.004705968671701279.\u001b[0m\n",
      "\u001b[32m[I 2023-05-25 12:33:22,128]\u001b[0m Trial 36 finished with value: 0.07508713343214503 and parameters: {'criterion': 'absolute_error', 'bootstrap': 'False', 'max_depth': 3001, 'max_features': 'sqrt', 'max_leaf_nodes': 6638, 'n_estimators': 289}. Best is trial 31 with value: 0.004705968671701279.\u001b[0m\n",
      "\u001b[32m[I 2023-05-25 12:33:30,389]\u001b[0m Trial 37 finished with value: 0.04775486959632886 and parameters: {'criterion': 'poisson', 'bootstrap': 'False', 'max_depth': 3920, 'max_features': 'auto', 'max_leaf_nodes': 8547, 'n_estimators': 90}. Best is trial 31 with value: 0.004705968671701279.\u001b[0m\n",
      "\u001b[32m[I 2023-05-25 12:33:31,649]\u001b[0m Trial 38 finished with value: 0.07195703470762316 and parameters: {'criterion': 'squared_error', 'bootstrap': 'False', 'max_depth': 1418, 'max_features': 'sqrt', 'max_leaf_nodes': 9400, 'n_estimators': 500}. Best is trial 31 with value: 0.004705968671701279.\u001b[0m\n",
      "\u001b[32m[I 2023-05-25 12:33:34,626]\u001b[0m Trial 39 finished with value: 0.19258905442751306 and parameters: {'criterion': 'poisson', 'bootstrap': 'False', 'max_depth': 2028, 'max_features': 'log2', 'max_leaf_nodes': 7910, 'n_estimators': 651}. Best is trial 31 with value: 0.004705968671701279.\u001b[0m\n",
      "\u001b[32m[I 2023-05-25 12:33:41,227]\u001b[0m Trial 40 finished with value: 0.004963925677609307 and parameters: {'criterion': 'absolute_error', 'bootstrap': 'False', 'max_depth': 3406, 'max_features': 'auto', 'max_leaf_nodes': 5010, 'n_estimators': 194}. Best is trial 31 with value: 0.004705968671701279.\u001b[0m\n",
      "\u001b[32m[I 2023-05-25 12:33:48,912]\u001b[0m Trial 41 finished with value: 0.005111598161444099 and parameters: {'criterion': 'absolute_error', 'bootstrap': 'False', 'max_depth': 3612, 'max_features': 'auto', 'max_leaf_nodes': 5111, 'n_estimators': 217}. Best is trial 31 with value: 0.004705968671701279.\u001b[0m\n",
      "\u001b[32m[I 2023-05-25 12:33:55,831]\u001b[0m Trial 42 finished with value: 0.005520205850328407 and parameters: {'criterion': 'absolute_error', 'bootstrap': 'False', 'max_depth': 2479, 'max_features': 'auto', 'max_leaf_nodes': 3837, 'n_estimators': 193}. Best is trial 31 with value: 0.004705968671701279.\u001b[0m\n",
      "\u001b[32m[I 2023-05-25 12:33:59,399]\u001b[0m Trial 43 finished with value: 0.0058880217825391 and parameters: {'criterion': 'absolute_error', 'bootstrap': 'False', 'max_depth': 3125, 'max_features': 'auto', 'max_leaf_nodes': 5880, 'n_estimators': 100}. Best is trial 31 with value: 0.004705968671701279.\u001b[0m\n",
      "\u001b[32m[I 2023-05-25 12:34:10,619]\u001b[0m Trial 44 finished with value: 0.004892468322137442 and parameters: {'criterion': 'absolute_error', 'bootstrap': 'False', 'max_depth': 4527, 'max_features': 'auto', 'max_leaf_nodes': 4485, 'n_estimators': 268}. Best is trial 31 with value: 0.004705968671701279.\u001b[0m\n",
      "\u001b[32m[I 2023-05-25 12:34:21,337]\u001b[0m Trial 45 finished with value: 0.005122915064967546 and parameters: {'criterion': 'absolute_error', 'bootstrap': 'False', 'max_depth': 6598, 'max_features': 'auto', 'max_leaf_nodes': 2313, 'n_estimators': 313}. Best is trial 31 with value: 0.004705968671701279.\u001b[0m\n",
      "\u001b[32m[I 2023-05-25 12:34:26,094]\u001b[0m Trial 46 finished with value: 0.07401110665173309 and parameters: {'criterion': 'absolute_error', 'bootstrap': 'False', 'max_depth': 4707, 'max_features': 'sqrt', 'max_leaf_nodes': 4390, 'n_estimators': 409}. Best is trial 31 with value: 0.004705968671701279.\u001b[0m\n",
      "\u001b[32m[I 2023-05-25 12:34:35,240]\u001b[0m Trial 47 finished with value: 0.0045350277529756415 and parameters: {'criterion': 'absolute_error', 'bootstrap': 'False', 'max_depth': 5669, 'max_features': 'auto', 'max_leaf_nodes': 3274, 'n_estimators': 257}. Best is trial 47 with value: 0.0045350277529756415.\u001b[0m\n",
      "\u001b[32m[I 2023-05-25 12:34:44,242]\u001b[0m Trial 48 finished with value: 0.00516374638384 and parameters: {'criterion': 'absolute_error', 'bootstrap': 'False', 'max_depth': 5798, 'max_features': 'auto', 'max_leaf_nodes': 3289, 'n_estimators': 262}. Best is trial 47 with value: 0.0045350277529756415.\u001b[0m\n",
      "\u001b[32m[I 2023-05-25 12:34:56,092]\u001b[0m Trial 49 finished with value: 0.005018444215159526 and parameters: {'criterion': 'absolute_error', 'bootstrap': 'False', 'max_depth': 6341, 'max_features': 'auto', 'max_leaf_nodes': 1437, 'n_estimators': 343}. Best is trial 47 with value: 0.0045350277529756415.\u001b[0m\n",
      "\u001b[32m[I 2023-05-25 12:35:12,023]\u001b[0m Trial 50 finished with value: 0.004806442449924361 and parameters: {'criterion': 'absolute_error', 'bootstrap': 'False', 'max_depth': 8108, 'max_features': 'auto', 'max_leaf_nodes': 988, 'n_estimators': 471}. Best is trial 47 with value: 0.0045350277529756415.\u001b[0m\n",
      "\u001b[32m[I 2023-05-25 12:35:30,390]\u001b[0m Trial 51 finished with value: 0.0048211504061292315 and parameters: {'criterion': 'absolute_error', 'bootstrap': 'False', 'max_depth': 8868, 'max_features': 'auto', 'max_leaf_nodes': 1158, 'n_estimators': 542}. Best is trial 47 with value: 0.0045350277529756415.\u001b[0m\n",
      "\u001b[32m[I 2023-05-25 12:35:46,414]\u001b[0m Trial 52 finished with value: 0.005306899946919119 and parameters: {'criterion': 'absolute_error', 'bootstrap': 'False', 'max_depth': 8702, 'max_features': 'auto', 'max_leaf_nodes': 947, 'n_estimators': 475}. Best is trial 47 with value: 0.0045350277529756415.\u001b[0m\n",
      "\u001b[32m[I 2023-05-25 12:36:04,764]\u001b[0m Trial 53 finished with value: 0.005425666610476523 and parameters: {'criterion': 'absolute_error', 'bootstrap': 'False', 'max_depth': 7485, 'max_features': 'auto', 'max_leaf_nodes': 745, 'n_estimators': 544}. Best is trial 47 with value: 0.0045350277529756415.\u001b[0m\n",
      "\u001b[32m[I 2023-05-25 12:36:25,539]\u001b[0m Trial 54 finished with value: 0.005110551911391978 and parameters: {'criterion': 'absolute_error', 'bootstrap': 'False', 'max_depth': 8858, 'max_features': 'auto', 'max_leaf_nodes': 2713, 'n_estimators': 613}. Best is trial 47 with value: 0.0045350277529756415.\u001b[0m\n",
      "\u001b[32m[I 2023-05-25 12:36:50,271]\u001b[0m Trial 55 finished with value: 0.005265721258640437 and parameters: {'criterion': 'absolute_error', 'bootstrap': 'False', 'max_depth': 8067, 'max_features': 'auto', 'max_leaf_nodes': 1634, 'n_estimators': 712}. Best is trial 47 with value: 0.0045350277529756415.\u001b[0m\n"
     ]
    },
    {
     "name": "stderr",
     "output_type": "stream",
     "text": [
      "\u001b[32m[I 2023-05-25 12:36:55,230]\u001b[0m Trial 56 finished with value: 0.07442051590328205 and parameters: {'criterion': 'absolute_error', 'bootstrap': 'True', 'max_depth': 9666, 'max_features': 'log2', 'max_leaf_nodes': 1425, 'n_estimators': 390}. Best is trial 47 with value: 0.0045350277529756415.\u001b[0m\n",
      "\u001b[32m[I 2023-05-25 12:37:05,364]\u001b[0m Trial 57 finished with value: 0.07380658403096065 and parameters: {'criterion': 'absolute_error', 'bootstrap': 'False', 'max_depth': 7300, 'max_features': 'sqrt', 'max_leaf_nodes': 3091, 'n_estimators': 869}. Best is trial 47 with value: 0.0045350277529756415.\u001b[0m\n",
      "\u001b[32m[I 2023-05-25 12:37:49,503]\u001b[0m Trial 58 finished with value: 0.048612927784433414 and parameters: {'criterion': 'poisson', 'bootstrap': 'False', 'max_depth': 9307, 'max_features': 'auto', 'max_leaf_nodes': 625, 'n_estimators': 530}. Best is trial 47 with value: 0.0045350277529756415.\u001b[0m\n",
      "\u001b[32m[I 2023-05-25 12:38:04,974]\u001b[0m Trial 59 finished with value: 0.0054281729973970645 and parameters: {'criterion': 'absolute_error', 'bootstrap': 'True', 'max_depth': 7931, 'max_features': 'auto', 'max_leaf_nodes': 3560, 'n_estimators': 453}. Best is trial 47 with value: 0.0045350277529756415.\u001b[0m\n",
      "\u001b[32m[I 2023-05-25 12:38:23,814]\u001b[0m Trial 60 finished with value: 0.004891983560435971 and parameters: {'criterion': 'absolute_error', 'bootstrap': 'False', 'max_depth': 8849, 'max_features': 'auto', 'max_leaf_nodes': 1858, 'n_estimators': 558}. Best is trial 47 with value: 0.0045350277529756415.\u001b[0m\n",
      "\u001b[32m[I 2023-05-25 12:38:46,762]\u001b[0m Trial 61 finished with value: 0.0050422732438974325 and parameters: {'criterion': 'absolute_error', 'bootstrap': 'False', 'max_depth': 8922, 'max_features': 'auto', 'max_leaf_nodes': 1094, 'n_estimators': 648}. Best is trial 47 with value: 0.0045350277529756415.\u001b[0m\n",
      "\u001b[32m[I 2023-05-25 12:39:05,586]\u001b[0m Trial 62 finished with value: 0.005148449346852016 and parameters: {'criterion': 'absolute_error', 'bootstrap': 'False', 'max_depth': 8396, 'max_features': 'auto', 'max_leaf_nodes': 1853, 'n_estimators': 548}. Best is trial 47 with value: 0.0045350277529756415.\u001b[0m\n",
      "\u001b[32m[I 2023-05-25 12:39:20,643]\u001b[0m Trial 63 finished with value: 0.005283621680995055 and parameters: {'criterion': 'absolute_error', 'bootstrap': 'False', 'max_depth': 9975, 'max_features': 'auto', 'max_leaf_nodes': 2353, 'n_estimators': 439}. Best is trial 47 with value: 0.0045350277529756415.\u001b[0m\n",
      "\u001b[32m[I 2023-05-25 12:39:36,758]\u001b[0m Trial 64 finished with value: 0.006828478340076212 and parameters: {'criterion': 'absolute_error', 'bootstrap': 'False', 'max_depth': 9127, 'max_features': 'auto', 'max_leaf_nodes': 76, 'n_estimators': 491}. Best is trial 47 with value: 0.0045350277529756415.\u001b[0m\n",
      "\u001b[32m[I 2023-05-25 12:39:56,492]\u001b[0m Trial 65 finished with value: 0.005056745008878277 and parameters: {'criterion': 'absolute_error', 'bootstrap': 'False', 'max_depth': 8363, 'max_features': 'auto', 'max_leaf_nodes': 4397, 'n_estimators': 585}. Best is trial 47 with value: 0.0045350277529756415.\u001b[0m\n",
      "\u001b[32m[I 2023-05-25 12:40:14,619]\u001b[0m Trial 66 finished with value: 0.005026424082348591 and parameters: {'criterion': 'absolute_error', 'bootstrap': 'False', 'max_depth': 6968, 'max_features': 'auto', 'max_leaf_nodes': 1926, 'n_estimators': 534}. Best is trial 47 with value: 0.0045350277529756415.\u001b[0m\n",
      "\u001b[32m[I 2023-05-25 12:40:36,092]\u001b[0m Trial 67 finished with value: 0.005202612371762931 and parameters: {'criterion': 'absolute_error', 'bootstrap': 'False', 'max_depth': 473, 'max_features': 'auto', 'max_leaf_nodes': 1274, 'n_estimators': 632}. Best is trial 47 with value: 0.0045350277529756415.\u001b[0m\n",
      "\u001b[32m[I 2023-05-25 12:40:39,038]\u001b[0m Trial 68 finished with value: 0.07398746079833145 and parameters: {'criterion': 'absolute_error', 'bootstrap': 'False', 'max_depth': 5628, 'max_features': 'log2', 'max_leaf_nodes': 2825, 'n_estimators': 255}. Best is trial 47 with value: 0.0045350277529756415.\u001b[0m\n",
      "\u001b[32m[I 2023-05-25 12:40:53,143]\u001b[0m Trial 69 finished with value: 0.005326754493623349 and parameters: {'criterion': 'absolute_error', 'bootstrap': 'True', 'max_depth': 5239, 'max_features': 'auto', 'max_leaf_nodes': 2153, 'n_estimators': 416}. Best is trial 47 with value: 0.0045350277529756415.\u001b[0m\n",
      "\u001b[32m[I 2023-05-25 12:41:22,741]\u001b[0m Trial 70 finished with value: 0.050129166855991114 and parameters: {'criterion': 'poisson', 'bootstrap': 'False', 'max_depth': 6129, 'max_features': 'auto', 'max_leaf_nodes': 6986, 'n_estimators': 362}. Best is trial 47 with value: 0.0045350277529756415.\u001b[0m\n",
      "\u001b[32m[I 2023-05-25 12:41:28,794]\u001b[0m Trial 71 finished with value: 0.005535655493041153 and parameters: {'criterion': 'absolute_error', 'bootstrap': 'False', 'max_depth': 4331, 'max_features': 'auto', 'max_leaf_nodes': 516, 'n_estimators': 179}. Best is trial 47 with value: 0.0045350277529756415.\u001b[0m\n",
      "\u001b[32m[I 2023-05-25 12:41:33,017]\u001b[0m Trial 72 finished with value: 0.00484738288755504 and parameters: {'criterion': 'absolute_error', 'bootstrap': 'False', 'max_depth': 9571, 'max_features': 'auto', 'max_leaf_nodes': 6272, 'n_estimators': 125}. Best is trial 47 with value: 0.0045350277529756415.\u001b[0m\n",
      "\u001b[32m[I 2023-05-25 12:41:37,377]\u001b[0m Trial 73 finished with value: 0.006012207112454379 and parameters: {'criterion': 'absolute_error', 'bootstrap': 'False', 'max_depth': 9502, 'max_features': 'auto', 'max_leaf_nodes': 7609, 'n_estimators': 129}. Best is trial 47 with value: 0.0045350277529756415.\u001b[0m\n",
      "\u001b[32m[I 2023-05-25 12:41:40,372]\u001b[0m Trial 74 finished with value: 0.005807137454063574 and parameters: {'criterion': 'absolute_error', 'bootstrap': 'False', 'max_depth': 8570, 'max_features': 'auto', 'max_leaf_nodes': 5564, 'n_estimators': 88}. Best is trial 47 with value: 0.0045350277529756415.\u001b[0m\n",
      "\u001b[32m[I 2023-05-25 12:41:57,546]\u001b[0m Trial 75 finished with value: 0.005087241974464675 and parameters: {'criterion': 'absolute_error', 'bootstrap': 'False', 'max_depth': 7739, 'max_features': 'auto', 'max_leaf_nodes': 6362, 'n_estimators': 510}. Best is trial 47 with value: 0.0045350277529756415.\u001b[0m\n",
      "\u001b[32m[I 2023-05-25 12:42:02,863]\u001b[0m Trial 76 finished with value: 0.07317908778189014 and parameters: {'criterion': 'absolute_error', 'bootstrap': 'False', 'max_depth': 9211, 'max_features': 'sqrt', 'max_leaf_nodes': 8681, 'n_estimators': 463}. Best is trial 47 with value: 0.0045350277529756415.\u001b[0m\n",
      "\u001b[32m[I 2023-05-25 12:42:29,205]\u001b[0m Trial 77 finished with value: 0.005045628108093455 and parameters: {'criterion': 'absolute_error', 'bootstrap': 'False', 'max_depth': 7054, 'max_features': 'auto', 'max_leaf_nodes': 7954, 'n_estimators': 682}. Best is trial 47 with value: 0.0045350277529756415.\u001b[0m\n",
      "\u001b[32m[I 2023-05-25 12:42:48,601]\u001b[0m Trial 78 finished with value: 0.005132585554938056 and parameters: {'criterion': 'absolute_error', 'bootstrap': 'False', 'max_depth': 9792, 'max_features': 'auto', 'max_leaf_nodes': 312, 'n_estimators': 555}. Best is trial 47 with value: 0.0045350277529756415.\u001b[0m\n",
      "\u001b[32m[I 2023-05-25 12:42:50,155]\u001b[0m Trial 79 finished with value: 0.005717602016653364 and parameters: {'criterion': 'squared_error', 'bootstrap': 'False', 'max_depth': 8954, 'max_features': 'auto', 'max_leaf_nodes': 4512, 'n_estimators': 323}. Best is trial 47 with value: 0.0045350277529756415.\u001b[0m\n",
      "\u001b[32m[I 2023-05-25 12:42:51,919]\u001b[0m Trial 80 finished with value: 0.07575091358338294 and parameters: {'criterion': 'absolute_error', 'bootstrap': 'True', 'max_depth': 9405, 'max_features': 'log2', 'max_leaf_nodes': 6876, 'n_estimators': 155}. Best is trial 47 with value: 0.0045350277529756415.\u001b[0m\n",
      "\u001b[32m[I 2023-05-25 12:42:53,977]\u001b[0m Trial 81 finished with value: 0.004980402018051394 and parameters: {'criterion': 'absolute_error', 'bootstrap': 'False', 'max_depth': 3376, 'max_features': 'auto', 'max_leaf_nodes': 5179, 'n_estimators': 55}. Best is trial 47 with value: 0.0045350277529756415.\u001b[0m\n",
      "\u001b[32m[I 2023-05-25 12:43:03,539]\u001b[0m Trial 82 finished with value: 0.004686798881008041 and parameters: {'criterion': 'absolute_error', 'bootstrap': 'False', 'max_depth': 4852, 'max_features': 'auto', 'max_leaf_nodes': 4795, 'n_estimators': 262}. Best is trial 47 with value: 0.0045350277529756415.\u001b[0m\n",
      "\u001b[32m[I 2023-05-25 12:43:22,561]\u001b[0m Trial 83 finished with value: 0.005027502938061402 and parameters: {'criterion': 'absolute_error', 'bootstrap': 'False', 'max_depth': 4840, 'max_features': 'auto', 'max_leaf_nodes': 3901, 'n_estimators': 495}. Best is trial 47 with value: 0.0045350277529756415.\u001b[0m\n"
     ]
    },
    {
     "name": "stderr",
     "output_type": "stream",
     "text": [
      "\u001b[32m[I 2023-05-25 12:43:34,832]\u001b[0m Trial 84 finished with value: 0.0057615719190339375 and parameters: {'criterion': 'absolute_error', 'bootstrap': 'False', 'max_depth': 5271, 'max_features': 'auto', 'max_leaf_nodes': 4818, 'n_estimators': 268}. Best is trial 47 with value: 0.0045350277529756415.\u001b[0m\n",
      "\u001b[32m[I 2023-05-25 12:43:55,900]\u001b[0m Trial 85 finished with value: 0.005279897731811486 and parameters: {'criterion': 'absolute_error', 'bootstrap': 'False', 'max_depth': 174, 'max_features': 'auto', 'max_leaf_nodes': 983, 'n_estimators': 602}. Best is trial 47 with value: 0.0045350277529756415.\u001b[0m\n",
      "\u001b[32m[I 2023-05-25 12:44:03,504]\u001b[0m Trial 86 finished with value: 0.005308246334743933 and parameters: {'criterion': 'absolute_error', 'bootstrap': 'False', 'max_depth': 4513, 'max_features': 'auto', 'max_leaf_nodes': 4111, 'n_estimators': 215}. Best is trial 47 with value: 0.0045350277529756415.\u001b[0m\n",
      "\u001b[32m[I 2023-05-25 12:44:37,417]\u001b[0m Trial 87 finished with value: 0.04877364608038463 and parameters: {'criterion': 'poisson', 'bootstrap': 'False', 'max_depth': 8180, 'max_features': 'auto', 'max_leaf_nodes': 5628, 'n_estimators': 424}. Best is trial 47 with value: 0.0045350277529756415.\u001b[0m\n",
      "\u001b[32m[I 2023-05-25 12:44:49,884]\u001b[0m Trial 88 finished with value: 0.004782775571104353 and parameters: {'criterion': 'absolute_error', 'bootstrap': 'False', 'max_depth': 3853, 'max_features': 'auto', 'max_leaf_nodes': 6079, 'n_estimators': 388}. Best is trial 47 with value: 0.0045350277529756415.\u001b[0m\n",
      "\u001b[32m[I 2023-05-25 12:45:01,905]\u001b[0m Trial 89 finished with value: 0.00539189321443665 and parameters: {'criterion': 'absolute_error', 'bootstrap': 'False', 'max_depth': 3799, 'max_features': 'auto', 'max_leaf_nodes': 3584, 'n_estimators': 379}. Best is trial 47 with value: 0.0045350277529756415.\u001b[0m\n",
      "\u001b[32m[I 2023-05-25 12:45:05,553]\u001b[0m Trial 90 finished with value: 0.07401771385559665 and parameters: {'criterion': 'absolute_error', 'bootstrap': 'False', 'max_depth': 4089, 'max_features': 'sqrt', 'max_leaf_nodes': 6130, 'n_estimators': 339}. Best is trial 47 with value: 0.0045350277529756415.\u001b[0m\n",
      "\u001b[32m[I 2023-05-25 12:45:17,967]\u001b[0m Trial 91 finished with value: 0.004890128289411462 and parameters: {'criterion': 'absolute_error', 'bootstrap': 'False', 'max_depth': 5098, 'max_features': 'auto', 'max_leaf_nodes': 7613, 'n_estimators': 388}. Best is trial 47 with value: 0.0045350277529756415.\u001b[0m\n",
      "\u001b[32m[I 2023-05-25 12:45:27,447]\u001b[0m Trial 92 finished with value: 0.004970972332725177 and parameters: {'criterion': 'absolute_error', 'bootstrap': 'False', 'max_depth': 4960, 'max_features': 'auto', 'max_leaf_nodes': 7210, 'n_estimators': 296}. Best is trial 47 with value: 0.0045350277529756415.\u001b[0m\n",
      "\u001b[32m[I 2023-05-25 12:45:35,376]\u001b[0m Trial 93 finished with value: 0.005560398142969775 and parameters: {'criterion': 'absolute_error', 'bootstrap': 'False', 'max_depth': 5148, 'max_features': 'auto', 'max_leaf_nodes': 7700, 'n_estimators': 247}. Best is trial 47 with value: 0.0045350277529756415.\u001b[0m\n",
      "\u001b[32m[I 2023-05-25 12:45:52,834]\u001b[0m Trial 94 finished with value: 0.005038315958609276 and parameters: {'criterion': 'absolute_error', 'bootstrap': 'False', 'max_depth': 4553, 'max_features': 'auto', 'max_leaf_nodes': 6104, 'n_estimators': 469}. Best is trial 47 with value: 0.0045350277529756415.\u001b[0m\n",
      "\u001b[32m[I 2023-05-25 12:46:08,947]\u001b[0m Trial 95 finished with value: 0.004985386725985083 and parameters: {'criterion': 'absolute_error', 'bootstrap': 'False', 'max_depth': 4280, 'max_features': 'auto', 'max_leaf_nodes': 7179, 'n_estimators': 393}. Best is trial 47 with value: 0.0045350277529756415.\u001b[0m\n",
      "\u001b[32m[I 2023-05-25 12:46:11,564]\u001b[0m Trial 96 finished with value: 0.006458394595410387 and parameters: {'criterion': 'squared_error', 'bootstrap': 'False', 'max_depth': 6047, 'max_features': 'auto', 'max_leaf_nodes': 5264, 'n_estimators': 357}. Best is trial 47 with value: 0.0045350277529756415.\u001b[0m\n",
      "\u001b[32m[I 2023-05-25 12:46:23,554]\u001b[0m Trial 97 finished with value: 0.005450305247528581 and parameters: {'criterion': 'absolute_error', 'bootstrap': 'False', 'max_depth': 8578, 'max_features': 'auto', 'max_leaf_nodes': 4790, 'n_estimators': 279}. Best is trial 47 with value: 0.0045350277529756415.\u001b[0m\n",
      "\u001b[32m[I 2023-05-25 12:46:44,199]\u001b[0m Trial 98 finished with value: 0.005344549180241053 and parameters: {'criterion': 'absolute_error', 'bootstrap': 'False', 'max_depth': 5398, 'max_features': 'auto', 'max_leaf_nodes': 1631, 'n_estimators': 523}. Best is trial 47 with value: 0.0045350277529756415.\u001b[0m\n",
      "\u001b[32m[I 2023-05-25 12:46:49,505]\u001b[0m Trial 99 finished with value: 0.005026976756314897 and parameters: {'criterion': 'absolute_error', 'bootstrap': 'True', 'max_depth': 5913, 'max_features': 'auto', 'max_leaf_nodes': 5780, 'n_estimators': 149}. Best is trial 47 with value: 0.0045350277529756415.\u001b[0m\n",
      "\u001b[32m[I 2023-05-25 12:46:55,227]\u001b[0m Trial 100 finished with value: 0.07589013829075746 and parameters: {'criterion': 'absolute_error', 'bootstrap': 'False', 'max_depth': 2741, 'max_features': 'log2', 'max_leaf_nodes': 2681, 'n_estimators': 449}. Best is trial 47 with value: 0.0045350277529756415.\u001b[0m\n",
      "\u001b[32m[I 2023-05-25 12:47:15,654]\u001b[0m Trial 101 finished with value: 0.005411674413432483 and parameters: {'criterion': 'absolute_error', 'bootstrap': 'False', 'max_depth': 910, 'max_features': 'auto', 'max_leaf_nodes': 7982, 'n_estimators': 567}. Best is trial 47 with value: 0.0045350277529756415.\u001b[0m\n",
      "\u001b[32m[I 2023-05-25 12:47:31,113]\u001b[0m Trial 102 finished with value: 0.005049746190736297 and parameters: {'criterion': 'absolute_error', 'bootstrap': 'False', 'max_depth': 1952, 'max_features': 'auto', 'max_leaf_nodes': 8486, 'n_estimators': 477}. Best is trial 47 with value: 0.0045350277529756415.\u001b[0m\n",
      "\u001b[32m[I 2023-05-25 12:47:47,576]\u001b[0m Trial 103 finished with value: 0.0051775315138225106 and parameters: {'criterion': 'absolute_error', 'bootstrap': 'False', 'max_depth': 1171, 'max_features': 'auto', 'max_leaf_nodes': 813, 'n_estimators': 432}. Best is trial 47 with value: 0.0045350277529756415.\u001b[0m\n",
      "\u001b[32m[I 2023-05-25 12:47:54,145]\u001b[0m Trial 104 finished with value: 0.005273734500901827 and parameters: {'criterion': 'absolute_error', 'bootstrap': 'False', 'max_depth': 4682, 'max_features': 'auto', 'max_leaf_nodes': 7494, 'n_estimators': 197}. Best is trial 47 with value: 0.0045350277529756415.\u001b[0m\n",
      "\u001b[32m[I 2023-05-25 12:48:08,136]\u001b[0m Trial 105 finished with value: 0.005265985432184868 and parameters: {'criterion': 'absolute_error', 'bootstrap': 'False', 'max_depth': 9061, 'max_features': 'auto', 'max_leaf_nodes': 8133, 'n_estimators': 393}. Best is trial 47 with value: 0.0045350277529756415.\u001b[0m\n",
      "\u001b[32m[I 2023-05-25 12:48:35,191]\u001b[0m Trial 106 finished with value: 0.04675914136085685 and parameters: {'criterion': 'poisson', 'bootstrap': 'False', 'max_depth': 712, 'max_features': 'auto', 'max_leaf_nodes': 9234, 'n_estimators': 315}. Best is trial 47 with value: 0.0045350277529756415.\u001b[0m\n",
      "\u001b[32m[I 2023-05-25 12:48:50,944]\u001b[0m Trial 107 finished with value: 0.005310315193241522 and parameters: {'criterion': 'absolute_error', 'bootstrap': 'False', 'max_depth': 3636, 'max_features': 'auto', 'max_leaf_nodes': 6465, 'n_estimators': 489}. Best is trial 47 with value: 0.0045350277529756415.\u001b[0m\n",
      "\u001b[32m[I 2023-05-25 12:48:59,441]\u001b[0m Trial 108 finished with value: 0.005168228565297612 and parameters: {'criterion': 'absolute_error', 'bootstrap': 'False', 'max_depth': 1497, 'max_features': 'auto', 'max_leaf_nodes': 5444, 'n_estimators': 241}. Best is trial 47 with value: 0.0045350277529756415.\u001b[0m\n",
      "\u001b[32m[I 2023-05-25 12:49:04,619]\u001b[0m Trial 109 finished with value: 0.0766295531745327 and parameters: {'criterion': 'absolute_error', 'bootstrap': 'False', 'max_depth': 5015, 'max_features': 'sqrt', 'max_leaf_nodes': 1209, 'n_estimators': 347}. Best is trial 47 with value: 0.0045350277529756415.\u001b[0m\n",
      "\u001b[32m[I 2023-05-25 12:49:08,142]\u001b[0m Trial 110 finished with value: 0.005428409326952729 and parameters: {'criterion': 'absolute_error', 'bootstrap': 'False', 'max_depth': 9971, 'max_features': 'auto', 'max_leaf_nodes': 4117, 'n_estimators': 109}. Best is trial 47 with value: 0.0045350277529756415.\u001b[0m\n",
      "\u001b[32m[I 2023-05-25 12:49:14,882]\u001b[0m Trial 111 finished with value: 0.005666727084455828 and parameters: {'criterion': 'absolute_error', 'bootstrap': 'False', 'max_depth': 4134, 'max_features': 'auto', 'max_leaf_nodes': 5029, 'n_estimators': 206}. Best is trial 47 with value: 0.0045350277529756415.\u001b[0m\n"
     ]
    },
    {
     "name": "stderr",
     "output_type": "stream",
     "text": [
      "\u001b[32m[I 2023-05-25 12:49:20,321]\u001b[0m Trial 112 finished with value: 0.004603193222775298 and parameters: {'criterion': 'absolute_error', 'bootstrap': 'False', 'max_depth': 3835, 'max_features': 'auto', 'max_leaf_nodes': 4564, 'n_estimators': 170}. Best is trial 47 with value: 0.0045350277529756415.\u001b[0m\n",
      "\u001b[32m[I 2023-05-25 12:49:26,788]\u001b[0m Trial 113 finished with value: 0.004744679229331435 and parameters: {'criterion': 'absolute_error', 'bootstrap': 'False', 'max_depth': 5642, 'max_features': 'auto', 'max_leaf_nodes': 4371, 'n_estimators': 178}. Best is trial 47 with value: 0.0045350277529756415.\u001b[0m\n",
      "\u001b[32m[I 2023-05-25 12:49:33,625]\u001b[0m Trial 114 finished with value: 0.005325706219896429 and parameters: {'criterion': 'absolute_error', 'bootstrap': 'False', 'max_depth': 5744, 'max_features': 'auto', 'max_leaf_nodes': 4551, 'n_estimators': 179}. Best is trial 47 with value: 0.0045350277529756415.\u001b[0m\n",
      "\u001b[32m[I 2023-05-25 12:49:40,544]\u001b[0m Trial 115 finished with value: 0.004765115207265204 and parameters: {'criterion': 'absolute_error', 'bootstrap': 'False', 'max_depth': 5562, 'max_features': 'auto', 'max_leaf_nodes': 4224, 'n_estimators': 227}. Best is trial 47 with value: 0.0045350277529756415.\u001b[0m\n",
      "\u001b[32m[I 2023-05-25 12:49:41,112]\u001b[0m Trial 116 finished with value: 0.006932771290222169 and parameters: {'criterion': 'squared_error', 'bootstrap': 'False', 'max_depth': 6257, 'max_features': 'auto', 'max_leaf_nodes': 4908, 'n_estimators': 128}. Best is trial 47 with value: 0.0045350277529756415.\u001b[0m\n",
      "\u001b[32m[I 2023-05-25 12:49:48,049]\u001b[0m Trial 117 finished with value: 0.0050644556565705295 and parameters: {'criterion': 'absolute_error', 'bootstrap': 'False', 'max_depth': 5521, 'max_features': 'auto', 'max_leaf_nodes': 3687, 'n_estimators': 230}. Best is trial 47 with value: 0.0045350277529756415.\u001b[0m\n",
      "\u001b[32m[I 2023-05-25 12:49:50,332]\u001b[0m Trial 118 finished with value: 0.00499044473222833 and parameters: {'criterion': 'absolute_error', 'bootstrap': 'False', 'max_depth': 6442, 'max_features': 'auto', 'max_leaf_nodes': 3265, 'n_estimators': 74}. Best is trial 47 with value: 0.0045350277529756415.\u001b[0m\n",
      "\u001b[32m[I 2023-05-25 12:49:54,521]\u001b[0m Trial 119 finished with value: 0.005690422992105237 and parameters: {'criterion': 'absolute_error', 'bootstrap': 'True', 'max_depth': 9591, 'max_features': 'auto', 'max_leaf_nodes': 4303, 'n_estimators': 139}. Best is trial 47 with value: 0.0045350277529756415.\u001b[0m\n",
      "\u001b[32m[I 2023-05-25 12:49:59,985]\u001b[0m Trial 120 finished with value: 0.005464853836620956 and parameters: {'criterion': 'absolute_error', 'bootstrap': 'False', 'max_depth': 6769, 'max_features': 'auto', 'max_leaf_nodes': 4110, 'n_estimators': 181}. Best is trial 47 with value: 0.0045350277529756415.\u001b[0m\n",
      "\u001b[32m[I 2023-05-25 12:50:03,428]\u001b[0m Trial 121 finished with value: 0.00593420013662402 and parameters: {'criterion': 'absolute_error', 'bootstrap': 'False', 'max_depth': 5067, 'max_features': 'auto', 'max_leaf_nodes': 4483, 'n_estimators': 110}. Best is trial 47 with value: 0.0045350277529756415.\u001b[0m\n",
      "\u001b[32m[I 2023-05-25 12:50:08,305]\u001b[0m Trial 122 finished with value: 0.005520951848209546 and parameters: {'criterion': 'absolute_error', 'bootstrap': 'False', 'max_depth': 4471, 'max_features': 'auto', 'max_leaf_nodes': 4693, 'n_estimators': 163}. Best is trial 47 with value: 0.0045350277529756415.\u001b[0m\n",
      "\u001b[32m[I 2023-05-25 12:50:16,300]\u001b[0m Trial 123 finished with value: 0.005788120268333801 and parameters: {'criterion': 'absolute_error', 'bootstrap': 'False', 'max_depth': 5385, 'max_features': 'auto', 'max_leaf_nodes': 4636, 'n_estimators': 270}. Best is trial 47 with value: 0.0045350277529756415.\u001b[0m\n",
      "\u001b[32m[I 2023-05-25 12:50:22,775]\u001b[0m Trial 124 finished with value: 0.0057768572809418104 and parameters: {'criterion': 'absolute_error', 'bootstrap': 'False', 'max_depth': 4888, 'max_features': 'auto', 'max_leaf_nodes': 5354, 'n_estimators': 217}. Best is trial 47 with value: 0.0045350277529756415.\u001b[0m\n",
      "\u001b[32m[I 2023-05-25 12:50:30,206]\u001b[0m Trial 125 finished with value: 0.005614398471166589 and parameters: {'criterion': 'absolute_error', 'bootstrap': 'False', 'max_depth': 8792, 'max_features': 'auto', 'max_leaf_nodes': 3712, 'n_estimators': 248}. Best is trial 47 with value: 0.0045350277529756415.\u001b[0m\n",
      "\u001b[32m[I 2023-05-25 12:50:36,160]\u001b[0m Trial 126 finished with value: 0.07431519634187163 and parameters: {'criterion': 'absolute_error', 'bootstrap': 'False', 'max_depth': 3988, 'max_features': 'log2', 'max_leaf_nodes': 4317, 'n_estimators': 591}. Best is trial 47 with value: 0.0045350277529756415.\u001b[0m\n",
      "\u001b[32m[I 2023-05-25 12:50:45,335]\u001b[0m Trial 127 finished with value: 0.005304892895863538 and parameters: {'criterion': 'absolute_error', 'bootstrap': 'False', 'max_depth': 5665, 'max_features': 'auto', 'max_leaf_nodes': 3934, 'n_estimators': 310}. Best is trial 47 with value: 0.0045350277529756415.\u001b[0m\n",
      "\u001b[32m[I 2023-05-25 12:51:06,155]\u001b[0m Trial 128 finished with value: 0.04781462653503906 and parameters: {'criterion': 'poisson', 'bootstrap': 'False', 'max_depth': 5939, 'max_features': 'auto', 'max_leaf_nodes': 3455, 'n_estimators': 289}. Best is trial 47 with value: 0.0045350277529756415.\u001b[0m\n",
      "\u001b[32m[I 2023-05-25 12:51:21,493]\u001b[0m Trial 129 finished with value: 0.005313503134507713 and parameters: {'criterion': 'absolute_error', 'bootstrap': 'False', 'max_depth': 9246, 'max_features': 'auto', 'max_leaf_nodes': 2990, 'n_estimators': 519}. Best is trial 47 with value: 0.0045350277529756415.\u001b[0m\n",
      "\u001b[32m[I 2023-05-25 12:51:38,312]\u001b[0m Trial 130 finished with value: 0.005254255256491913 and parameters: {'criterion': 'absolute_error', 'bootstrap': 'False', 'max_depth': 3652, 'max_features': 'auto', 'max_leaf_nodes': 1741, 'n_estimators': 566}. Best is trial 47 with value: 0.0045350277529756415.\u001b[0m\n",
      "\u001b[32m[I 2023-05-25 12:51:50,304]\u001b[0m Trial 131 finished with value: 0.005262879767759611 and parameters: {'criterion': 'absolute_error', 'bootstrap': 'False', 'max_depth': 7757, 'max_features': 'auto', 'max_leaf_nodes': 4277, 'n_estimators': 404}. Best is trial 47 with value: 0.0045350277529756415.\u001b[0m\n",
      "\u001b[32m[I 2023-05-25 12:52:03,872]\u001b[0m Trial 132 finished with value: 0.004944853649290789 and parameters: {'criterion': 'absolute_error', 'bootstrap': 'False', 'max_depth': 5318, 'max_features': 'auto', 'max_leaf_nodes': 7798, 'n_estimators': 454}. Best is trial 47 with value: 0.0045350277529756415.\u001b[0m\n",
      "\u001b[32m[I 2023-05-25 12:52:19,714]\u001b[0m Trial 133 finished with value: 0.004883217499112578 and parameters: {'criterion': 'absolute_error', 'bootstrap': 'False', 'max_depth': 3221, 'max_features': 'auto', 'max_leaf_nodes': 8222, 'n_estimators': 537}. Best is trial 47 with value: 0.0045350277529756415.\u001b[0m\n",
      "\u001b[32m[I 2023-05-25 12:52:34,782]\u001b[0m Trial 134 finished with value: 0.00509737331928019 and parameters: {'criterion': 'absolute_error', 'bootstrap': 'False', 'max_depth': 3804, 'max_features': 'auto', 'max_leaf_nodes': 7335, 'n_estimators': 507}. Best is trial 47 with value: 0.0045350277529756415.\u001b[0m\n",
      "\u001b[32m[I 2023-05-25 12:52:51,213]\u001b[0m Trial 135 finished with value: 0.00522912004643536 and parameters: {'criterion': 'absolute_error', 'bootstrap': 'False', 'max_depth': 4213, 'max_features': 'auto', 'max_leaf_nodes': 1472, 'n_estimators': 557}. Best is trial 47 with value: 0.0045350277529756415.\u001b[0m\n",
      "\u001b[32m[I 2023-05-25 12:52:56,536]\u001b[0m Trial 136 finished with value: 0.07361360842090531 and parameters: {'criterion': 'absolute_error', 'bootstrap': 'False', 'max_depth': 4775, 'max_features': 'sqrt', 'max_leaf_nodes': 8748, 'n_estimators': 540}. Best is trial 47 with value: 0.0045350277529756415.\u001b[0m\n",
      "\u001b[32m[I 2023-05-25 12:53:02,374]\u001b[0m Trial 137 finished with value: 0.004927059624717105 and parameters: {'criterion': 'absolute_error', 'bootstrap': 'False', 'max_depth': 3122, 'max_features': 'auto', 'max_leaf_nodes': 5076, 'n_estimators': 194}. Best is trial 47 with value: 0.0045350277529756415.\u001b[0m\n",
      "\u001b[32m[I 2023-05-25 12:53:06,257]\u001b[0m Trial 138 finished with value: 0.0062257316176494125 and parameters: {'criterion': 'squared_error', 'bootstrap': 'False', 'max_depth': 4601, 'max_features': 'auto', 'max_leaf_nodes': 2119, 'n_estimators': 971}. Best is trial 47 with value: 0.0045350277529756415.\u001b[0m\n"
     ]
    },
    {
     "name": "stderr",
     "output_type": "stream",
     "text": [
      "\u001b[32m[I 2023-05-25 12:53:24,993]\u001b[0m Trial 139 finished with value: 0.005128665951050206 and parameters: {'criterion': 'absolute_error', 'bootstrap': 'True', 'max_depth': 4364, 'max_features': 'auto', 'max_leaf_nodes': 4899, 'n_estimators': 633}. Best is trial 47 with value: 0.0045350277529756415.\u001b[0m\n",
      "\u001b[32m[I 2023-05-25 12:53:50,659]\u001b[0m Trial 140 finished with value: 0.0050859495382225475 and parameters: {'criterion': 'absolute_error', 'bootstrap': 'False', 'max_depth': 2337, 'max_features': 'auto', 'max_leaf_nodes': 6777, 'n_estimators': 811}. Best is trial 47 with value: 0.0045350277529756415.\u001b[0m\n",
      "\u001b[32m[I 2023-05-25 12:54:03,713]\u001b[0m Trial 141 finished with value: 0.005122314021006433 and parameters: {'criterion': 'absolute_error', 'bootstrap': 'False', 'max_depth': 2819, 'max_features': 'auto', 'max_leaf_nodes': 8298, 'n_estimators': 430}. Best is trial 47 with value: 0.0045350277529756415.\u001b[0m\n",
      "\u001b[32m[I 2023-05-25 12:54:15,044]\u001b[0m Trial 142 finished with value: 0.0055393527572146035 and parameters: {'criterion': 'absolute_error', 'bootstrap': 'False', 'max_depth': 8365, 'max_features': 'auto', 'max_leaf_nodes': 7636, 'n_estimators': 375}. Best is trial 47 with value: 0.0045350277529756415.\u001b[0m\n",
      "\u001b[32m[I 2023-05-25 12:54:31,398]\u001b[0m Trial 143 finished with value: 0.005249536586905619 and parameters: {'criterion': 'absolute_error', 'bootstrap': 'False', 'max_depth': 3387, 'max_features': 'auto', 'max_leaf_nodes': 8190, 'n_estimators': 484}. Best is trial 47 with value: 0.0045350277529756415.\u001b[0m\n",
      "\u001b[32m[I 2023-05-25 12:54:36,509]\u001b[0m Trial 144 finished with value: 0.006472942513335514 and parameters: {'criterion': 'absolute_error', 'bootstrap': 'False', 'max_depth': 5224, 'max_features': 'auto', 'max_leaf_nodes': 7016, 'n_estimators': 167}. Best is trial 47 with value: 0.0045350277529756415.\u001b[0m\n",
      "\u001b[32m[I 2023-05-25 12:54:52,623]\u001b[0m Trial 145 finished with value: 0.005041551860184148 and parameters: {'criterion': 'absolute_error', 'bootstrap': 'False', 'max_depth': 3881, 'max_features': 'auto', 'max_leaf_nodes': 8604, 'n_estimators': 531}. Best is trial 47 with value: 0.0045350277529756415.\u001b[0m\n",
      "\u001b[32m[I 2023-05-25 12:55:07,419]\u001b[0m Trial 146 finished with value: 0.005188663051559451 and parameters: {'criterion': 'absolute_error', 'bootstrap': 'False', 'max_depth': 8578, 'max_features': 'auto', 'max_leaf_nodes': 304, 'n_estimators': 504}. Best is trial 47 with value: 0.0045350277529756415.\u001b[0m\n",
      "\u001b[32m[I 2023-05-25 12:55:09,793]\u001b[0m Trial 147 finished with value: 0.07277013416446304 and parameters: {'criterion': 'absolute_error', 'bootstrap': 'False', 'max_depth': 641, 'max_features': 'log2', 'max_leaf_nodes': 8038, 'n_estimators': 236}. Best is trial 47 with value: 0.0045350277529756415.\u001b[0m\n",
      "\u001b[32m[I 2023-05-25 12:55:17,676]\u001b[0m Trial 148 finished with value: 0.005032163442236597 and parameters: {'criterion': 'absolute_error', 'bootstrap': 'False', 'max_depth': 3233, 'max_features': 'auto', 'max_leaf_nodes': 987, 'n_estimators': 265}. Best is trial 47 with value: 0.0045350277529756415.\u001b[0m\n",
      "\u001b[32m[I 2023-05-25 12:55:31,302]\u001b[0m Trial 149 finished with value: 0.004773194257132094 and parameters: {'criterion': 'absolute_error', 'bootstrap': 'False', 'max_depth': 8002, 'max_features': 'auto', 'max_leaf_nodes': 8408, 'n_estimators': 459}. Best is trial 47 with value: 0.0045350277529756415.\u001b[0m\n",
      "\u001b[32m[I 2023-05-25 12:55:35,733]\u001b[0m Trial 150 finished with value: 0.005249635080385037 and parameters: {'criterion': 'absolute_error', 'bootstrap': 'False', 'max_depth': 7144, 'max_features': 'auto', 'max_leaf_nodes': 9061, 'n_estimators': 148}. Best is trial 47 with value: 0.0045350277529756415.\u001b[0m\n",
      "\u001b[32m[I 2023-05-25 12:55:49,660]\u001b[0m Trial 151 finished with value: 0.005469486706528626 and parameters: {'criterion': 'absolute_error', 'bootstrap': 'False', 'max_depth': 8031, 'max_features': 'auto', 'max_leaf_nodes': 9704, 'n_estimators': 470}. Best is trial 47 with value: 0.0045350277529756415.\u001b[0m\n",
      "\u001b[32m[I 2023-05-25 12:56:03,065]\u001b[0m Trial 152 finished with value: 0.0051797212953733785 and parameters: {'criterion': 'absolute_error', 'bootstrap': 'False', 'max_depth': 7445, 'max_features': 'auto', 'max_leaf_nodes': 8373, 'n_estimators': 453}. Best is trial 47 with value: 0.0045350277529756415.\u001b[0m\n",
      "\u001b[32m[I 2023-05-25 12:56:15,274]\u001b[0m Trial 153 finished with value: 0.005200579665484974 and parameters: {'criterion': 'absolute_error', 'bootstrap': 'False', 'max_depth': 8176, 'max_features': 'auto', 'max_leaf_nodes': 8942, 'n_estimators': 413}. Best is trial 47 with value: 0.0045350277529756415.\u001b[0m\n",
      "\u001b[32m[I 2023-05-25 12:56:21,475]\u001b[0m Trial 154 finished with value: 0.005506982829887165 and parameters: {'criterion': 'absolute_error', 'bootstrap': 'False', 'max_depth': 5068, 'max_features': 'auto', 'max_leaf_nodes': 7883, 'n_estimators': 209}. Best is trial 47 with value: 0.0045350277529756415.\u001b[0m\n",
      "\u001b[32m[I 2023-05-25 12:56:56,318]\u001b[0m Trial 155 finished with value: 0.2343546899622514 and parameters: {'criterion': 'poisson', 'bootstrap': 'False', 'max_depth': 287, 'max_features': 'auto', 'max_leaf_nodes': 557, 'n_estimators': 579}. Best is trial 47 with value: 0.0045350277529756415.\u001b[0m\n",
      "\u001b[32m[I 2023-05-25 12:57:09,123]\u001b[0m Trial 156 finished with value: 0.005148019308575696 and parameters: {'criterion': 'absolute_error', 'bootstrap': 'False', 'max_depth': 5557, 'max_features': 'auto', 'max_leaf_nodes': 4672, 'n_estimators': 432}. Best is trial 47 with value: 0.0045350277529756415.\u001b[0m\n",
      "\u001b[32m[I 2023-05-25 12:57:23,528]\u001b[0m Trial 157 finished with value: 0.005453728873871278 and parameters: {'criterion': 'absolute_error', 'bootstrap': 'False', 'max_depth': 9337, 'max_features': 'auto', 'max_leaf_nodes': 8469, 'n_estimators': 485}. Best is trial 47 with value: 0.0045350277529756415.\u001b[0m\n",
      "\u001b[32m[I 2023-05-25 12:57:33,555]\u001b[0m Trial 158 finished with value: 0.005098930764376764 and parameters: {'criterion': 'absolute_error', 'bootstrap': 'False', 'max_depth': 2542, 'max_features': 'auto', 'max_leaf_nodes': 7477, 'n_estimators': 337}. Best is trial 47 with value: 0.0045350277529756415.\u001b[0m\n",
      "\u001b[32m[I 2023-05-25 12:57:34,782]\u001b[0m Trial 159 finished with value: 0.07588245341201527 and parameters: {'criterion': 'absolute_error', 'bootstrap': 'False', 'max_depth': 9060, 'max_features': 'sqrt', 'max_leaf_nodes': 809, 'n_estimators': 119}. Best is trial 47 with value: 0.0045350277529756415.\u001b[0m\n",
      "\u001b[32m[I 2023-05-25 12:57:50,906]\u001b[0m Trial 160 finished with value: 0.005106813787164327 and parameters: {'criterion': 'absolute_error', 'bootstrap': 'True', 'max_depth': 9799, 'max_features': 'auto', 'max_leaf_nodes': 4166, 'n_estimators': 546}. Best is trial 47 with value: 0.0045350277529756415.\u001b[0m\n",
      "\u001b[32m[I 2023-05-25 12:57:56,542]\u001b[0m Trial 161 finished with value: 0.005383843175570847 and parameters: {'criterion': 'absolute_error', 'bootstrap': 'False', 'max_depth': 2978, 'max_features': 'auto', 'max_leaf_nodes': 5949, 'n_estimators': 189}. Best is trial 47 with value: 0.0045350277529756415.\u001b[0m\n",
      "\u001b[32m[I 2023-05-25 12:58:02,205]\u001b[0m Trial 162 finished with value: 0.004716025673084043 and parameters: {'criterion': 'absolute_error', 'bootstrap': 'False', 'max_depth': 1092, 'max_features': 'auto', 'max_leaf_nodes': 5627, 'n_estimators': 191}. Best is trial 47 with value: 0.0045350277529756415.\u001b[0m\n",
      "\u001b[32m[I 2023-05-25 12:58:09,025]\u001b[0m Trial 163 finished with value: 0.005827981850148867 and parameters: {'criterion': 'absolute_error', 'bootstrap': 'False', 'max_depth': 1272, 'max_features': 'auto', 'max_leaf_nodes': 5803, 'n_estimators': 230}. Best is trial 47 with value: 0.0045350277529756415.\u001b[0m\n",
      "\u001b[32m[I 2023-05-25 12:58:16,494]\u001b[0m Trial 164 finished with value: 0.005111724432838433 and parameters: {'criterion': 'absolute_error', 'bootstrap': 'False', 'max_depth': 1066, 'max_features': 'auto', 'max_leaf_nodes': 1253, 'n_estimators': 252}. Best is trial 47 with value: 0.0045350277529756415.\u001b[0m\n",
      "\u001b[32m[I 2023-05-25 12:58:31,722]\u001b[0m Trial 165 finished with value: 0.004861872026673009 and parameters: {'criterion': 'absolute_error', 'bootstrap': 'False', 'max_depth': 1560, 'max_features': 'auto', 'max_leaf_nodes': 6120, 'n_estimators': 519}. Best is trial 47 with value: 0.0045350277529756415.\u001b[0m\n",
      "\u001b[32m[I 2023-05-25 12:58:47,376]\u001b[0m Trial 166 finished with value: 0.005435662455058382 and parameters: {'criterion': 'absolute_error', 'bootstrap': 'False', 'max_depth': 1584, 'max_features': 'auto', 'max_leaf_nodes': 6172, 'n_estimators': 527}. Best is trial 47 with value: 0.0045350277529756415.\u001b[0m\n"
     ]
    },
    {
     "name": "stderr",
     "output_type": "stream",
     "text": [
      "\u001b[32m[I 2023-05-25 12:59:02,617]\u001b[0m Trial 167 finished with value: 0.005331279738268014 and parameters: {'criterion': 'absolute_error', 'bootstrap': 'False', 'max_depth': 5868, 'max_features': 'auto', 'max_leaf_nodes': 6219, 'n_estimators': 512}. Best is trial 47 with value: 0.0045350277529756415.\u001b[0m\n",
      "\u001b[32m[I 2023-05-25 12:59:03,384]\u001b[0m Trial 168 finished with value: 0.006204086776040838 and parameters: {'criterion': 'squared_error', 'bootstrap': 'False', 'max_depth': 7863, 'max_features': 'auto', 'max_leaf_nodes': 6394, 'n_estimators': 177}. Best is trial 47 with value: 0.0045350277529756415.\u001b[0m\n",
      "\u001b[32m[I 2023-05-25 12:59:21,437]\u001b[0m Trial 169 finished with value: 0.005230932152774431 and parameters: {'criterion': 'absolute_error', 'bootstrap': 'False', 'max_depth': 1928, 'max_features': 'auto', 'max_leaf_nodes': 5690, 'n_estimators': 602}. Best is trial 47 with value: 0.0045350277529756415.\u001b[0m\n",
      "\u001b[32m[I 2023-05-25 12:59:29,760]\u001b[0m Trial 170 finished with value: 0.005236597111748949 and parameters: {'criterion': 'absolute_error', 'bootstrap': 'False', 'max_depth': 8746, 'max_features': 'auto', 'max_leaf_nodes': 6639, 'n_estimators': 280}. Best is trial 47 with value: 0.0045350277529756415.\u001b[0m\n",
      "\u001b[32m[I 2023-05-25 12:59:44,760]\u001b[0m Trial 171 finished with value: 0.005295676121264489 and parameters: {'criterion': 'absolute_error', 'bootstrap': 'False', 'max_depth': 1308, 'max_features': 'auto', 'max_leaf_nodes': 5472, 'n_estimators': 497}. Best is trial 47 with value: 0.0045350277529756415.\u001b[0m\n",
      "\u001b[32m[I 2023-05-25 12:59:58,057]\u001b[0m Trial 172 finished with value: 0.004970500028943664 and parameters: {'criterion': 'absolute_error', 'bootstrap': 'False', 'max_depth': 1759, 'max_features': 'auto', 'max_leaf_nodes': 2546, 'n_estimators': 447}. Best is trial 47 with value: 0.0045350277529756415.\u001b[0m\n",
      "\u001b[32m[I 2023-05-25 13:00:02,118]\u001b[0m Trial 173 finished with value: 0.004397824378885849 and parameters: {'criterion': 'absolute_error', 'bootstrap': 'False', 'max_depth': 926, 'max_features': 'auto', 'max_leaf_nodes': 5950, 'n_estimators': 135}. Best is trial 173 with value: 0.004397824378885849.\u001b[0m\n",
      "\u001b[32m[I 2023-05-25 13:00:04,218]\u001b[0m Trial 174 finished with value: 0.005694129906589677 and parameters: {'criterion': 'absolute_error', 'bootstrap': 'False', 'max_depth': 579, 'max_features': 'auto', 'max_leaf_nodes': 5180, 'n_estimators': 69}. Best is trial 173 with value: 0.004397824378885849.\u001b[0m\n",
      "\u001b[32m[I 2023-05-25 13:00:08,315]\u001b[0m Trial 175 finished with value: 0.005612231425374179 and parameters: {'criterion': 'absolute_error', 'bootstrap': 'False', 'max_depth': 879, 'max_features': 'auto', 'max_leaf_nodes': 6515, 'n_estimators': 137}. Best is trial 173 with value: 0.004397824378885849.\u001b[0m\n",
      "\u001b[32m[I 2023-05-25 13:00:13,105]\u001b[0m Trial 176 finished with value: 0.005275549734984666 and parameters: {'criterion': 'absolute_error', 'bootstrap': 'False', 'max_depth': 959, 'max_features': 'auto', 'max_leaf_nodes': 5878, 'n_estimators': 160}. Best is trial 173 with value: 0.004397824378885849.\u001b[0m\n",
      "\u001b[32m[I 2023-05-25 13:00:19,444]\u001b[0m Trial 177 finished with value: 0.004743500302337368 and parameters: {'criterion': 'absolute_error', 'bootstrap': 'False', 'max_depth': 5409, 'max_features': 'auto', 'max_leaf_nodes': 5593, 'n_estimators': 213}. Best is trial 173 with value: 0.004397824378885849.\u001b[0m\n",
      "\u001b[32m[I 2023-05-25 13:00:22,258]\u001b[0m Trial 178 finished with value: 0.005909538103480315 and parameters: {'criterion': 'absolute_error', 'bootstrap': 'False', 'max_depth': 6101, 'max_features': 'auto', 'max_leaf_nodes': 5698, 'n_estimators': 90}. Best is trial 173 with value: 0.004397824378885849.\u001b[0m\n",
      "\u001b[32m[I 2023-05-25 13:00:28,540]\u001b[0m Trial 179 finished with value: 0.0047642030860322 and parameters: {'criterion': 'absolute_error', 'bootstrap': 'False', 'max_depth': 1059, 'max_features': 'auto', 'max_leaf_nodes': 5365, 'n_estimators': 210}. Best is trial 173 with value: 0.004397824378885849.\u001b[0m\n",
      "\u001b[32m[I 2023-05-25 13:00:35,144]\u001b[0m Trial 180 finished with value: 0.005081881304851012 and parameters: {'criterion': 'absolute_error', 'bootstrap': 'False', 'max_depth': 365, 'max_features': 'auto', 'max_leaf_nodes': 5457, 'n_estimators': 219}. Best is trial 173 with value: 0.004397824378885849.\u001b[0m\n",
      "\u001b[32m[I 2023-05-25 13:00:41,085]\u001b[0m Trial 181 finished with value: 0.005780488761180438 and parameters: {'criterion': 'absolute_error', 'bootstrap': 'False', 'max_depth': 794, 'max_features': 'auto', 'max_leaf_nodes': 6032, 'n_estimators': 198}. Best is trial 173 with value: 0.004397824378885849.\u001b[0m\n",
      "\u001b[32m[I 2023-05-25 13:00:46,578]\u001b[0m Trial 182 finished with value: 0.00567617565029152 and parameters: {'criterion': 'absolute_error', 'bootstrap': 'False', 'max_depth': 1180, 'max_features': 'auto', 'max_leaf_nodes': 5325, 'n_estimators': 183}. Best is trial 173 with value: 0.004397824378885849.\u001b[0m\n",
      "\u001b[32m[I 2023-05-25 13:00:50,971]\u001b[0m Trial 183 finished with value: 0.004774201887116117 and parameters: {'criterion': 'absolute_error', 'bootstrap': 'False', 'max_depth': 5573, 'max_features': 'auto', 'max_leaf_nodes': 5987, 'n_estimators': 146}. Best is trial 173 with value: 0.004397824378885849.\u001b[0m\n",
      "\u001b[32m[I 2023-05-25 13:00:55,387]\u001b[0m Trial 184 finished with value: 0.005089553041973227 and parameters: {'criterion': 'absolute_error', 'bootstrap': 'False', 'max_depth': 5406, 'max_features': 'auto', 'max_leaf_nodes': 5936, 'n_estimators': 148}. Best is trial 173 with value: 0.004397824378885849.\u001b[0m\n",
      "\u001b[32m[I 2023-05-25 13:00:57,118]\u001b[0m Trial 185 finished with value: 0.07541007718304524 and parameters: {'criterion': 'absolute_error', 'bootstrap': 'False', 'max_depth': 5693, 'max_features': 'log2', 'max_leaf_nodes': 5596, 'n_estimators': 168}. Best is trial 173 with value: 0.004397824378885849.\u001b[0m\n",
      "\u001b[32m[I 2023-05-25 13:01:00,721]\u001b[0m Trial 186 finished with value: 0.00512502619809697 and parameters: {'criterion': 'absolute_error', 'bootstrap': 'False', 'max_depth': 5542, 'max_features': 'auto', 'max_leaf_nodes': 5336, 'n_estimators': 119}. Best is trial 173 with value: 0.004397824378885849.\u001b[0m\n",
      "\u001b[32m[I 2023-05-25 13:01:06,836]\u001b[0m Trial 187 finished with value: 0.005542698483664503 and parameters: {'criterion': 'absolute_error', 'bootstrap': 'False', 'max_depth': 1363, 'max_features': 'auto', 'max_leaf_nodes': 6229, 'n_estimators': 204}. Best is trial 173 with value: 0.004397824378885849.\u001b[0m\n",
      "\u001b[32m[I 2023-05-25 13:01:17,011]\u001b[0m Trial 188 finished with value: 0.051170007280638474 and parameters: {'criterion': 'poisson', 'bootstrap': 'False', 'max_depth': 5209, 'max_features': 'auto', 'max_leaf_nodes': 5995, 'n_estimators': 140}. Best is trial 173 with value: 0.004397824378885849.\u001b[0m\n",
      "\u001b[32m[I 2023-05-25 13:01:23,593]\u001b[0m Trial 189 finished with value: 0.005118662290380975 and parameters: {'criterion': 'absolute_error', 'bootstrap': 'False', 'max_depth': 6368, 'max_features': 'auto', 'max_leaf_nodes': 4982, 'n_estimators': 223}. Best is trial 173 with value: 0.004397824378885849.\u001b[0m\n",
      "\u001b[32m[I 2023-05-25 13:01:30,907]\u001b[0m Trial 190 finished with value: 0.005332366069484515 and parameters: {'criterion': 'absolute_error', 'bootstrap': 'False', 'max_depth': 1042, 'max_features': 'auto', 'max_leaf_nodes': 5659, 'n_estimators': 246}. Best is trial 173 with value: 0.004397824378885849.\u001b[0m\n",
      "\u001b[32m[I 2023-05-25 13:01:47,299]\u001b[0m Trial 191 finished with value: 0.005396754915631969 and parameters: {'criterion': 'absolute_error', 'bootstrap': 'False', 'max_depth': 729, 'max_features': 'auto', 'max_leaf_nodes': 6315, 'n_estimators': 560}. Best is trial 173 with value: 0.004397824378885849.\u001b[0m\n",
      "\u001b[32m[I 2023-05-25 13:02:02,715]\u001b[0m Trial 192 finished with value: 0.005172357738850921 and parameters: {'criterion': 'absolute_error', 'bootstrap': 'False', 'max_depth': 5909, 'max_features': 'auto', 'max_leaf_nodes': 4841, 'n_estimators': 524}. Best is trial 173 with value: 0.004397824378885849.\u001b[0m\n",
      "\u001b[32m[I 2023-05-25 13:02:07,810]\u001b[0m Trial 193 finished with value: 0.00458075840719463 and parameters: {'criterion': 'absolute_error', 'bootstrap': 'False', 'max_depth': 5706, 'max_features': 'auto', 'max_leaf_nodes': 5852, 'n_estimators': 172}. Best is trial 173 with value: 0.004397824378885849.\u001b[0m\n",
      "\u001b[32m[I 2023-05-25 13:02:12,329]\u001b[0m Trial 194 finished with value: 0.004551355970038871 and parameters: {'criterion': 'absolute_error', 'bootstrap': 'False', 'max_depth': 5669, 'max_features': 'auto', 'max_leaf_nodes': 5751, 'n_estimators': 152}. Best is trial 173 with value: 0.004397824378885849.\u001b[0m\n"
     ]
    },
    {
     "name": "stderr",
     "output_type": "stream",
     "text": [
      "\u001b[32m[I 2023-05-25 13:02:17,006]\u001b[0m Trial 195 finished with value: 0.0046762910507441606 and parameters: {'criterion': 'absolute_error', 'bootstrap': 'False', 'max_depth': 6613, 'max_features': 'auto', 'max_leaf_nodes': 5808, 'n_estimators': 159}. Best is trial 173 with value: 0.004397824378885849.\u001b[0m\n",
      "\u001b[32m[I 2023-05-25 13:02:21,886]\u001b[0m Trial 196 finished with value: 0.005472490710177545 and parameters: {'criterion': 'absolute_error', 'bootstrap': 'False', 'max_depth': 6644, 'max_features': 'auto', 'max_leaf_nodes': 5693, 'n_estimators': 165}. Best is trial 173 with value: 0.004397824378885849.\u001b[0m\n",
      "\u001b[32m[I 2023-05-25 13:02:24,852]\u001b[0m Trial 197 finished with value: 0.0047352446543604135 and parameters: {'criterion': 'absolute_error', 'bootstrap': 'False', 'max_depth': 6172, 'max_features': 'auto', 'max_leaf_nodes': 5876, 'n_estimators': 99}. Best is trial 173 with value: 0.004397824378885849.\u001b[0m\n",
      "\u001b[32m[I 2023-05-25 13:02:27,850]\u001b[0m Trial 198 finished with value: 0.0045631285818421114 and parameters: {'criterion': 'absolute_error', 'bootstrap': 'True', 'max_depth': 6182, 'max_features': 'auto', 'max_leaf_nodes': 5832, 'n_estimators': 100}. Best is trial 173 with value: 0.004397824378885849.\u001b[0m\n",
      "\u001b[32m[I 2023-05-25 13:02:29,146]\u001b[0m Trial 199 finished with value: 0.07500397641698488 and parameters: {'criterion': 'absolute_error', 'bootstrap': 'True', 'max_depth': 6231, 'max_features': 'sqrt', 'max_leaf_nodes': 5904, 'n_estimators': 124}. Best is trial 173 with value: 0.004397824378885849.\u001b[0m\n"
     ]
    }
   ],
   "source": [
    "study = optuna.create_study(direction=\"minimize\")\n",
    "#start serach \n",
    "study.optimize(randomforest_optuna, n_trials=200)"
   ]
  },
  {
   "cell_type": "code",
   "execution_count": 155,
   "id": "56ca1dc0",
   "metadata": {},
   "outputs": [
    {
     "name": "stdout",
     "output_type": "stream",
     "text": [
      "Number of finished trials:  200\n",
      "Best trial:\n",
      "  Value: 0.004397824378885849\n",
      "  Params: \n",
      "    criterion: absolute_error\n",
      "    bootstrap: False\n",
      "    max_depth: 926\n",
      "    max_features: auto\n",
      "    max_leaf_nodes: 5950\n",
      "    n_estimators: 135\n"
     ]
    }
   ],
   "source": [
    "print(\"Number of finished trials: \", len(study.trials))\n",
    "print(\"Best trial:\")\n",
    "trial = study.best_trial\n",
    "\n",
    "print(\"  Value: {}\".format(trial.value))\n",
    "print(\"  Params: \")\n",
    "\n",
    "params = []\n",
    "\n",
    "for key, value in trial.params.items():\n",
    "    params.append(value)\n",
    "    print(\"    {}: {}\".format(key, value))"
   ]
  },
  {
   "cell_type": "code",
   "execution_count": 156,
   "id": "4ad63fc7",
   "metadata": {},
   "outputs": [
    {
     "name": "stdout",
     "output_type": "stream",
     "text": [
      "R2 using Random Forest: 98.84 %\n"
     ]
    }
   ],
   "source": [
    "rf = RandomForestRegressor(bootstrap= False,max_depth=7407,criterion='squared_error',max_features='log2',max_leaf_nodes= 4365,n_estimators= 59)\n",
    "rf.fit(x_train,y_train)\n",
    "y_pred_rf = rf.predict(x_test)\n",
    "print(\"R2 using Random Forest: {:.2f} %\".format(np.round(r2_score(y_test, y_pred_rf),4)*100))"
   ]
  },
  {
   "cell_type": "code",
   "execution_count": 157,
   "id": "b9dbfacd",
   "metadata": {},
   "outputs": [
    {
     "data": {
      "text/plain": [
       "<matplotlib.collections.PathCollection at 0x2a9ff629c40>"
      ]
     },
     "execution_count": 157,
     "metadata": {},
     "output_type": "execute_result"
    },
    {
     "data": {
      "image/png": "[encoded data removed]",
      "text/plain": [
       "<Figure size 1080x720 with 2 Axes>"
      ]
     },
     "metadata": {
      "needs_background": "light"
     },
     "output_type": "display_data"
    }
   ],
   "source": [
    "plt.figure(figsize = (15,10))\n",
    "plt.subplot(2,2,1)\n",
    "plt.title(' Regression For  Train  Data')\n",
    "plt.scatter(rf.predict(x_train), y_train, color='blue')\n",
    "plt.subplot(2,2,2)\n",
    "plt.title(' Regression For  Test Data')\n",
    "plt.scatter(y_pred, y_test, color='red')"
   ]
  },
  {
   "cell_type": "code",
   "execution_count": 158,
   "id": "be33e621",
   "metadata": {},
   "outputs": [
    {
     "data": {
      "text/html": [
       "<div>\n",
       "<style scoped>\n",
       "    .dataframe tbody tr th:only-of-type {\n",
       "        vertical-align: middle;\n",
       "    }\n",
       "\n",
       "    .dataframe tbody tr th {\n",
       "        vertical-align: top;\n",
       "    }\n",
       "\n",
       "    .dataframe thead th {\n",
       "        text-align: right;\n",
       "    }\n",
       "</style>\n",
       "<table border=\"1\" class=\"dataframe\">\n",
       "  <thead>\n",
       "    <tr style=\"text-align: right;\">\n",
       "      <th></th>\n",
       "      <th>predicted_price</th>\n",
       "      <th>actual_price</th>\n",
       "    </tr>\n",
       "  </thead>\n",
       "  <tbody>\n",
       "    <tr>\n",
       "      <th>0</th>\n",
       "      <td>6.515291</td>\n",
       "      <td>6.514713</td>\n",
       "    </tr>\n",
       "    <tr>\n",
       "      <th>1</th>\n",
       "      <td>5.608298</td>\n",
       "      <td>5.411646</td>\n",
       "    </tr>\n",
       "    <tr>\n",
       "      <th>2</th>\n",
       "      <td>6.004940</td>\n",
       "      <td>5.988961</td>\n",
       "    </tr>\n",
       "    <tr>\n",
       "      <th>3</th>\n",
       "      <td>6.127029</td>\n",
       "      <td>6.136322</td>\n",
       "    </tr>\n",
       "    <tr>\n",
       "      <th>4</th>\n",
       "      <td>7.485270</td>\n",
       "      <td>7.494986</td>\n",
       "    </tr>\n",
       "  </tbody>\n",
       "</table>\n",
       "</div>"
      ],
      "text/plain": [
       "   predicted_price  actual_price\n",
       "0         6.515291      6.514713\n",
       "1         5.608298      5.411646\n",
       "2         6.004940      5.988961\n",
       "3         6.127029      6.136322\n",
       "4         7.485270      7.494986"
      ]
     },
     "execution_count": 158,
     "metadata": {},
     "output_type": "execute_result"
    }
   ],
   "source": [
    "rf_df = pd.DataFrame({\"predicted_price\":y_pred,\"actual_price\":y_test})\n",
    "rf_df.head(5)"
   ]
  },
  {
   "cell_type": "code",
   "execution_count": null,
   "id": "74cfe503",
   "metadata": {},
   "outputs": [],
   "source": []
  }
 ],
 "metadata": {
  "kernelspec": {
   "display_name": "Python 3 (ipykernel)",
   "language": "python",
   "name": "python3"
  },
  "language_info": {
   "codemirror_mode": {
    "name": "ipython",
    "version": 3
   },
   "file_extension": ".py",
   "mimetype": "text/x-python",
   "name": "python",
   "nbconvert_exporter": "python",
   "pygments_lexer": "ipython3",
   "version": "3.9.12"
  }
 },
 "nbformat": 4,
 "nbformat_minor": 5
}
